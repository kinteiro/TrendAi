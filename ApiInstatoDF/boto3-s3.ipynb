{
 "cells": [
  {
   "cell_type": "markdown",
   "metadata": {},
   "source": [
    "<br/>\n",
    "\n",
    "<img src=\"https://uploads-ssl.webflow.com/614b1fe22fa8b90ef41aeffe/6265cb48f9496b1cefc9ab75_logotipo-mbit-39.png\" width=\"200px\" align=\"right\" CLASS=\"TextWrap\" style=\"background-color:#2a3f3f;\">\n",
    "\n",
    "<h1><font color=\"#2a3f3f\" size=5>Introducción a boto3</font></h1>\n",
    "\n",
    "<br/>\n",
    "<div style=\"text-align: right\">\n",
    "<font color=\"#2a3f3f\" size=3>Adrián Sánchez - adrian.sanchez@mbitschool.com</font><br>\n",
    "<font color=\"#2a3f3f\" size=3>Cloud Computing</font><br>\n",
    "</div>\n"
   ]
  },
  {
   "cell_type": "markdown",
   "metadata": {},
   "source": [
    "En esta libreta vamos a interactuar con AWS mediante el SDK de python llamado **boto3**. En el siguiente enlace tenemos la documentación ofical de esta librería:\n",
    "\n",
    "https://boto3.amazonaws.com/v1/documentation/api/latest/index.html\n",
    "\n",
    "Para ello es importante tener instalado el paquete `boto3`, para instalarlo:\n",
    "\n",
    "```\n",
    "sudo pip3 install boto3\n",
    "```"
   ]
  },
  {
   "cell_type": "markdown",
   "metadata": {},
   "source": [
    "Para poder utilizar `boto3` tenemos que importarlo. Con esta librería podemos acceder a todos los servicios de AWS que tenemos disponibles y podremos usarlo de forma programática, es decir, podremos realizar cualquier tipo de acción que haríamos en la consola pero con código."
   ]
  },
  {
   "cell_type": "code",
   "execution_count": 13,
   "metadata": {
    "ExecuteTime": {
     "end_time": "2020-07-04T11:42:02.833260Z",
     "start_time": "2020-07-04T11:42:02.676677Z"
    }
   },
   "outputs": [],
   "source": [
    "import boto3\n",
    "import pandas as pd\n",
    "import json "
   ]
  },
  {
   "cell_type": "markdown",
   "metadata": {},
   "source": [
    "Para poder conectarnos a nuestra cuenta de AWS tenemos que coger las **credenciales** que se nos facilitan cuando iniciamos nuestra cuenta (`Start Lab`). Una vez inicializada nuestra cuenta, en la pestaña `AWS Details` podremos encontrar la credenciales que necesitamos. Copialas en las siguientes variables:"
   ]
  },
  {
   "cell_type": "markdown",
   "metadata": {},
   "source": [
    "Para concectarnos con nuestra cuenta tendemos que definir una `Session` utilizando las credenciales que nos proporcionan, además de establecer la región a la que nos queremos concectar. Por defecto, cuando estemos utilizando **_AWS Academy_ solo podremos utilizar la región de _Northern Virginia_** que tiene este código `us-east-1`."
   ]
  },
  {
   "cell_type": "code",
   "execution_count": 14,
   "metadata": {},
   "outputs": [],
   "source": [
    "with open('boto3keys.json') as json_file:\n",
    "    boto3keys = json.load(json_file)"
   ]
  },
  {
   "cell_type": "code",
   "execution_count": 15,
   "metadata": {},
   "outputs": [],
   "source": [
    "session = boto3.session.Session(**boto3keys)"
   ]
  },
  {
   "cell_type": "code",
   "execution_count": 16,
   "metadata": {},
   "outputs": [
    {
     "data": {
      "text/plain": [
       "Session(region_name='us-east-1')"
      ]
     },
     "execution_count": 16,
     "metadata": {},
     "output_type": "execute_result"
    }
   ],
   "source": [
    "session"
   ]
  },
  {
   "cell_type": "code",
   "execution_count": 17,
   "metadata": {},
   "outputs": [],
   "source": [
    "# session = boto3.session.Session(\n",
    "#  region_name=\"us-east-1\",\n",
    "#  aws_access_key_id=aws_access_key_id,\n",
    "#  aws_secret_access_key=aws_secret_access_key,\n",
    "#  aws_session_token=aws_session_token\n",
    "# )"
   ]
  },
  {
   "cell_type": "markdown",
   "metadata": {},
   "source": [
    "Para elegir el servicio que queremos utilizar, simplemente tenemos que definir un **cliente** del servicio que queremos usar. Por ejemplo, si queremos utilizas `S3` tendremos que crear un cliente de la siguiente forma:"
   ]
  },
  {
   "cell_type": "code",
   "execution_count": 18,
   "metadata": {
    "ExecuteTime": {
     "end_time": "2020-07-04T11:44:33.683236Z",
     "start_time": "2020-07-04T11:44:33.665810Z"
    }
   },
   "outputs": [],
   "source": [
    "s3 = session.client('s3')"
   ]
  },
  {
   "cell_type": "markdown",
   "metadata": {},
   "source": [
    "Una vez tenemos un cliente de un servicio, podemos hacer cualqueir tipo de acción con él. Para ver todo lo que podemos hacer con un cliente de `S3` pudes entrar en [aquí](https://boto3.amazonaws.com/v1/documentation/api/latest/reference/services/s3.html). Vamos a listar todos los _buckets_ que tenemos en nuestra cuenta:"
   ]
  },
  {
   "cell_type": "code",
   "execution_count": 19,
   "metadata": {
    "ExecuteTime": {
     "end_time": "2020-07-04T11:44:40.919341Z",
     "start_time": "2020-07-04T11:44:40.194420Z"
    }
   },
   "outputs": [
    {
     "data": {
      "text/plain": [
       "{'ResponseMetadata': {'RequestId': 'ZXRSKPARG6D66759',\n",
       "  'HostId': 'dmtCK3LkvnwvlndoaXtAS1++RaD3C3xPOowv36FKcVn6KFRu3Fq6+nonR946w0cIlnPhRN3V5rU=',\n",
       "  'HTTPStatusCode': 200,\n",
       "  'HTTPHeaders': {'x-amz-id-2': 'dmtCK3LkvnwvlndoaXtAS1++RaD3C3xPOowv36FKcVn6KFRu3Fq6+nonR946w0cIlnPhRN3V5rU=',\n",
       "   'x-amz-request-id': 'ZXRSKPARG6D66759',\n",
       "   'date': 'Sun, 28 Jan 2024 11:48:12 GMT',\n",
       "   'content-type': 'application/xml',\n",
       "   'transfer-encoding': 'chunked',\n",
       "   'server': 'AmazonS3'},\n",
       "  'RetryAttempts': 0},\n",
       " 'Buckets': [{'Name': 'trendai-bucket-01',\n",
       "   'CreationDate': datetime.datetime(2024, 1, 25, 16, 20, 26, tzinfo=tzutc())}],\n",
       " 'Owner': {'DisplayName': 'awslabsc0w6897514t1702370627',\n",
       "  'ID': '8d7aa38d5be39d4d7b8c6c3ea53b7aa47b130bfec29ac260aaf9e2f7f983880d'}}"
      ]
     },
     "execution_count": 19,
     "metadata": {},
     "output_type": "execute_result"
    }
   ],
   "source": [
    "response = s3.list_buckets()\n",
    "\n",
    "response"
   ]
  },
  {
   "cell_type": "markdown",
   "metadata": {},
   "source": [
    "Como podéis observar, el resultado que obtenemos tiene más metadatos e información ya que lo que hacemos son peticiones _http_ cada vez que hacemos alguna acción de un servicio."
   ]
  },
  {
   "cell_type": "code",
   "execution_count": 20,
   "metadata": {},
   "outputs": [
    {
     "data": {
      "text/plain": [
       "[{'Name': 'trendai-bucket-01',\n",
       "  'CreationDate': datetime.datetime(2024, 1, 25, 16, 20, 26, tzinfo=tzutc())}]"
      ]
     },
     "execution_count": 20,
     "metadata": {},
     "output_type": "execute_result"
    }
   ],
   "source": [
    "response['Buckets']"
   ]
  },
  {
   "cell_type": "markdown",
   "metadata": {},
   "source": [
    "Coge el _bucket_ que hemos creado y guardalo en la siguiente variables: "
   ]
  },
  {
   "cell_type": "code",
   "execution_count": 21,
   "metadata": {
    "ExecuteTime": {
     "end_time": "2020-07-04T11:44:55.875010Z",
     "start_time": "2020-07-04T11:44:55.872310Z"
    }
   },
   "outputs": [],
   "source": [
    "BUCKET_NAME = 'test-mde-mbit'"
   ]
  },
  {
   "cell_type": "code",
   "execution_count": 22,
   "metadata": {},
   "outputs": [],
   "source": [
    "for bucket in response['Buckets']:\n",
    "    BUCKET_NAME = bucket[\"Name\"]"
   ]
  },
  {
   "cell_type": "code",
   "execution_count": 23,
   "metadata": {
    "ExecuteTime": {
     "end_time": "2020-07-04T11:44:56.976384Z",
     "start_time": "2020-07-04T11:44:56.472693Z"
    },
    "scrolled": true
   },
   "outputs": [
    {
     "data": {
      "text/plain": [
       "{'ResponseMetadata': {'RequestId': 'V3Y8CQHTM0GF3SQH',\n",
       "  'HostId': 'CYe+AvSQWTM6EsT3idNXTLRLGg+ee47xdr70M8UFuqvaN9GU8axBwLh7B8Cvi6BrtcVB8z5Ucms=',\n",
       "  'HTTPStatusCode': 200,\n",
       "  'HTTPHeaders': {'x-amz-id-2': 'CYe+AvSQWTM6EsT3idNXTLRLGg+ee47xdr70M8UFuqvaN9GU8axBwLh7B8Cvi6BrtcVB8z5Ucms=',\n",
       "   'x-amz-request-id': 'V3Y8CQHTM0GF3SQH',\n",
       "   'date': 'Sun, 28 Jan 2024 11:48:44 GMT',\n",
       "   'x-amz-bucket-region': 'us-east-1',\n",
       "   'content-type': 'application/xml',\n",
       "   'transfer-encoding': 'chunked',\n",
       "   'server': 'AmazonS3'},\n",
       "  'RetryAttempts': 0},\n",
       " 'IsTruncated': False,\n",
       " 'Marker': '',\n",
       " 'Contents': [{'Key': 'test_df.csv',\n",
       "   'LastModified': datetime.datetime(2024, 1, 25, 16, 25, 18, tzinfo=tzutc()),\n",
       "   'ETag': '\"d02d750e0703858f83a64d3e339262fc\"',\n",
       "   'Size': 16,\n",
       "   'StorageClass': 'STANDARD',\n",
       "   'Owner': {'DisplayName': 'awslabsc0w6897514t1702370627',\n",
       "    'ID': '8d7aa38d5be39d4d7b8c6c3ea53b7aa47b130bfec29ac260aaf9e2f7f983880d'}}],\n",
       " 'Name': 'trendai-bucket-01',\n",
       " 'Prefix': '',\n",
       " 'MaxKeys': 1000,\n",
       " 'EncodingType': 'url'}"
      ]
     },
     "execution_count": 23,
     "metadata": {},
     "output_type": "execute_result"
    }
   ],
   "source": [
    "s3.list_objects(Bucket=BUCKET_NAME)"
   ]
  },
  {
   "cell_type": "markdown",
   "metadata": {},
   "source": [
    "## Interactuando con datos en s3\n",
    "\n",
    "Al igual que podemos listar _buckets_ y objetos que tengamos, S3 puede ser directamente una herramienta muy valiosa para un data scientist a la hora de almacenar datos experimentales de manera persistente.\n",
    "\n",
    "Podemos utilizar `boto3` para descargar ficheros desde S3 y cargarlos en librerías de python de analítica como `pandas`.\n",
    "\n",
    "Vamos a descargarnos el fichero `logo.jpeg`. Para descargarnos cualquier tipo de fichero o dato necesitaremos 2 parámetros:\n",
    "\n",
    "- _Bucket_: nombre del bucket donde se encuentran los datos.\n",
    "- _Key_: nombre/ruta donde se encuentran los ficheros en el bucket."
   ]
  },
  {
   "cell_type": "code",
   "execution_count": 25,
   "metadata": {
    "ExecuteTime": {
     "end_time": "2020-07-04T11:44:59.842283Z",
     "start_time": "2020-07-04T11:44:59.592603Z"
    }
   },
   "outputs": [],
   "source": [
    "# s3.download_file(Bucket=BUCKET_NAME, Key='logo.jpeg', Filename='/tmp/logo-cloud.jpeg')"
   ]
  },
  {
   "cell_type": "code",
   "execution_count": 26,
   "metadata": {
    "ExecuteTime": {
     "end_time": "2020-07-04T11:45:01.507589Z",
     "start_time": "2020-07-04T11:45:01.374159Z"
    }
   },
   "outputs": [
    {
     "name": "stdout",
     "output_type": "stream",
     "text": [
      "FirstBootAfterUpdate\n",
      "FirstBootCleanupHandled\n",
      "\u001b[32mSublime Merge.c0309bad0e89a2a7fa8e8665e86ed26a.b20fb16dfa6d178d8ae1cc90b5888899.sock\u001b[m\u001b[m\n",
      "\u001b[34mcom.apple.launchd.4xhJQMzFrO\u001b[m\u001b[m\n",
      "\u001b[32mmysql.sock\u001b[m\u001b[m\n",
      "mysql.sock.lock\n",
      "\u001b[32mmysqlx.sock\u001b[m\u001b[m\n",
      "mysqlx.sock.lock\n",
      "\u001b[34mpowerlog\u001b[m\u001b[m\n",
      "\u001b[34mtmp-mount-WEXfhQ\u001b[m\u001b[m\n"
     ]
    }
   ],
   "source": [
    "!ls /tmp/"
   ]
  },
  {
   "cell_type": "markdown",
   "metadata": {},
   "source": [
    "De esta forma hemos descargado ficheros desde S3, también podemos descargar los ficheros directamente en un buffer (_object_) temporal:"
   ]
  },
  {
   "cell_type": "code",
   "execution_count": 27,
   "metadata": {
    "ExecuteTime": {
     "end_time": "2020-07-04T11:45:09.658741Z",
     "start_time": "2020-07-04T11:45:09.074184Z"
    }
   },
   "outputs": [
    {
     "ename": "NoSuchKey",
     "evalue": "An error occurred (NoSuchKey) when calling the GetObject operation: The specified key does not exist.",
     "output_type": "error",
     "traceback": [
      "\u001b[0;31m---------------------------------------------------------------------------\u001b[0m",
      "\u001b[0;31mNoSuchKey\u001b[0m                                 Traceback (most recent call last)",
      "Cell \u001b[0;32mIn[27], line 1\u001b[0m\n\u001b[0;32m----> 1\u001b[0m obj \u001b[38;5;241m=\u001b[39m \u001b[43ms3\u001b[49m\u001b[38;5;241;43m.\u001b[39;49m\u001b[43mget_object\u001b[49m\u001b[43m(\u001b[49m\u001b[43mBucket\u001b[49m\u001b[38;5;241;43m=\u001b[39;49m\u001b[43mBUCKET_NAME\u001b[49m\u001b[43m,\u001b[49m\u001b[43m \u001b[49m\u001b[43mKey\u001b[49m\u001b[38;5;241;43m=\u001b[39;49m\u001b[38;5;124;43m'\u001b[39;49m\u001b[38;5;124;43mlogo.jpeg\u001b[39;49m\u001b[38;5;124;43m'\u001b[39;49m\u001b[43m)\u001b[49m\n",
      "File \u001b[0;32m~/.local/share/virtualenvs/TrendAi_repo-WZqMEwY8/lib/python3.10/site-packages/botocore/client.py:553\u001b[0m, in \u001b[0;36mClientCreator._create_api_method.<locals>._api_call\u001b[0;34m(self, *args, **kwargs)\u001b[0m\n\u001b[1;32m    549\u001b[0m     \u001b[38;5;28;01mraise\u001b[39;00m \u001b[38;5;167;01mTypeError\u001b[39;00m(\n\u001b[1;32m    550\u001b[0m         \u001b[38;5;124mf\u001b[39m\u001b[38;5;124m\"\u001b[39m\u001b[38;5;132;01m{\u001b[39;00mpy_operation_name\u001b[38;5;132;01m}\u001b[39;00m\u001b[38;5;124m() only accepts keyword arguments.\u001b[39m\u001b[38;5;124m\"\u001b[39m\n\u001b[1;32m    551\u001b[0m     )\n\u001b[1;32m    552\u001b[0m \u001b[38;5;66;03m# The \"self\" in this scope is referring to the BaseClient.\u001b[39;00m\n\u001b[0;32m--> 553\u001b[0m \u001b[38;5;28;01mreturn\u001b[39;00m \u001b[38;5;28;43mself\u001b[39;49m\u001b[38;5;241;43m.\u001b[39;49m\u001b[43m_make_api_call\u001b[49m\u001b[43m(\u001b[49m\u001b[43moperation_name\u001b[49m\u001b[43m,\u001b[49m\u001b[43m \u001b[49m\u001b[43mkwargs\u001b[49m\u001b[43m)\u001b[49m\n",
      "File \u001b[0;32m~/.local/share/virtualenvs/TrendAi_repo-WZqMEwY8/lib/python3.10/site-packages/botocore/client.py:1009\u001b[0m, in \u001b[0;36mBaseClient._make_api_call\u001b[0;34m(self, operation_name, api_params)\u001b[0m\n\u001b[1;32m   1005\u001b[0m     error_code \u001b[38;5;241m=\u001b[39m error_info\u001b[38;5;241m.\u001b[39mget(\u001b[38;5;124m\"\u001b[39m\u001b[38;5;124mQueryErrorCode\u001b[39m\u001b[38;5;124m\"\u001b[39m) \u001b[38;5;129;01mor\u001b[39;00m error_info\u001b[38;5;241m.\u001b[39mget(\n\u001b[1;32m   1006\u001b[0m         \u001b[38;5;124m\"\u001b[39m\u001b[38;5;124mCode\u001b[39m\u001b[38;5;124m\"\u001b[39m\n\u001b[1;32m   1007\u001b[0m     )\n\u001b[1;32m   1008\u001b[0m     error_class \u001b[38;5;241m=\u001b[39m \u001b[38;5;28mself\u001b[39m\u001b[38;5;241m.\u001b[39mexceptions\u001b[38;5;241m.\u001b[39mfrom_code(error_code)\n\u001b[0;32m-> 1009\u001b[0m     \u001b[38;5;28;01mraise\u001b[39;00m error_class(parsed_response, operation_name)\n\u001b[1;32m   1010\u001b[0m \u001b[38;5;28;01melse\u001b[39;00m:\n\u001b[1;32m   1011\u001b[0m     \u001b[38;5;28;01mreturn\u001b[39;00m parsed_response\n",
      "\u001b[0;31mNoSuchKey\u001b[0m: An error occurred (NoSuchKey) when calling the GetObject operation: The specified key does not exist."
     ]
    }
   ],
   "source": [
    "obj = s3.get_object(Bucket=BUCKET_NAME, Key='logo.jpeg')"
   ]
  },
  {
   "cell_type": "code",
   "execution_count": null,
   "metadata": {},
   "outputs": [],
   "source": [
    "obj"
   ]
  },
  {
   "cell_type": "markdown",
   "metadata": {},
   "source": [
    "En la respuesta tenemos un campo `Body` donde está el contenido de nuestro fichero. Para poder acceder a él debemos hacerlo de la siguiente forma:"
   ]
  },
  {
   "cell_type": "code",
   "execution_count": 16,
   "metadata": {},
   "outputs": [
    {
     "ename": "NameError",
     "evalue": "name 'obj' is not defined",
     "output_type": "error",
     "traceback": [
      "\u001b[0;31m---------------------------------------------------------------------------\u001b[0m",
      "\u001b[0;31mNameError\u001b[0m                                 Traceback (most recent call last)",
      "Cell \u001b[0;32mIn[16], line 1\u001b[0m\n\u001b[0;32m----> 1\u001b[0m \u001b[43mobj\u001b[49m[\u001b[38;5;124m'\u001b[39m\u001b[38;5;124mBody\u001b[39m\u001b[38;5;124m'\u001b[39m]\n",
      "\u001b[0;31mNameError\u001b[0m: name 'obj' is not defined"
     ]
    }
   ],
   "source": [
    "obj['Body']"
   ]
  },
  {
   "cell_type": "code",
   "execution_count": 28,
   "metadata": {},
   "outputs": [
    {
     "ename": "NameError",
     "evalue": "name 'obj' is not defined",
     "output_type": "error",
     "traceback": [
      "\u001b[0;31m---------------------------------------------------------------------------\u001b[0m",
      "\u001b[0;31mNameError\u001b[0m                                 Traceback (most recent call last)",
      "Cell \u001b[0;32mIn[28], line 2\u001b[0m\n\u001b[1;32m      1\u001b[0m \u001b[38;5;28;01mwith\u001b[39;00m \u001b[38;5;28mopen\u001b[39m(\u001b[38;5;124m'\u001b[39m\u001b[38;5;124m/tmp/logo-s3.jpeg\u001b[39m\u001b[38;5;124m'\u001b[39m, \u001b[38;5;124m'\u001b[39m\u001b[38;5;124mwb\u001b[39m\u001b[38;5;124m'\u001b[39m) \u001b[38;5;28;01mas\u001b[39;00m f:\n\u001b[0;32m----> 2\u001b[0m     f\u001b[38;5;241m.\u001b[39mwrite(\u001b[43mobj\u001b[49m[\u001b[38;5;124m'\u001b[39m\u001b[38;5;124mBody\u001b[39m\u001b[38;5;124m'\u001b[39m]\u001b[38;5;241m.\u001b[39mread())\n",
      "\u001b[0;31mNameError\u001b[0m: name 'obj' is not defined"
     ]
    }
   ],
   "source": [
    "with open('/tmp/logo-s3.jpeg', 'wb') as f:\n",
    "    f.write(obj['Body'].read())"
   ]
  },
  {
   "cell_type": "code",
   "execution_count": 29,
   "metadata": {},
   "outputs": [
    {
     "name": "stdout",
     "output_type": "stream",
     "text": [
      "\u001b[35m/tmp\u001b[m\u001b[m\n"
     ]
    }
   ],
   "source": [
    "!ls /tmp"
   ]
  },
  {
   "cell_type": "code",
   "execution_count": null,
   "metadata": {},
   "outputs": [],
   "source": [
    "obj['Body'].read()"
   ]
  },
  {
   "cell_type": "code",
   "execution_count": 26,
   "metadata": {},
   "outputs": [],
   "source": [
    "# create a test df with some data\n",
    "\n",
    "df = pd.DataFrame({'a': [1,2,3], 'b': [4,5,6]})\n",
    "\n",
    "\n",
    "# change df name \n",
    "\n",
    "df.name = 'test_df'"
   ]
  },
  {
   "cell_type": "code",
   "execution_count": null,
   "metadata": {},
   "outputs": [],
   "source": []
  },
  {
   "cell_type": "markdown",
   "metadata": {},
   "source": []
  },
  {
   "cell_type": "code",
   "execution_count": 31,
   "metadata": {},
   "outputs": [
    {
     "data": {
      "text/plain": [
       "{'ResponseMetadata': {'RequestId': '8ZESN24SZ3VKPDHS',\n",
       "  'HostId': 'NzvU9S/Xr2B32ptJU1FN+2o8miulphfnFZRlNTv7uobkM/7fGRpjrs6JZUaqh9fLMxMOnIfug/NsmooxtOsx1w==',\n",
       "  'HTTPStatusCode': 200,\n",
       "  'HTTPHeaders': {'x-amz-id-2': 'NzvU9S/Xr2B32ptJU1FN+2o8miulphfnFZRlNTv7uobkM/7fGRpjrs6JZUaqh9fLMxMOnIfug/NsmooxtOsx1w==',\n",
       "   'x-amz-request-id': '8ZESN24SZ3VKPDHS',\n",
       "   'date': 'Thu, 25 Jan 2024 16:25:18 GMT',\n",
       "   'x-amz-server-side-encryption': 'AES256',\n",
       "   'etag': '\"d02d750e0703858f83a64d3e339262fc\"',\n",
       "   'server': 'AmazonS3',\n",
       "   'content-length': '0'},\n",
       "  'RetryAttempts': 0},\n",
       " 'ETag': '\"d02d750e0703858f83a64d3e339262fc\"',\n",
       " 'ServerSideEncryption': 'AES256'}"
      ]
     },
     "execution_count": 31,
     "metadata": {},
     "output_type": "execute_result"
    }
   ],
   "source": [
    "# iupload df to s3\n",
    "\n",
    "s3.put_object(Bucket=BUCKET_NAME, Key='test_df.csv', Body=df.to_csv(index=False))"
   ]
  },
  {
   "cell_type": "code",
   "execution_count": 32,
   "metadata": {
    "ExecuteTime": {
     "end_time": "2020-07-04T11:45:10.584079Z",
     "start_time": "2020-07-04T11:45:10.335532Z"
    }
   },
   "outputs": [],
   "source": [
    "# s3.upload_file(Bucket=BUCKET_NAME, Key='logo-s3.jpeg', Filename='/tmp/logo-cloud.jpeg')"
   ]
  },
  {
   "cell_type": "code",
   "execution_count": null,
   "metadata": {},
   "outputs": [],
   "source": []
  }
 ],
 "metadata": {
  "kernelspec": {
   "display_name": "Python 3 (ipykernel)",
   "language": "python",
   "name": "python3"
  },
  "language_info": {
   "codemirror_mode": {
    "name": "ipython",
    "version": 3
   },
   "file_extension": ".py",
   "mimetype": "text/x-python",
   "name": "python",
   "nbconvert_exporter": "python",
   "pygments_lexer": "ipython3",
   "version": "3.10.13"
  },
  "toc": {
   "base_numbering": 1,
   "nav_menu": {},
   "number_sections": false,
   "sideBar": true,
   "skip_h1_title": true,
   "title_cell": "Table of Contents",
   "title_sidebar": "Contents",
   "toc_cell": false,
   "toc_position": {},
   "toc_section_display": true,
   "toc_window_display": false
  }
 },
 "nbformat": 4,
 "nbformat_minor": 4
}
