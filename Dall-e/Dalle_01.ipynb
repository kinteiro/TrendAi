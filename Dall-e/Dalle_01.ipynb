{
 "cells": [
  {
   "cell_type": "code",
   "execution_count": 4,
   "metadata": {},
   "outputs": [],
   "source": [
    "promt = \"\"\"La indumentaria sugiere una referencia a la moda utilitaria y streetwear, \n",
    "        con una clara inclinación hacia la comodidad y la funcionalidad, a la vez que incorpora \n",
    "        tendencias de moda contemporánea en cuanto a la silueta y el uso del logotipo como elemento de diseño. \n",
    "        La paleta de colores y los materiales apuntan a una colección diseñada para el otoño-invierno, \n",
    "        probablemente inspirada en las prendas de exteriores que se combinan con la estética urbana. \n",
    "        La presentación visual podría estar asociada a un desfile de moda o un lanzamiento que \n",
    "        enfatiza la utilidad en condiciones adversas manteniendo un alto estándar de estilo.\"\"\""
   ]
  },
  {
   "cell_type": "code",
   "execution_count": 16,
   "metadata": {},
   "outputs": [],
   "source": [
    "promt = \"\"\"\"Observamos a una modelo caminando por una pasarela, en lo que aparenta ser una presentación de moda con un selecto grupo de espectadores en segundo plano. La modelo porta un conjunto de mezclilla que consta de dos piezas en tonos de azul denim clásico.\n",
    "\n",
    "La chaqueta superior es una pieza distintiva con un diseño que parece fusionar el estilo clásico de una chaqueta de mezclilla y elementos de un blazer formal. El corte es entallado, resaltando la figura de la modelo, con una cintura marcada acentuada por un cinturón ancho de mezclilla que enfatiza la silueta. Los detalles notables incluyen solapas pronunciadas y una hilera doble de botones metálicos que recuerdan los diseños de chaquetas militares. La textura es aparentemente rígida y estructurada, lo cual es típico en prendas de mezclilla de alta calidad.\n",
    "\n",
    "Los pantalones a juego complementan adecuadamente la chaqueta. Presentan un corte recto y clásico, ofreciendo una línea elegante y sofisticada. Esta uniformidad en el diseño y textura crea un efecto visual de monoconjunto, muy en tendencia en la moda contemporánea, pero con claras referencias al trabajo de denim de los años 70 por la forma en que está estructurado el conjunto.\n",
    "\n",
    "La ausencia de otros colores o diseños en el conjunto hace que los detalles de las prendas, como las costuras y los botones, sobresalgan como elementos decorativos y funcionales. La modelo lleva un maquillaje mínimo y el cabello recogido hacia atrás, permitiendo que la atrevida pero refinada elección de vestuario hable por sí misma.\n",
    "\n",
    "En cuanto a referencias específicas, no es posible identificar con certeza a un diseñador o casa de moda sin más contexto, pero el uso innovador de mezclilla y la fina confección señalan hacia una marca que no teme experimentar con los clásicos y redefinir piezas tradicionales dentro de un lenguaje moderno y de alta costura. La combinación de elementos casuales como la mezclilla con cortes más formales es un enfoque contemporáneo que varios diseñadores han explorado en las últimas temporadas.\"\n",
    " \"\"\"\n",
    "\n",
    "promt = promt.replace(\"\\n\", \" \")    "
   ]
  },
  {
   "cell_type": "code",
   "execution_count": 20,
   "metadata": {},
   "outputs": [],
   "source": [
    "from openai import OpenAI\n",
    "client = OpenAI()\n",
    "\n",
    "response = client.images.generate(\n",
    "  model=\"dall-e-3\",\n",
    "  prompt=promt,\n",
    "  size=\"1024x1792\",\n",
    "  style=\"natural\",\n",
    "  quality=\"standard\",\n",
    "  n=1,\n",
    ")\n",
    "\n",
    "image_url = response.data[0].url"
   ]
  },
  {
   "cell_type": "code",
   "execution_count": 21,
   "metadata": {},
   "outputs": [
    {
     "data": {
      "text/plain": [
       "'https://oaidalleapiprodscus.blob.core.windows.net/private/org-dlRgnuTiHnckl2ynduXHAGtS/user-JmCHuGgD9LoojxCrXS74jV9s/img-KggAzCxpGuZgERfajH3LJlCa.png?st=2024-03-22T21%3A36%3A39Z&se=2024-03-22T23%3A36%3A39Z&sp=r&sv=2021-08-06&sr=b&rscd=inline&rsct=image/png&skoid=6aaadede-4fb3-4698-a8f6-684d7786b067&sktid=a48cca56-e6da-484e-a814-9c849652bcb3&skt=2024-03-22T21%3A03%3A23Z&ske=2024-03-23T21%3A03%3A23Z&sks=b&skv=2021-08-06&sig=ObWuPRjJQQ2I/zn/FEegwX0kSycgYuE7zeEbt3dswnU%3D'"
      ]
     },
     "execution_count": 21,
     "metadata": {},
     "output_type": "execute_result"
    }
   ],
   "source": [
    "image_url"
   ]
  },
  {
   "cell_type": "code",
   "execution_count": null,
   "metadata": {},
   "outputs": [],
   "source": []
  }
 ],
 "metadata": {
  "kernelspec": {
   "display_name": "TrendAi_repo-WZqMEwY8",
   "language": "python",
   "name": "python3"
  },
  "language_info": {
   "codemirror_mode": {
    "name": "ipython",
    "version": 3
   },
   "file_extension": ".py",
   "mimetype": "text/x-python",
   "name": "python",
   "nbconvert_exporter": "python",
   "pygments_lexer": "ipython3",
   "version": "3.10.13"
  }
 },
 "nbformat": 4,
 "nbformat_minor": 2
}
