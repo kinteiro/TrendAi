{
 "cells": [
  {
   "cell_type": "code",
   "execution_count": 33,
   "metadata": {},
   "outputs": [],
   "source": [
    "import pandas as pd\n",
    "from openai import OpenAI\n",
    "from pathlib import Path    \n",
    "import json"
   ]
  },
  {
   "cell_type": "markdown",
   "metadata": {},
   "source": [
    "- Cargar la clave de la Api de OPEN-AI almacenada en una variable de entorno .env con notebook magic"
   ]
  },
  {
   "cell_type": "code",
   "execution_count": 35,
   "metadata": {},
   "outputs": [],
   "source": [
    "OPENAI_API_KEY = %env OPENAI_API_KEY\n",
    "OpenAI.api_key = OPENAI_API_KEY"
   ]
  },
  {
   "cell_type": "code",
   "execution_count": 36,
   "metadata": {},
   "outputs": [],
   "source": [
    "_TODAY = pd.Timestamp.today().strftime(\"%Y_%m_%d_%H_%M\")"
   ]
  },
  {
   "cell_type": "code",
   "execution_count": 37,
   "metadata": {},
   "outputs": [],
   "source": [
    "client = OpenAI(\n",
    "    api_key=OPENAI_API_KEY,\n",
    ")"
   ]
  },
  {
   "cell_type": "code",
   "execution_count": 38,
   "metadata": {},
   "outputs": [],
   "source": [
    "data_folder = Path('.').parent / 'data'\n",
    "files = list(Path(data_folder).glob('*.csv'))"
   ]
  },
  {
   "cell_type": "code",
   "execution_count": 39,
   "metadata": {},
   "outputs": [],
   "source": [
    "df = pd.read_csv(files[0])\n",
    "df = df.sample(50)"
   ]
  },
  {
   "cell_type": "code",
   "execution_count": 16,
   "metadata": {},
   "outputs": [],
   "source": [
    "imagen = \"https://www.chio-lecca.edu.pe/cdn/shop/articles/chio-lecca-blog-estilo-y-moda.jpg?v=1673918894\""
   ]
  },
  {
   "cell_type": "code",
   "execution_count": 47,
   "metadata": {},
   "outputs": [],
   "source": [
    "with open (\"image_description_promt.txt\", \"r\") as text_file:\n",
    "    image_descipcion_prompt=text_file.read()"
   ]
  },
  {
   "cell_type": "code",
   "execution_count": 48,
   "metadata": {},
   "outputs": [],
   "source": [
    "with open (\"images_to_promt.json\", \"r\") as json_file:\n",
    "    IMAGES=json.load(json_file)"
   ]
  },
  {
   "cell_type": "markdown",
   "metadata": {},
   "source": [
    "    Modelos de GPT\n",
    "- pt-3.5-turbo: Modelo para descripción de tablas y generación de texto ágil\n",
    "- gpt-4-vision-preview: Modelo para descripción de imagenes, puede procesar imágenes de url "
   ]
  },
  {
   "cell_type": "code",
   "execution_count": 49,
   "metadata": {},
   "outputs": [],
   "source": [
    "gpt_4 = \"gpt-4-vision-preview\""
   ]
  },
  {
   "cell_type": "code",
   "execution_count": 50,
   "metadata": {},
   "outputs": [],
   "source": [
    "system_message = \"\"\"Eres el mejor analista de datos experto en moda, \n",
    "                        diseño marcas de moda y telas, cuando ves una imagen describes \n",
    "                        lo que ves desde los ojos de un experto en moda, \n",
    "                        diseño marcas de moda y telas.\"\"\""
   ]
  },
  {
   "cell_type": "code",
   "execution_count": 51,
   "metadata": {},
   "outputs": [],
   "source": [
    "response = client.chat.completions.create(\n",
    "  model= gpt_4,\n",
    "  messages=[\n",
    "    {\n",
    "      \"role\": \"user\",\n",
    "      \"content\": [\n",
    "        {\"type\": \"text\", \"text\": image_descipcion_prompt},\n",
    "        {\n",
    "          \"type\": \"image_url\",\n",
    "          \"image_url\": {\n",
    "            \"url\": IMAGES[\"image2\"],\n",
    "            \"detail\": \"low\" # \"low\" or \"high\" // TODO: Comprobar gasto de tokens  y si es necesario\n",
    "          },\n",
    "     \n",
    "        },\n",
    "      ],\n",
    "    },\n",
    "      {\n",
    "      \"role\": \"system\",\n",
    "      \"content\": system_message,\n",
    "  },\n",
    "  ],\n",
    "  max_tokens=1000,\n",
    ")"
   ]
  },
  {
   "cell_type": "code",
   "execution_count": 52,
   "metadata": {},
   "outputs": [
    {
     "name": "stdout",
     "output_type": "stream",
     "text": [
      "La ropa que lleva la persona en la imagen tiene pa\n"
     ]
    }
   ],
   "source": [
    "for choice in response.choices:\n",
    "    with open (f\"image_responses/image_response_{_TODAY}.txt\", \"w\") as text_file:\n",
    "        text_file.write(choice.message.content)\n",
    "    print(choice.message.content[:50])"
   ]
  },
  {
   "cell_type": "markdown",
   "metadata": {},
   "source": [
    "---\n"
   ]
  }
 ],
 "metadata": {
  "kernelspec": {
   "display_name": "TrendAi_repo-WZqMEwY8",
   "language": "python",
   "name": "python3"
  },
  "language_info": {
   "codemirror_mode": {
    "name": "ipython",
    "version": 3
   },
   "file_extension": ".py",
   "mimetype": "text/x-python",
   "name": "python",
   "nbconvert_exporter": "python",
   "pygments_lexer": "ipython3",
   "version": "3.10.13"
  }
 },
 "nbformat": 4,
 "nbformat_minor": 2
}
