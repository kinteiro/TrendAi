{
 "cells": [
  {
   "cell_type": "code",
   "execution_count": 1,
   "metadata": {},
   "outputs": [],
   "source": [
    "import pandas as pd\n",
    "from openai import OpenAI\n",
    "from pathlib import Path    "
   ]
  },
  {
   "cell_type": "markdown",
   "metadata": {},
   "source": [
    "- Cargar la clave de la Api de OPEN-AI almacenada en una variable de entorno .env con notebook magic"
   ]
  },
  {
   "cell_type": "code",
   "execution_count": 2,
   "metadata": {},
   "outputs": [],
   "source": [
    "_TODAY = pd.Timestamp.today().strftime(\"%Y_%m_%d_%H_%M\")"
   ]
  },
  {
   "cell_type": "code",
   "execution_count": 3,
   "metadata": {},
   "outputs": [],
   "source": [
    "OPENAI_API_KEY = %env OPENAI_API_KEY\n",
    "OpenAI.api_key = OPENAI_API_KEY"
   ]
  },
  {
   "cell_type": "code",
   "execution_count": 13,
   "metadata": {},
   "outputs": [],
   "source": [
    "client = OpenAI(\n",
    "    api_key=OPENAI_API_KEY,\n",
    ")"
   ]
  },
  {
   "cell_type": "code",
   "execution_count": 25,
   "metadata": {},
   "outputs": [],
   "source": [
    "data_folder = Path.cwd().parent / 'data'\n",
    "files = list(Path(data_folder).glob('*.csv'))"
   ]
  },
  {
   "cell_type": "code",
   "execution_count": 13,
   "metadata": {},
   "outputs": [],
   "source": [
    "df = pd.read_csv(files[0])\n",
    "df = df.sample(50)"
   ]
  },
  {
   "cell_type": "markdown",
   "metadata": {},
   "source": [
    "    Modelos de GPT\n",
    "- pt-3.5-turbo: Modelo para descripción de tablas y generación de texto ágil\n",
    "- gpt-4-vision-preview: Modelo para descripción de imagenes, puede procesar imágenes de url "
   ]
  },
  {
   "cell_type": "code",
   "execution_count": 40,
   "metadata": {},
   "outputs": [],
   "source": [
    "gpt_3 = \"gpt-3.5-turbo\""
   ]
  },
  {
   "cell_type": "code",
   "execution_count": 17,
   "metadata": {},
   "outputs": [],
   "source": [
    "user_message = f\"\"\"\n",
    "                \n",
    "                Te doy la tabla {df}. Tu tarea es analizarla y extraer los datos de la tabla que te indique. Escribe en presente y de forma impersonal. \n",
    "                Información general sobre la tabla\n",
    "\n",
    "                \"\"\""
   ]
  },
  {
   "cell_type": "code",
   "execution_count": 18,
   "metadata": {},
   "outputs": [],
   "source": [
    "system_message = \"\"\"Eres el mejor analista de datos experto en moda, diseño marcas de moda y telas.\"\"\""
   ]
  },
  {
   "cell_type": "code",
   "execution_count": 18,
   "metadata": {},
   "outputs": [],
   "source": [
    "chat_completion = client.chat.completions.create(\n",
    "    messages=[\n",
    "        {\n",
    "            \"role\": \"user\",\n",
    "            \"content\": user_message,\n",
    "        },\n",
    "        {\n",
    "            \"role\": \"system\",\n",
    "            \"content\": system_message,\n",
    "        },\n",
    "    ],\n",
    "    model= gpt_3,\n",
    ")"
   ]
  },
  {
   "cell_type": "code",
   "execution_count": 20,
   "metadata": {},
   "outputs": [
    {
     "name": "stdout",
     "output_type": "stream",
     "text": [
      "La tabla proporcionada contiene información sobre varios productos de moda. Cada fila representa un producto diferente y presenta los siguientes atributos:\n",
      "\n",
      "- ProductID: Identificación única del producto.\n",
      "- ProductName: Nombre del producto.\n",
      "- ProductBrand: Marca del producto.\n",
      "- Gender: Género al que está dirigido el producto (Hombres, Mujeres, Unisex, Niños, etc.).\n",
      "- Price (INR): Precio del producto en rupias indias.\n",
      "- NumImages: Número de imágenes asociadas al producto.\n",
      "- Description: Descripción del producto.\n",
      "- PrimaryColor: Color principal del producto.\n",
      "\n",
      "Puedes utilizar esta tabla para realizar análisis y extraer información sobre los productos de moda, como el precio promedio por género, marcas más populares, colores más comunes, etc. Recuerda utilizar tus habilidades de análisis de datos para obtener información valiosa de la tabla.\n"
     ]
    }
   ],
   "source": [
    "for choice in chat_completion.choices:\n",
    "    print(choice.message.content)"
   ]
  },
  {
   "cell_type": "code",
   "execution_count": 87,
   "metadata": {},
   "outputs": [
    {
     "data": {
      "text/plain": [
       "['Lamentablemente no tengo acceso visual, pero puedo proporcionarte una descripción basada en la información que me has proporcionado.\\n\\nLa imagen a la que haces referencia muestra un gato común europeo. Esta raza de gato suele tener un tamaño mediano y una apariencia atlética. Su pelaje puede variar en color y patrón, ya que no tienen características específicas de color o diseño de pelaje. Por lo general, tienen ojos grandes y expresivos, así como orejas puntiagudas y una nariz pequeña.\\n\\nEl gato de la imagen parece tener un pelaje corto y suave. El color del pelaje no se puede determinar específicamente sin visualizar la imagen, ya que el gato común europeo puede tener una amplia variedad de colores, como blanco, negro, gris, marrón, naranja, entre otros. También puede tener cualquier combinación y patrón de colores, como atigrado, manchado, con zonas blancas, etc.\\n\\nEn general, el gato común europeo es conocido por ser un gato de compañía cariñoso y juguetón. Son conocidos por su buena salud y su resistencia. Son excelentes cazadores, y también pueden adaptarse fácilmente a diferentes entornos y estilos de vida.\\n\\nEspero que esta descripción te sea útil.']"
      ]
     },
     "execution_count": 87,
     "metadata": {},
     "output_type": "execute_result"
    }
   ],
   "source": [
    "[choice.message.content for choice in chat_completion.choices]"
   ]
  },
  {
   "cell_type": "code",
   "execution_count": null,
   "metadata": {},
   "outputs": [],
   "source": []
  }
 ],
 "metadata": {
  "kernelspec": {
   "display_name": "TrendAi_repo-WZqMEwY8",
   "language": "python",
   "name": "python3"
  },
  "language_info": {
   "codemirror_mode": {
    "name": "ipython",
    "version": 3
   },
   "file_extension": ".py",
   "mimetype": "text/x-python",
   "name": "python",
   "nbconvert_exporter": "python",
   "pygments_lexer": "ipython3",
   "version": "3.10.13"
  }
 },
 "nbformat": 4,
 "nbformat_minor": 2
}
