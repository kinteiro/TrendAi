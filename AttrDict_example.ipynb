{
 "cells": [
  {
   "cell_type": "code",
   "execution_count": 58,
   "metadata": {},
   "outputs": [],
   "source": [
    "class AttrDict(dict):\n",
    "    def __init__(self, *args, **kwargs):\n",
    "        super(AttrDict, self).__init__(*args, **kwargs)\n",
    "        self.__dict__ = self\n",
    "\n",
    "\n",
    "ATTRDICT = AttrDict()"
   ]
  },
  {
   "cell_type": "code",
   "execution_count": 59,
   "metadata": {},
   "outputs": [],
   "source": [
    "ATTRDICT.ROOT = '/home/zhengxiawu/work/3d_pose/3d_pose_baseline_pytorch'"
   ]
  },
  {
   "cell_type": "code",
   "execution_count": 60,
   "metadata": {},
   "outputs": [],
   "source": [
    "ATTRDICT.POOP = '/home/zhengxiawu/work/3d_pose/3d_pose_baseline_pytorch/data/3dpw'"
   ]
  },
  {
   "cell_type": "code",
   "execution_count": 61,
   "metadata": {},
   "outputs": [],
   "source": [
    "usernames = [\n",
    "    'jamescharles',\n",
    "    'jeffreestar',\n",
    "    'nikkietutorials',\n",
    "]"
   ]
  },
  {
   "cell_type": "code",
   "execution_count": 62,
   "metadata": {},
   "outputs": [],
   "source": [
    "dict_example = {\n",
    "    \"Hola\": \"Hello\",\n",
    "    \"Adios\": \"Good-bye\",\n",
    "    \"Porfavor\": \"Please\",\n",
    "    \"Gracias\": \"Thank you\",\n",
    "    \"Losiento\": \"Sorry\",\n",
    "    \"Salud\": \"Bless you (after someone sneezes)\"\n",
    "}"
   ]
  },
  {
   "cell_type": "code",
   "execution_count": 63,
   "metadata": {},
   "outputs": [],
   "source": [
    "ATTRDICT.update(dict_example)"
   ]
  },
  {
   "cell_type": "code",
   "execution_count": 64,
   "metadata": {},
   "outputs": [
    {
     "data": {
      "text/plain": [
       "{'ROOT': '/home/zhengxiawu/work/3d_pose/3d_pose_baseline_pytorch',\n",
       " 'POOP': '/home/zhengxiawu/work/3d_pose/3d_pose_baseline_pytorch/data/3dpw',\n",
       " 'Hola': 'Hello',\n",
       " 'Adios': 'Good-bye',\n",
       " 'Porfavor': 'Please',\n",
       " 'Gracias': 'Thank you',\n",
       " 'Losiento': 'Sorry',\n",
       " 'Salud': 'Bless you (after someone sneezes)'}"
      ]
     },
     "execution_count": 64,
     "metadata": {},
     "output_type": "execute_result"
    }
   ],
   "source": [
    "ATTRDICT"
   ]
  },
  {
   "cell_type": "code",
   "execution_count": 65,
   "metadata": {},
   "outputs": [
    {
     "data": {
      "text/plain": [
       "'Sorry'"
      ]
     },
     "execution_count": 65,
     "metadata": {},
     "output_type": "execute_result"
    }
   ],
   "source": [
    "ATTRDICT.Losiento"
   ]
  },
  {
   "cell_type": "code",
   "execution_count": null,
   "metadata": {},
   "outputs": [],
   "source": []
  }
 ],
 "metadata": {
  "kernelspec": {
   "display_name": "TrendAi_repo-WZqMEwY8",
   "language": "python",
   "name": "python3"
  },
  "language_info": {
   "codemirror_mode": {
    "name": "ipython",
    "version": 3
   },
   "file_extension": ".py",
   "mimetype": "text/x-python",
   "name": "python",
   "nbconvert_exporter": "python",
   "pygments_lexer": "ipython3",
   "version": "3.10.13"
  }
 },
 "nbformat": 4,
 "nbformat_minor": 2
}
