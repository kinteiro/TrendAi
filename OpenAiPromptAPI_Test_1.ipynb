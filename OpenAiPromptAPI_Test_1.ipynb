{
 "cells": [
  {
   "cell_type": "code",
   "execution_count": 8,
   "metadata": {},
   "outputs": [],
   "source": [
    "import pandas as pd\n",
    "import os\n",
    "from openai import OpenAI\n",
    "from dotenv import load_dotenv"
   ]
  },
  {
   "cell_type": "code",
   "execution_count": 10,
   "metadata": {},
   "outputs": [],
   "source": [
    "load_dotenv()\n",
    "OPENAI_API_KEY = os.getenv(\"OPENAI_API_KEY\")\n",
    "OpenAI.api_key = OPENAI_API_KEY"
   ]
  },
  {
   "cell_type": "code",
   "execution_count": 41,
   "metadata": {},
   "outputs": [],
   "source": [
    "model_id = \"gpt-3.5-turbo\""
   ]
  },
  {
   "cell_type": "code",
   "execution_count": 38,
   "metadata": {},
   "outputs": [],
   "source": [
    "user_message = \"\"\"\n",
    "                \n",
    "                Te doy la tabla {df_filtrado}. Tu tarea es analizarla y extraer los datos de la tabla que te indique. Escribe en presente y de forma impersonal. \n",
    "                Información general sobre la tabla: ocupación en campings para la provincia de Asturias sobre viajeros residentes en España y en el extranjero.\n",
    "\n",
    "                Información que debe haber en el resumen:\n",
    "                  - Residentes en España:\n",
    "                    - Cuál es el menor número de viajeros que se ha registrado (consulta la columna viajeros). ¿En qué mes y año ocurre?\n",
    "                    - Cuál es el mayor número de viajeros que se ha registrado (consulta la columna viajeros). ¿En qué mes y año ocurre?   \n",
    "                    - Análisis por estaciones.\n",
    "                  - Residentes en el extranjero:\n",
    "                    - Cuál es el menor número de viajeros que se ha registrado (consulta la columna viajeros). ¿En qué mes y año ocurre?\n",
    "                    - Cuál es el mayor número de viajeros que se ha registrado (consulta la columna viajeros). ¿En qué mes y año ocurre?   \n",
    "                    - Análisis por estaciones.\n",
    "                  - Comparación resultados para residentes en España y en el extranjero.\n",
    "\n",
    "\n",
    "                \"\"\""
   ]
  },
  {
   "cell_type": "code",
   "execution_count": 39,
   "metadata": {},
   "outputs": [],
   "source": [
    "system_message = \"\"\"Eres el mejor analista de datos y matemático.\"\"\""
   ]
  },
  {
   "cell_type": "code",
   "execution_count": 40,
   "metadata": {},
   "outputs": [],
   "source": [
    "client = OpenAI(\n",
    "    # This is the default and can be omitted\n",
    "    api_key=os.environ.get(\"OPENAI_API_KEY\"),\n",
    ")"
   ]
  },
  {
   "cell_type": "code",
   "execution_count": 34,
   "metadata": {},
   "outputs": [],
   "source": [
    "chat_completion = client.chat.completions.create(\n",
    "    messages=[\n",
    "        {\n",
    "            \"role\": \"user\",\n",
    "            \"content\": user_message,\n",
    "        },\n",
    "        {\n",
    "            \"role\": \"system\",\n",
    "            \"content\": system_message,\n",
    "        },\n",
    "    ],\n",
    "    model= model_id,\n",
    ")"
   ]
  },
  {
   "cell_type": "code",
   "execution_count": 35,
   "metadata": {},
   "outputs": [
    {
     "data": {
      "text/plain": [
       "ChatCompletion(id='chatcmpl-8bn1coCHWV8GJFjwxpg4anyVgabFX', choices=[Choice(finish_reason='stop', index=0, logprobs=None, message=ChatCompletionMessage(content='¡Hola! Claro que no, no odio a los gatos naranjas. Son una variante hermosa y única de nuestros amigos felinos. De hecho, los gatos naranjas son bastante populares y adorables. Aquí tienes algunas cosas interesantes sobre ellos:\\n\\n1. Pelaje: Los gatos naranjas, como su nombre lo indica, tienen un pelaje de color naranja o incluso un tono más rojizo. Pueden tener diferentes tonalidades, desde un naranja brillante hasta un naranja más apagado.\\n\\n2. Genética: El color naranja en los gatos se debe a la presencia del gen de color \"naranja\" o \"rojo\". Curiosamente, este gen está vinculado al cromosoma X, por lo que la mayoría de los gatos naranjas son machos. Se estima que aproximadamente el 80% de los gatos naranjas son machos.\\n\\n3. Personalidad: Al igual que los gatos de otros colores, los gatos naranjas tienen personalidades únicas. Algunos pueden ser juguetones y extrovertidos, mientras que otros pueden ser más reservados y tranquilos. Sin embargo, en general, se dice que los gatos naranjas son amigables, cariñosos y sociables.\\n\\n4. Mitos y leyendas: A lo largo de la historia, los gatos naranjas han sido objeto de varias creencias y supersticiones. En algunas culturas, se cree que los gatos naranjas traen buena suerte y fortuna. En otras, se piensa que tienen poderes curativos o incluso que ayudan a ahuyentar a los espíritus malignos.\\n\\n5. Raza: Existen muchas razas de gatos que pueden presentar el color naranja en su pelaje. Algunas razas populares que a menudo presentan gatos naranjas son los gatos atigrados, Maine Coon, British Shorthair, Persa y el gato rojo marmoleado.\\n\\nEspero que esta información te haya resultado interesante y te haya ayudado a apreciar la belleza de los gatos naranjas. Son criaturas maravillosas que merecen todo nuestro amor y cuidado.', role='assistant', function_call=None, tool_calls=None))], created=1704017280, model='gpt-3.5-turbo-0613', object='chat.completion', system_fingerprint=None, usage=CompletionUsage(completion_tokens=501, prompt_tokens=39, total_tokens=540))"
      ]
     },
     "execution_count": 35,
     "metadata": {},
     "output_type": "execute_result"
    }
   ],
   "source": [
    "chat_completion"
   ]
  },
  {
   "cell_type": "code",
   "execution_count": 36,
   "metadata": {},
   "outputs": [
    {
     "name": "stdout",
     "output_type": "stream",
     "text": [
      "¡Hola! Claro que no, no odio a los gatos naranjas. Son una variante hermosa y única de nuestros amigos felinos. De hecho, los gatos naranjas son bastante populares y adorables. Aquí tienes algunas cosas interesantes sobre ellos:\n",
      "\n",
      "1. Pelaje: Los gatos naranjas, como su nombre lo indica, tienen un pelaje de color naranja o incluso un tono más rojizo. Pueden tener diferentes tonalidades, desde un naranja brillante hasta un naranja más apagado.\n",
      "\n",
      "2. Genética: El color naranja en los gatos se debe a la presencia del gen de color \"naranja\" o \"rojo\". Curiosamente, este gen está vinculado al cromosoma X, por lo que la mayoría de los gatos naranjas son machos. Se estima que aproximadamente el 80% de los gatos naranjas son machos.\n",
      "\n",
      "3. Personalidad: Al igual que los gatos de otros colores, los gatos naranjas tienen personalidades únicas. Algunos pueden ser juguetones y extrovertidos, mientras que otros pueden ser más reservados y tranquilos. Sin embargo, en general, se dice que los gatos naranjas son amigables, cariñosos y sociables.\n",
      "\n",
      "4. Mitos y leyendas: A lo largo de la historia, los gatos naranjas han sido objeto de varias creencias y supersticiones. En algunas culturas, se cree que los gatos naranjas traen buena suerte y fortuna. En otras, se piensa que tienen poderes curativos o incluso que ayudan a ahuyentar a los espíritus malignos.\n",
      "\n",
      "5. Raza: Existen muchas razas de gatos que pueden presentar el color naranja en su pelaje. Algunas razas populares que a menudo presentan gatos naranjas son los gatos atigrados, Maine Coon, British Shorthair, Persa y el gato rojo marmoleado.\n",
      "\n",
      "Espero que esta información te haya resultado interesante y te haya ayudado a apreciar la belleza de los gatos naranjas. Son criaturas maravillosas que merecen todo nuestro amor y cuidado.\n"
     ]
    }
   ],
   "source": [
    "print(chat_completion.choices[0].message.content)"
   ]
  },
  {
   "cell_type": "code",
   "execution_count": null,
   "metadata": {},
   "outputs": [],
   "source": []
  }
 ],
 "metadata": {
  "kernelspec": {
   "display_name": "TrendAi_repo-WZqMEwY8",
   "language": "python",
   "name": "python3"
  },
  "language_info": {
   "codemirror_mode": {
    "name": "ipython",
    "version": 3
   },
   "file_extension": ".py",
   "mimetype": "text/x-python",
   "name": "python",
   "nbconvert_exporter": "python",
   "pygments_lexer": "ipython3",
   "version": "3.10.13"
  }
 },
 "nbformat": 4,
 "nbformat_minor": 2
}
