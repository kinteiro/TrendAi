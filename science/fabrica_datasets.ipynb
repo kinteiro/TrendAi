{
 "cells": [
  {
   "cell_type": "code",
   "execution_count": 11,
   "metadata": {},
   "outputs": [],
   "source": [
    "import pandas as pd\n",
    "from pathlib import Path\n",
    "import re\n",
    "from io import StringIO\n",
    "import sys"
   ]
  },
  {
   "cell_type": "code",
   "execution_count": 12,
   "metadata": {},
   "outputs": [],
   "source": [
    "_ROOT = Path.cwd().parent "
   ]
  },
  {
   "cell_type": "code",
   "execution_count": 13,
   "metadata": {},
   "outputs": [],
   "source": [
    "sys.path.append(_ROOT.as_posix())\n",
    "from common.s3_service import S3Connector\n",
    "s3 = S3Connector(_ROOT)"
   ]
  },
  {
   "cell_type": "code",
   "execution_count": 14,
   "metadata": {},
   "outputs": [],
   "source": [
    "files = s3.list_files_in_s3(\"gpt-responses\")"
   ]
  },
  {
   "cell_type": "code",
   "execution_count": 18,
   "metadata": {},
   "outputs": [],
   "source": [
    "df_texto = s3.read_csv_from_s3(\"gpt-responses\", files[0])"
   ]
  },
  {
   "cell_type": "code",
   "execution_count": 19,
   "metadata": {},
   "outputs": [
    {
     "name": "stdout",
     "output_type": "stream",
     "text": [
      "No hay duplicados en la lista de URLs\n"
     ]
    }
   ],
   "source": [
    "hay_duplicados = len(df_texto[\"url\"]) != len(set(df_texto[\"url\"]))\n",
    "\n",
    "if hay_duplicados:\n",
    "    print(\"Hay duplicados en la lista de URLs\")\n",
    "else:\n",
    "    print(\"No hay duplicados en la lista de URLs\")"
   ]
  },
  {
   "cell_type": "code",
   "execution_count": 290,
   "metadata": {},
   "outputs": [],
   "source": [
    "ids = [i+ 1 for i in range(len(df_texto[\"url\"]))]"
   ]
  },
  {
   "cell_type": "code",
   "execution_count": 291,
   "metadata": {},
   "outputs": [],
   "source": [
    "# Agregar la lista de IDs como una nueva columna\n",
    "df_texto[\"id_url\"] = ids"
   ]
  },
  {
   "cell_type": "code",
   "execution_count": 292,
   "metadata": {},
   "outputs": [],
   "source": [
    "df_texto[\"image_response_split\"] = df_texto[\"image_response\"].str.split(\";\")"
   ]
  },
  {
   "cell_type": "code",
   "execution_count": 293,
   "metadata": {},
   "outputs": [],
   "source": [
    "df_texto = df_texto.explode(\"image_response_split\")"
   ]
  },
  {
   "cell_type": "code",
   "execution_count": 294,
   "metadata": {},
   "outputs": [],
   "source": [
    "df_texto = df_texto.reset_index()"
   ]
  },
  {
   "cell_type": "code",
   "execution_count": 295,
   "metadata": {},
   "outputs": [],
   "source": [
    "categorias = [\"Número de piezas\", \"\\nDescripción prenda:\\n\", \"\\nZapatos\", \"\\nAccesorios\"]"
   ]
  },
  {
   "cell_type": "code",
   "execution_count": 296,
   "metadata": {},
   "outputs": [],
   "source": [
    "def categorizar(fila):\n",
    "    for categoria in categorias:\n",
    "        if fila[\"image_response_split\"].startswith(categoria):  # Eliminado .str\n",
    "            return categoria\n",
    "    return None\n",
    "\n",
    "df_texto[\"categoria\"] = df_texto.apply(categorizar, axis=1)"
   ]
  },
  {
   "cell_type": "code",
   "execution_count": 297,
   "metadata": {},
   "outputs": [
    {
     "data": {
      "text/plain": [
       "\\nDescripción prenda:\\n    44\n",
       "Número de piezas           29\n",
       "\\nZapatos                  28\n",
       "\\nAccesorios               25\n",
       "Name: categoria, dtype: int64"
      ]
     },
     "execution_count": 297,
     "metadata": {},
     "output_type": "execute_result"
    }
   ],
   "source": [
    "df_texto[\"categoria\"].value_counts()"
   ]
  },
  {
   "cell_type": "code",
   "execution_count": 298,
   "metadata": {},
   "outputs": [],
   "source": [
    "diccionario_cat = {\n",
    "    \"\\nDescripción prenda:\\n\": \"prendas\",\n",
    "    \"Número de piezas\": \"n piezas\",\n",
    "\"\\nZapatos\": \"zapatos\",\n",
    "\"\\nAccesorios\": \"accesorios\"\n",
    "}"
   ]
  },
  {
   "cell_type": "code",
   "execution_count": 299,
   "metadata": {},
   "outputs": [],
   "source": [
    "df_texto[\"etiqueta\"] = df_texto[\"categoria\"].map(diccionario_cat)"
   ]
  },
  {
   "cell_type": "code",
   "execution_count": 300,
   "metadata": {},
   "outputs": [],
   "source": [
    "df_prendas = df_texto[df_texto[\"etiqueta\"]==\"prendas\"]\n",
    "df_accesorios = df_texto[df_texto[\"etiqueta\"]==\"accesorios\"]\n",
    "df_zapatos = df_texto[df_texto[\"etiqueta\"]==\"zapatos\"]\n",
    "df_n_prendas = df_texto[df_texto[\"etiqueta\"]==\"n prendas\"]"
   ]
  },
  {
   "cell_type": "code",
   "execution_count": 301,
   "metadata": {},
   "outputs": [],
   "source": [
    "df_prendas = df_prendas[[\"id_url\",\"image_response_split\"]]\n",
    "df_zapatos = df_prendas[[\"id_url\",\"image_response_split\"]]\n",
    "df_accesorios = df_prendas[[\"id_url\",\"image_response_split\"]]\n",
    "df_n_prendas = df_prendas[[\"id_url\",\"image_response_split\"]]"
   ]
  },
  {
   "cell_type": "code",
   "execution_count": 302,
   "metadata": {},
   "outputs": [
    {
     "data": {
      "text/html": [
       "<div>\n",
       "<style scoped>\n",
       "    .dataframe tbody tr th:only-of-type {\n",
       "        vertical-align: middle;\n",
       "    }\n",
       "\n",
       "    .dataframe tbody tr th {\n",
       "        vertical-align: top;\n",
       "    }\n",
       "\n",
       "    .dataframe thead th {\n",
       "        text-align: right;\n",
       "    }\n",
       "</style>\n",
       "<table border=\"1\" class=\"dataframe\">\n",
       "  <thead>\n",
       "    <tr style=\"text-align: right;\">\n",
       "      <th></th>\n",
       "      <th>id_url</th>\n",
       "      <th>image_response_split</th>\n",
       "      <th>category</th>\n",
       "    </tr>\n",
       "  </thead>\n",
       "  <tbody>\n",
       "    <tr>\n",
       "      <th>1</th>\n",
       "      <td>1</td>\n",
       "      <td>\\nDescripción prenda:\\n - Tipo: Vestido\\n - Co...</td>\n",
       "      <td></td>\n",
       "    </tr>\n",
       "    <tr>\n",
       "      <th>1</th>\n",
       "      <td>1</td>\n",
       "      <td>\\nDescripción prenda:\\n - Tipo: Vestido\\n - Co...</td>\n",
       "      <td>Descripción prenda:</td>\n",
       "    </tr>\n",
       "    <tr>\n",
       "      <th>1</th>\n",
       "      <td>1</td>\n",
       "      <td>\\nDescripción prenda:\\n - Tipo: Vestido\\n - Co...</td>\n",
       "      <td>- Tipo: Vestido</td>\n",
       "    </tr>\n",
       "    <tr>\n",
       "      <th>1</th>\n",
       "      <td>1</td>\n",
       "      <td>\\nDescripción prenda:\\n - Tipo: Vestido\\n - Co...</td>\n",
       "      <td>- Color: Negro</td>\n",
       "    </tr>\n",
       "  </tbody>\n",
       "</table>\n",
       "</div>"
      ],
      "text/plain": [
       "   id_url                               image_response_split  \\\n",
       "1       1  \\nDescripción prenda:\\n - Tipo: Vestido\\n - Co...   \n",
       "1       1  \\nDescripción prenda:\\n - Tipo: Vestido\\n - Co...   \n",
       "1       1  \\nDescripción prenda:\\n - Tipo: Vestido\\n - Co...   \n",
       "1       1  \\nDescripción prenda:\\n - Tipo: Vestido\\n - Co...   \n",
       "\n",
       "              category  \n",
       "1                       \n",
       "1  Descripción prenda:  \n",
       "1      - Tipo: Vestido  \n",
       "1       - Color: Negro  "
      ]
     },
     "execution_count": 302,
     "metadata": {},
     "output_type": "execute_result"
    }
   ],
   "source": [
    "df_prendas[\"category\"]=df_prendas[\"image_response_split\"].str.split(\"\\n\")\n",
    "df_prendas = df_prendas.explode(\"category\")\n",
    "df_prendas.head(4)"
   ]
  },
  {
   "cell_type": "code",
   "execution_count": 307,
   "metadata": {},
   "outputs": [],
   "source": [
    "df_prendas.reset_index(inplace=True)"
   ]
  },
  {
   "cell_type": "code",
   "execution_count": 314,
   "metadata": {},
   "outputs": [],
   "source": [
    "df_prendas = df_prendas[[\"id_url\",\"image_response_split\",\"category\"]]"
   ]
  },
  {
   "cell_type": "code",
   "execution_count": 316,
   "metadata": {},
   "outputs": [],
   "source": [
    "nulito = df_prendas[\"category\"].iloc[0]"
   ]
  },
  {
   "cell_type": "code",
   "execution_count": 317,
   "metadata": {},
   "outputs": [],
   "source": [
    "df_drop = df_prendas[df_prendas[\"category\"]==nulito]"
   ]
  },
  {
   "cell_type": "code",
   "execution_count": 321,
   "metadata": {},
   "outputs": [],
   "source": [
    "indices_eliminar = df_drop.index"
   ]
  },
  {
   "cell_type": "code",
   "execution_count": 325,
   "metadata": {},
   "outputs": [],
   "source": [
    "indices_eliminar = indices_eliminar.to_list()"
   ]
  },
  {
   "cell_type": "code",
   "execution_count": 326,
   "metadata": {},
   "outputs": [],
   "source": [
    "df_prendas = df_prendas.loc[~df_prendas.index.isin(indices_eliminar)]"
   ]
  },
  {
   "cell_type": "code",
   "execution_count": 327,
   "metadata": {},
   "outputs": [
    {
     "data": {
      "text/html": [
       "<div>\n",
       "<style scoped>\n",
       "    .dataframe tbody tr th:only-of-type {\n",
       "        vertical-align: middle;\n",
       "    }\n",
       "\n",
       "    .dataframe tbody tr th {\n",
       "        vertical-align: top;\n",
       "    }\n",
       "\n",
       "    .dataframe thead th {\n",
       "        text-align: right;\n",
       "    }\n",
       "</style>\n",
       "<table border=\"1\" class=\"dataframe\">\n",
       "  <thead>\n",
       "    <tr style=\"text-align: right;\">\n",
       "      <th></th>\n",
       "      <th>id_url</th>\n",
       "      <th>image_response_split</th>\n",
       "      <th>category</th>\n",
       "    </tr>\n",
       "  </thead>\n",
       "  <tbody>\n",
       "    <tr>\n",
       "      <th>1</th>\n",
       "      <td>1</td>\n",
       "      <td>\\nDescripción prenda:\\n - Tipo: Vestido\\n - Co...</td>\n",
       "      <td>Descripción prenda:</td>\n",
       "    </tr>\n",
       "    <tr>\n",
       "      <th>2</th>\n",
       "      <td>1</td>\n",
       "      <td>\\nDescripción prenda:\\n - Tipo: Vestido\\n - Co...</td>\n",
       "      <td>- Tipo: Vestido</td>\n",
       "    </tr>\n",
       "    <tr>\n",
       "      <th>3</th>\n",
       "      <td>1</td>\n",
       "      <td>\\nDescripción prenda:\\n - Tipo: Vestido\\n - Co...</td>\n",
       "      <td>- Color: Negro</td>\n",
       "    </tr>\n",
       "    <tr>\n",
       "      <th>4</th>\n",
       "      <td>1</td>\n",
       "      <td>\\nDescripción prenda:\\n - Tipo: Vestido\\n - Co...</td>\n",
       "      <td>- Material: Vinilo</td>\n",
       "    </tr>\n",
       "    <tr>\n",
       "      <th>5</th>\n",
       "      <td>1</td>\n",
       "      <td>\\nDescripción prenda:\\n - Tipo: Vestido\\n - Co...</td>\n",
       "      <td>- Categoría: Mujer</td>\n",
       "    </tr>\n",
       "    <tr>\n",
       "      <th>...</th>\n",
       "      <td>...</td>\n",
       "      <td>...</td>\n",
       "      <td>...</td>\n",
       "    </tr>\n",
       "    <tr>\n",
       "      <th>639</th>\n",
       "      <td>29</td>\n",
       "      <td>\\nDescripción prenda:\\n - Tipo: Top\\n - Color:...</td>\n",
       "      <td>- Mangas: Cortas</td>\n",
       "    </tr>\n",
       "    <tr>\n",
       "      <th>640</th>\n",
       "      <td>29</td>\n",
       "      <td>\\nDescripción prenda:\\n - Tipo: Top\\n - Color:...</td>\n",
       "      <td>- Cuello: Redondo</td>\n",
       "    </tr>\n",
       "    <tr>\n",
       "      <th>641</th>\n",
       "      <td>29</td>\n",
       "      <td>\\nDescripción prenda:\\n - Tipo: Top\\n - Color:...</td>\n",
       "      <td>- Escote: N/A</td>\n",
       "    </tr>\n",
       "    <tr>\n",
       "      <th>642</th>\n",
       "      <td>29</td>\n",
       "      <td>\\nDescripción prenda:\\n - Tipo: Top\\n - Color:...</td>\n",
       "      <td>- Largo: Corto</td>\n",
       "    </tr>\n",
       "    <tr>\n",
       "      <th>643</th>\n",
       "      <td>29</td>\n",
       "      <td>\\nDescripción prenda:\\n - Tipo: Top\\n - Color:...</td>\n",
       "      <td>- Detalles: Plumas</td>\n",
       "    </tr>\n",
       "  </tbody>\n",
       "</table>\n",
       "<p>557 rows × 3 columns</p>\n",
       "</div>"
      ],
      "text/plain": [
       "     id_url                               image_response_split  \\\n",
       "1         1  \\nDescripción prenda:\\n - Tipo: Vestido\\n - Co...   \n",
       "2         1  \\nDescripción prenda:\\n - Tipo: Vestido\\n - Co...   \n",
       "3         1  \\nDescripción prenda:\\n - Tipo: Vestido\\n - Co...   \n",
       "4         1  \\nDescripción prenda:\\n - Tipo: Vestido\\n - Co...   \n",
       "5         1  \\nDescripción prenda:\\n - Tipo: Vestido\\n - Co...   \n",
       "..      ...                                                ...   \n",
       "639      29  \\nDescripción prenda:\\n - Tipo: Top\\n - Color:...   \n",
       "640      29  \\nDescripción prenda:\\n - Tipo: Top\\n - Color:...   \n",
       "641      29  \\nDescripción prenda:\\n - Tipo: Top\\n - Color:...   \n",
       "642      29  \\nDescripción prenda:\\n - Tipo: Top\\n - Color:...   \n",
       "643      29  \\nDescripción prenda:\\n - Tipo: Top\\n - Color:...   \n",
       "\n",
       "                category  \n",
       "1    Descripción prenda:  \n",
       "2        - Tipo: Vestido  \n",
       "3         - Color: Negro  \n",
       "4     - Material: Vinilo  \n",
       "5     - Categoría: Mujer  \n",
       "..                   ...  \n",
       "639     - Mangas: Cortas  \n",
       "640    - Cuello: Redondo  \n",
       "641        - Escote: N/A  \n",
       "642       - Largo: Corto  \n",
       "643   - Detalles: Plumas  \n",
       "\n",
       "[557 rows x 3 columns]"
      ]
     },
     "execution_count": 327,
     "metadata": {},
     "output_type": "execute_result"
    }
   ],
   "source": [
    "df_prendas"
   ]
  },
  {
   "cell_type": "code",
   "execution_count": 328,
   "metadata": {},
   "outputs": [
    {
     "data": {
      "text/html": [
       "<div>\n",
       "<style scoped>\n",
       "    .dataframe tbody tr th:only-of-type {\n",
       "        vertical-align: middle;\n",
       "    }\n",
       "\n",
       "    .dataframe tbody tr th {\n",
       "        vertical-align: top;\n",
       "    }\n",
       "\n",
       "    .dataframe thead th {\n",
       "        text-align: right;\n",
       "    }\n",
       "</style>\n",
       "<table border=\"1\" class=\"dataframe\">\n",
       "  <thead>\n",
       "    <tr style=\"text-align: right;\">\n",
       "      <th></th>\n",
       "      <th>id_url</th>\n",
       "      <th>image_response_split</th>\n",
       "      <th>category</th>\n",
       "      <th>data</th>\n",
       "    </tr>\n",
       "  </thead>\n",
       "  <tbody>\n",
       "    <tr>\n",
       "      <th>1</th>\n",
       "      <td>1</td>\n",
       "      <td>\\nDescripción prenda:\\n - Tipo: Vestido\\n - Co...</td>\n",
       "      <td>Descripción prenda:</td>\n",
       "      <td>[Descripción prenda, ]</td>\n",
       "    </tr>\n",
       "  </tbody>\n",
       "</table>\n",
       "</div>"
      ],
      "text/plain": [
       "   id_url                               image_response_split  \\\n",
       "1       1  \\nDescripción prenda:\\n - Tipo: Vestido\\n - Co...   \n",
       "\n",
       "              category                    data  \n",
       "1  Descripción prenda:  [Descripción prenda, ]  "
      ]
     },
     "execution_count": 328,
     "metadata": {},
     "output_type": "execute_result"
    }
   ],
   "source": [
    "df_prendas[\"data\"]=df_prendas[\"category\"].str.split(\":\")\n",
    "df_prendas.reset_index()\n",
    "df_prendas.head(1)"
   ]
  },
  {
   "cell_type": "code",
   "execution_count": null,
   "metadata": {},
   "outputs": [],
   "source": []
  },
  {
   "cell_type": "code",
   "execution_count": 329,
   "metadata": {},
   "outputs": [
    {
     "ename": "ValueError",
     "evalue": "Columns must be same length as key",
     "output_type": "error",
     "traceback": [
      "\u001b[0;31m---------------------------------------------------------------------------\u001b[0m",
      "\u001b[0;31mValueError\u001b[0m                                Traceback (most recent call last)",
      "\u001b[0;32m/var/folders/80/g1vdd8b524ncq_5n_51tp95w0000gn/T/ipykernel_858/1567638094.py\u001b[0m in \u001b[0;36m<module>\u001b[0;34m\u001b[0m\n\u001b[1;32m      1\u001b[0m \u001b[0;31m# Dividir el texto en dos columnas por \":\"\u001b[0m\u001b[0;34m\u001b[0m\u001b[0;34m\u001b[0m\u001b[0m\n\u001b[0;32m----> 2\u001b[0;31m \u001b[0mdf_prendas\u001b[0m\u001b[0;34m[\u001b[0m\u001b[0;34m[\u001b[0m\u001b[0;34m\"feature\"\u001b[0m\u001b[0;34m,\u001b[0m \u001b[0;34m\"information\"\u001b[0m\u001b[0;34m]\u001b[0m\u001b[0;34m]\u001b[0m \u001b[0;34m=\u001b[0m \u001b[0mdf_prendas\u001b[0m\u001b[0;34m[\u001b[0m\u001b[0;34m\"data\"\u001b[0m\u001b[0;34m]\u001b[0m\u001b[0;34m.\u001b[0m\u001b[0mstr\u001b[0m\u001b[0;34m.\u001b[0m\u001b[0msplit\u001b[0m\u001b[0;34m(\u001b[0m\u001b[0;34m\":\"\u001b[0m\u001b[0;34m,\u001b[0m \u001b[0;36m1\u001b[0m\u001b[0;34m,\u001b[0m \u001b[0mexpand\u001b[0m\u001b[0;34m=\u001b[0m\u001b[0;32mTrue\u001b[0m\u001b[0;34m)\u001b[0m\u001b[0;34m\u001b[0m\u001b[0;34m\u001b[0m\u001b[0m\n\u001b[0m",
      "\u001b[0;32m~/opt/anaconda3/lib/python3.9/site-packages/pandas/core/frame.py\u001b[0m in \u001b[0;36m__setitem__\u001b[0;34m(self, key, value)\u001b[0m\n\u001b[1;32m   3641\u001b[0m             \u001b[0mself\u001b[0m\u001b[0;34m.\u001b[0m\u001b[0m_setitem_frame\u001b[0m\u001b[0;34m(\u001b[0m\u001b[0mkey\u001b[0m\u001b[0;34m,\u001b[0m \u001b[0mvalue\u001b[0m\u001b[0;34m)\u001b[0m\u001b[0;34m\u001b[0m\u001b[0;34m\u001b[0m\u001b[0m\n\u001b[1;32m   3642\u001b[0m         \u001b[0;32melif\u001b[0m \u001b[0misinstance\u001b[0m\u001b[0;34m(\u001b[0m\u001b[0mkey\u001b[0m\u001b[0;34m,\u001b[0m \u001b[0;34m(\u001b[0m\u001b[0mSeries\u001b[0m\u001b[0;34m,\u001b[0m \u001b[0mnp\u001b[0m\u001b[0;34m.\u001b[0m\u001b[0mndarray\u001b[0m\u001b[0;34m,\u001b[0m \u001b[0mlist\u001b[0m\u001b[0;34m,\u001b[0m \u001b[0mIndex\u001b[0m\u001b[0;34m)\u001b[0m\u001b[0;34m)\u001b[0m\u001b[0;34m:\u001b[0m\u001b[0;34m\u001b[0m\u001b[0;34m\u001b[0m\u001b[0m\n\u001b[0;32m-> 3643\u001b[0;31m             \u001b[0mself\u001b[0m\u001b[0;34m.\u001b[0m\u001b[0m_setitem_array\u001b[0m\u001b[0;34m(\u001b[0m\u001b[0mkey\u001b[0m\u001b[0;34m,\u001b[0m \u001b[0mvalue\u001b[0m\u001b[0;34m)\u001b[0m\u001b[0;34m\u001b[0m\u001b[0;34m\u001b[0m\u001b[0m\n\u001b[0m\u001b[1;32m   3644\u001b[0m         \u001b[0;32melif\u001b[0m \u001b[0misinstance\u001b[0m\u001b[0;34m(\u001b[0m\u001b[0mvalue\u001b[0m\u001b[0;34m,\u001b[0m \u001b[0mDataFrame\u001b[0m\u001b[0;34m)\u001b[0m\u001b[0;34m:\u001b[0m\u001b[0;34m\u001b[0m\u001b[0;34m\u001b[0m\u001b[0m\n\u001b[1;32m   3645\u001b[0m             \u001b[0mself\u001b[0m\u001b[0;34m.\u001b[0m\u001b[0m_set_item_frame_value\u001b[0m\u001b[0;34m(\u001b[0m\u001b[0mkey\u001b[0m\u001b[0;34m,\u001b[0m \u001b[0mvalue\u001b[0m\u001b[0;34m)\u001b[0m\u001b[0;34m\u001b[0m\u001b[0;34m\u001b[0m\u001b[0m\n",
      "\u001b[0;32m~/opt/anaconda3/lib/python3.9/site-packages/pandas/core/frame.py\u001b[0m in \u001b[0;36m_setitem_array\u001b[0;34m(self, key, value)\u001b[0m\n\u001b[1;32m   3683\u001b[0m \u001b[0;34m\u001b[0m\u001b[0m\n\u001b[1;32m   3684\u001b[0m             \u001b[0;32mif\u001b[0m \u001b[0misinstance\u001b[0m\u001b[0;34m(\u001b[0m\u001b[0mvalue\u001b[0m\u001b[0;34m,\u001b[0m \u001b[0mDataFrame\u001b[0m\u001b[0;34m)\u001b[0m\u001b[0;34m:\u001b[0m\u001b[0;34m\u001b[0m\u001b[0;34m\u001b[0m\u001b[0m\n\u001b[0;32m-> 3685\u001b[0;31m                 \u001b[0mcheck_key_length\u001b[0m\u001b[0;34m(\u001b[0m\u001b[0mself\u001b[0m\u001b[0;34m.\u001b[0m\u001b[0mcolumns\u001b[0m\u001b[0;34m,\u001b[0m \u001b[0mkey\u001b[0m\u001b[0;34m,\u001b[0m \u001b[0mvalue\u001b[0m\u001b[0;34m)\u001b[0m\u001b[0;34m\u001b[0m\u001b[0;34m\u001b[0m\u001b[0m\n\u001b[0m\u001b[1;32m   3686\u001b[0m                 \u001b[0;32mfor\u001b[0m \u001b[0mk1\u001b[0m\u001b[0;34m,\u001b[0m \u001b[0mk2\u001b[0m \u001b[0;32min\u001b[0m \u001b[0mzip\u001b[0m\u001b[0;34m(\u001b[0m\u001b[0mkey\u001b[0m\u001b[0;34m,\u001b[0m \u001b[0mvalue\u001b[0m\u001b[0;34m.\u001b[0m\u001b[0mcolumns\u001b[0m\u001b[0;34m)\u001b[0m\u001b[0;34m:\u001b[0m\u001b[0;34m\u001b[0m\u001b[0;34m\u001b[0m\u001b[0m\n\u001b[1;32m   3687\u001b[0m                     \u001b[0mself\u001b[0m\u001b[0;34m[\u001b[0m\u001b[0mk1\u001b[0m\u001b[0;34m]\u001b[0m \u001b[0;34m=\u001b[0m \u001b[0mvalue\u001b[0m\u001b[0;34m[\u001b[0m\u001b[0mk2\u001b[0m\u001b[0;34m]\u001b[0m\u001b[0;34m\u001b[0m\u001b[0;34m\u001b[0m\u001b[0m\n",
      "\u001b[0;32m~/opt/anaconda3/lib/python3.9/site-packages/pandas/core/indexers/utils.py\u001b[0m in \u001b[0;36mcheck_key_length\u001b[0;34m(columns, key, value)\u001b[0m\n\u001b[1;32m    426\u001b[0m     \u001b[0;32mif\u001b[0m \u001b[0mcolumns\u001b[0m\u001b[0;34m.\u001b[0m\u001b[0mis_unique\u001b[0m\u001b[0;34m:\u001b[0m\u001b[0;34m\u001b[0m\u001b[0;34m\u001b[0m\u001b[0m\n\u001b[1;32m    427\u001b[0m         \u001b[0;32mif\u001b[0m \u001b[0mlen\u001b[0m\u001b[0;34m(\u001b[0m\u001b[0mvalue\u001b[0m\u001b[0;34m.\u001b[0m\u001b[0mcolumns\u001b[0m\u001b[0;34m)\u001b[0m \u001b[0;34m!=\u001b[0m \u001b[0mlen\u001b[0m\u001b[0;34m(\u001b[0m\u001b[0mkey\u001b[0m\u001b[0;34m)\u001b[0m\u001b[0;34m:\u001b[0m\u001b[0;34m\u001b[0m\u001b[0;34m\u001b[0m\u001b[0m\n\u001b[0;32m--> 428\u001b[0;31m             \u001b[0;32mraise\u001b[0m \u001b[0mValueError\u001b[0m\u001b[0;34m(\u001b[0m\u001b[0;34m\"Columns must be same length as key\"\u001b[0m\u001b[0;34m)\u001b[0m\u001b[0;34m\u001b[0m\u001b[0;34m\u001b[0m\u001b[0m\n\u001b[0m\u001b[1;32m    429\u001b[0m     \u001b[0;32melse\u001b[0m\u001b[0;34m:\u001b[0m\u001b[0;34m\u001b[0m\u001b[0;34m\u001b[0m\u001b[0m\n\u001b[1;32m    430\u001b[0m         \u001b[0;31m# Missing keys in columns are represented as -1\u001b[0m\u001b[0;34m\u001b[0m\u001b[0;34m\u001b[0m\u001b[0m\n",
      "\u001b[0;31mValueError\u001b[0m: Columns must be same length as key"
     ]
    }
   ],
   "source": [
    "# Dividir el texto en dos columnas por \":\"\n",
    "df_prendas[[\"feature\", \"information\"]] = df_prendas[\"data\"].str.split(\":\", 1, expand=True)"
   ]
  },
  {
   "cell_type": "code",
   "execution_count": 187,
   "metadata": {},
   "outputs": [
    {
     "data": {
      "text/plain": [
       "0"
      ]
     },
     "execution_count": 187,
     "metadata": {},
     "output_type": "execute_result"
    }
   ],
   "source": []
  },
  {
   "cell_type": "code",
   "execution_count": 330,
   "metadata": {},
   "outputs": [
    {
     "data": {
      "text/html": [
       "<div>\n",
       "<style scoped>\n",
       "    .dataframe tbody tr th:only-of-type {\n",
       "        vertical-align: middle;\n",
       "    }\n",
       "\n",
       "    .dataframe tbody tr th {\n",
       "        vertical-align: top;\n",
       "    }\n",
       "\n",
       "    .dataframe thead th {\n",
       "        text-align: right;\n",
       "    }\n",
       "</style>\n",
       "<table border=\"1\" class=\"dataframe\">\n",
       "  <thead>\n",
       "    <tr style=\"text-align: right;\">\n",
       "      <th></th>\n",
       "      <th>id_url</th>\n",
       "      <th>image_response_split</th>\n",
       "      <th>category</th>\n",
       "      <th>data</th>\n",
       "    </tr>\n",
       "  </thead>\n",
       "  <tbody>\n",
       "    <tr>\n",
       "      <th>1</th>\n",
       "      <td>1</td>\n",
       "      <td>\\nDescripción prenda:\\n - Tipo: Vestido\\n - Co...</td>\n",
       "      <td>Descripción prenda:</td>\n",
       "      <td>[Descripción prenda, ]</td>\n",
       "    </tr>\n",
       "    <tr>\n",
       "      <th>2</th>\n",
       "      <td>1</td>\n",
       "      <td>\\nDescripción prenda:\\n - Tipo: Vestido\\n - Co...</td>\n",
       "      <td>- Tipo: Vestido</td>\n",
       "      <td>[ - Tipo,  Vestido]</td>\n",
       "    </tr>\n",
       "    <tr>\n",
       "      <th>3</th>\n",
       "      <td>1</td>\n",
       "      <td>\\nDescripción prenda:\\n - Tipo: Vestido\\n - Co...</td>\n",
       "      <td>- Color: Negro</td>\n",
       "      <td>[ - Color,  Negro]</td>\n",
       "    </tr>\n",
       "    <tr>\n",
       "      <th>4</th>\n",
       "      <td>1</td>\n",
       "      <td>\\nDescripción prenda:\\n - Tipo: Vestido\\n - Co...</td>\n",
       "      <td>- Material: Vinilo</td>\n",
       "      <td>[ - Material,  Vinilo]</td>\n",
       "    </tr>\n",
       "    <tr>\n",
       "      <th>5</th>\n",
       "      <td>1</td>\n",
       "      <td>\\nDescripción prenda:\\n - Tipo: Vestido\\n - Co...</td>\n",
       "      <td>- Categoría: Mujer</td>\n",
       "      <td>[ - Categoría,  Mujer]</td>\n",
       "    </tr>\n",
       "    <tr>\n",
       "      <th>6</th>\n",
       "      <td>1</td>\n",
       "      <td>\\nDescripción prenda:\\n - Tipo: Vestido\\n - Co...</td>\n",
       "      <td>- Diseño: Ajustado</td>\n",
       "      <td>[ - Diseño,  Ajustado]</td>\n",
       "    </tr>\n",
       "    <tr>\n",
       "      <th>7</th>\n",
       "      <td>1</td>\n",
       "      <td>\\nDescripción prenda:\\n - Tipo: Vestido\\n - Co...</td>\n",
       "      <td>- Textura: Brillante</td>\n",
       "      <td>[ - Textura,  Brillante]</td>\n",
       "    </tr>\n",
       "    <tr>\n",
       "      <th>8</th>\n",
       "      <td>1</td>\n",
       "      <td>\\nDescripción prenda:\\n - Tipo: Vestido\\n - Co...</td>\n",
       "      <td>- Estampado: Ninguno</td>\n",
       "      <td>[ - Estampado,  Ninguno]</td>\n",
       "    </tr>\n",
       "    <tr>\n",
       "      <th>9</th>\n",
       "      <td>1</td>\n",
       "      <td>\\nDescripción prenda:\\n - Tipo: Vestido\\n - Co...</td>\n",
       "      <td>- Mangas: Cortas</td>\n",
       "      <td>[ - Mangas,  Cortas]</td>\n",
       "    </tr>\n",
       "    <tr>\n",
       "      <th>10</th>\n",
       "      <td>1</td>\n",
       "      <td>\\nDescripción prenda:\\n - Tipo: Vestido\\n - Co...</td>\n",
       "      <td>- Cuello: Babero</td>\n",
       "      <td>[ - Cuello,  Babero]</td>\n",
       "    </tr>\n",
       "  </tbody>\n",
       "</table>\n",
       "</div>"
      ],
      "text/plain": [
       "    id_url                               image_response_split  \\\n",
       "1        1  \\nDescripción prenda:\\n - Tipo: Vestido\\n - Co...   \n",
       "2        1  \\nDescripción prenda:\\n - Tipo: Vestido\\n - Co...   \n",
       "3        1  \\nDescripción prenda:\\n - Tipo: Vestido\\n - Co...   \n",
       "4        1  \\nDescripción prenda:\\n - Tipo: Vestido\\n - Co...   \n",
       "5        1  \\nDescripción prenda:\\n - Tipo: Vestido\\n - Co...   \n",
       "6        1  \\nDescripción prenda:\\n - Tipo: Vestido\\n - Co...   \n",
       "7        1  \\nDescripción prenda:\\n - Tipo: Vestido\\n - Co...   \n",
       "8        1  \\nDescripción prenda:\\n - Tipo: Vestido\\n - Co...   \n",
       "9        1  \\nDescripción prenda:\\n - Tipo: Vestido\\n - Co...   \n",
       "10       1  \\nDescripción prenda:\\n - Tipo: Vestido\\n - Co...   \n",
       "\n",
       "                 category                      data  \n",
       "1     Descripción prenda:    [Descripción prenda, ]  \n",
       "2         - Tipo: Vestido       [ - Tipo,  Vestido]  \n",
       "3          - Color: Negro        [ - Color,  Negro]  \n",
       "4      - Material: Vinilo    [ - Material,  Vinilo]  \n",
       "5      - Categoría: Mujer    [ - Categoría,  Mujer]  \n",
       "6      - Diseño: Ajustado    [ - Diseño,  Ajustado]  \n",
       "7    - Textura: Brillante  [ - Textura,  Brillante]  \n",
       "8    - Estampado: Ninguno  [ - Estampado,  Ninguno]  \n",
       "9        - Mangas: Cortas      [ - Mangas,  Cortas]  \n",
       "10       - Cuello: Babero      [ - Cuello,  Babero]  "
      ]
     },
     "execution_count": 330,
     "metadata": {},
     "output_type": "execute_result"
    }
   ],
   "source": [
    "df_prendas.head(10)"
   ]
  },
  {
   "cell_type": "code",
   "execution_count": 331,
   "metadata": {},
   "outputs": [],
   "source": [
    "categorias_prendas = [\"- Tipo:\",\"- Color:\",\"- Material:\",\"- Categoría:\",\"- Diseño:\",\"- Textura:\",\"- Estampado:\",\"- Mangas:\",\"- Cuello:\",\"- Escote:\",\"- Largo:\",\"- Detalles:\"]"
   ]
  },
  {
   "cell_type": "code",
   "execution_count": 95,
   "metadata": {},
   "outputs": [],
   "source": []
  },
  {
   "cell_type": "code",
   "execution_count": 332,
   "metadata": {},
   "outputs": [
    {
     "data": {
      "text/html": [
       "<div>\n",
       "<style scoped>\n",
       "    .dataframe tbody tr th:only-of-type {\n",
       "        vertical-align: middle;\n",
       "    }\n",
       "\n",
       "    .dataframe tbody tr th {\n",
       "        vertical-align: top;\n",
       "    }\n",
       "\n",
       "    .dataframe thead th {\n",
       "        text-align: right;\n",
       "    }\n",
       "</style>\n",
       "<table border=\"1\" class=\"dataframe\">\n",
       "  <thead>\n",
       "    <tr style=\"text-align: right;\">\n",
       "      <th></th>\n",
       "      <th>id_url</th>\n",
       "      <th>image_response_split</th>\n",
       "      <th>category</th>\n",
       "      <th>data</th>\n",
       "    </tr>\n",
       "  </thead>\n",
       "  <tbody>\n",
       "    <tr>\n",
       "      <th>0</th>\n",
       "      <td>1</td>\n",
       "      <td>\\nDescripción prenda:\\n - Tipo: Vestido\\n - Co...</td>\n",
       "      <td>Descripción prenda:</td>\n",
       "      <td>[Descripción prenda, ]</td>\n",
       "    </tr>\n",
       "    <tr>\n",
       "      <th>1</th>\n",
       "      <td>1</td>\n",
       "      <td>\\nDescripción prenda:\\n - Tipo: Vestido\\n - Co...</td>\n",
       "      <td>- Tipo: Vestido</td>\n",
       "      <td>[ - Tipo,  Vestido]</td>\n",
       "    </tr>\n",
       "    <tr>\n",
       "      <th>2</th>\n",
       "      <td>1</td>\n",
       "      <td>\\nDescripción prenda:\\n - Tipo: Vestido\\n - Co...</td>\n",
       "      <td>- Color: Negro</td>\n",
       "      <td>[ - Color,  Negro]</td>\n",
       "    </tr>\n",
       "    <tr>\n",
       "      <th>3</th>\n",
       "      <td>1</td>\n",
       "      <td>\\nDescripción prenda:\\n - Tipo: Vestido\\n - Co...</td>\n",
       "      <td>- Material: Vinilo</td>\n",
       "      <td>[ - Material,  Vinilo]</td>\n",
       "    </tr>\n",
       "    <tr>\n",
       "      <th>4</th>\n",
       "      <td>1</td>\n",
       "      <td>\\nDescripción prenda:\\n - Tipo: Vestido\\n - Co...</td>\n",
       "      <td>- Categoría: Mujer</td>\n",
       "      <td>[ - Categoría,  Mujer]</td>\n",
       "    </tr>\n",
       "    <tr>\n",
       "      <th>...</th>\n",
       "      <td>...</td>\n",
       "      <td>...</td>\n",
       "      <td>...</td>\n",
       "      <td>...</td>\n",
       "    </tr>\n",
       "    <tr>\n",
       "      <th>552</th>\n",
       "      <td>29</td>\n",
       "      <td>\\nDescripción prenda:\\n - Tipo: Top\\n - Color:...</td>\n",
       "      <td>- Mangas: Cortas</td>\n",
       "      <td>[ - Mangas,  Cortas]</td>\n",
       "    </tr>\n",
       "    <tr>\n",
       "      <th>553</th>\n",
       "      <td>29</td>\n",
       "      <td>\\nDescripción prenda:\\n - Tipo: Top\\n - Color:...</td>\n",
       "      <td>- Cuello: Redondo</td>\n",
       "      <td>[ - Cuello,  Redondo]</td>\n",
       "    </tr>\n",
       "    <tr>\n",
       "      <th>554</th>\n",
       "      <td>29</td>\n",
       "      <td>\\nDescripción prenda:\\n - Tipo: Top\\n - Color:...</td>\n",
       "      <td>- Escote: N/A</td>\n",
       "      <td>[ - Escote,  N/A]</td>\n",
       "    </tr>\n",
       "    <tr>\n",
       "      <th>555</th>\n",
       "      <td>29</td>\n",
       "      <td>\\nDescripción prenda:\\n - Tipo: Top\\n - Color:...</td>\n",
       "      <td>- Largo: Corto</td>\n",
       "      <td>[ - Largo,  Corto]</td>\n",
       "    </tr>\n",
       "    <tr>\n",
       "      <th>556</th>\n",
       "      <td>29</td>\n",
       "      <td>\\nDescripción prenda:\\n - Tipo: Top\\n - Color:...</td>\n",
       "      <td>- Detalles: Plumas</td>\n",
       "      <td>[ - Detalles,  Plumas]</td>\n",
       "    </tr>\n",
       "  </tbody>\n",
       "</table>\n",
       "<p>557 rows × 4 columns</p>\n",
       "</div>"
      ],
      "text/plain": [
       "     id_url                               image_response_split  \\\n",
       "0         1  \\nDescripción prenda:\\n - Tipo: Vestido\\n - Co...   \n",
       "1         1  \\nDescripción prenda:\\n - Tipo: Vestido\\n - Co...   \n",
       "2         1  \\nDescripción prenda:\\n - Tipo: Vestido\\n - Co...   \n",
       "3         1  \\nDescripción prenda:\\n - Tipo: Vestido\\n - Co...   \n",
       "4         1  \\nDescripción prenda:\\n - Tipo: Vestido\\n - Co...   \n",
       "..      ...                                                ...   \n",
       "552      29  \\nDescripción prenda:\\n - Tipo: Top\\n - Color:...   \n",
       "553      29  \\nDescripción prenda:\\n - Tipo: Top\\n - Color:...   \n",
       "554      29  \\nDescripción prenda:\\n - Tipo: Top\\n - Color:...   \n",
       "555      29  \\nDescripción prenda:\\n - Tipo: Top\\n - Color:...   \n",
       "556      29  \\nDescripción prenda:\\n - Tipo: Top\\n - Color:...   \n",
       "\n",
       "                category                    data  \n",
       "0    Descripción prenda:  [Descripción prenda, ]  \n",
       "1        - Tipo: Vestido     [ - Tipo,  Vestido]  \n",
       "2         - Color: Negro      [ - Color,  Negro]  \n",
       "3     - Material: Vinilo  [ - Material,  Vinilo]  \n",
       "4     - Categoría: Mujer  [ - Categoría,  Mujer]  \n",
       "..                   ...                     ...  \n",
       "552     - Mangas: Cortas    [ - Mangas,  Cortas]  \n",
       "553    - Cuello: Redondo   [ - Cuello,  Redondo]  \n",
       "554        - Escote: N/A       [ - Escote,  N/A]  \n",
       "555       - Largo: Corto      [ - Largo,  Corto]  \n",
       "556   - Detalles: Plumas  [ - Detalles,  Plumas]  \n",
       "\n",
       "[557 rows x 4 columns]"
      ]
     },
     "execution_count": 332,
     "metadata": {},
     "output_type": "execute_result"
    }
   ],
   "source": [
    "df_prendas.reset_index(drop=True)"
   ]
  },
  {
   "cell_type": "code",
   "execution_count": 333,
   "metadata": {},
   "outputs": [],
   "source": [
    "def categorizar_prenda(fila):\n",
    "  for categoria in categorias_prendas:\n",
    "    if fila[\"category\"].startswith(categoria):\n",
    "      return categoria\n",
    "  return None\n",
    "\n",
    "df_prendas[\"test\"] = df_prendas.apply(categorizar_prenda, axis=1)\n"
   ]
  },
  {
   "cell_type": "code",
   "execution_count": 334,
   "metadata": {},
   "outputs": [
    {
     "data": {
      "text/html": [
       "<div>\n",
       "<style scoped>\n",
       "    .dataframe tbody tr th:only-of-type {\n",
       "        vertical-align: middle;\n",
       "    }\n",
       "\n",
       "    .dataframe tbody tr th {\n",
       "        vertical-align: top;\n",
       "    }\n",
       "\n",
       "    .dataframe thead th {\n",
       "        text-align: right;\n",
       "    }\n",
       "</style>\n",
       "<table border=\"1\" class=\"dataframe\">\n",
       "  <thead>\n",
       "    <tr style=\"text-align: right;\">\n",
       "      <th></th>\n",
       "      <th>id_url</th>\n",
       "      <th>image_response_split</th>\n",
       "      <th>category</th>\n",
       "      <th>data</th>\n",
       "      <th>test</th>\n",
       "    </tr>\n",
       "  </thead>\n",
       "  <tbody>\n",
       "    <tr>\n",
       "      <th>1</th>\n",
       "      <td>1</td>\n",
       "      <td>\\nDescripción prenda:\\n - Tipo: Vestido\\n - Co...</td>\n",
       "      <td>Descripción prenda:</td>\n",
       "      <td>[Descripción prenda, ]</td>\n",
       "      <td>None</td>\n",
       "    </tr>\n",
       "    <tr>\n",
       "      <th>2</th>\n",
       "      <td>1</td>\n",
       "      <td>\\nDescripción prenda:\\n - Tipo: Vestido\\n - Co...</td>\n",
       "      <td>- Tipo: Vestido</td>\n",
       "      <td>[ - Tipo,  Vestido]</td>\n",
       "      <td>None</td>\n",
       "    </tr>\n",
       "    <tr>\n",
       "      <th>3</th>\n",
       "      <td>1</td>\n",
       "      <td>\\nDescripción prenda:\\n - Tipo: Vestido\\n - Co...</td>\n",
       "      <td>- Color: Negro</td>\n",
       "      <td>[ - Color,  Negro]</td>\n",
       "      <td>None</td>\n",
       "    </tr>\n",
       "    <tr>\n",
       "      <th>4</th>\n",
       "      <td>1</td>\n",
       "      <td>\\nDescripción prenda:\\n - Tipo: Vestido\\n - Co...</td>\n",
       "      <td>- Material: Vinilo</td>\n",
       "      <td>[ - Material,  Vinilo]</td>\n",
       "      <td>None</td>\n",
       "    </tr>\n",
       "    <tr>\n",
       "      <th>5</th>\n",
       "      <td>1</td>\n",
       "      <td>\\nDescripción prenda:\\n - Tipo: Vestido\\n - Co...</td>\n",
       "      <td>- Categoría: Mujer</td>\n",
       "      <td>[ - Categoría,  Mujer]</td>\n",
       "      <td>None</td>\n",
       "    </tr>\n",
       "    <tr>\n",
       "      <th>...</th>\n",
       "      <td>...</td>\n",
       "      <td>...</td>\n",
       "      <td>...</td>\n",
       "      <td>...</td>\n",
       "      <td>...</td>\n",
       "    </tr>\n",
       "    <tr>\n",
       "      <th>639</th>\n",
       "      <td>29</td>\n",
       "      <td>\\nDescripción prenda:\\n - Tipo: Top\\n - Color:...</td>\n",
       "      <td>- Mangas: Cortas</td>\n",
       "      <td>[ - Mangas,  Cortas]</td>\n",
       "      <td>None</td>\n",
       "    </tr>\n",
       "    <tr>\n",
       "      <th>640</th>\n",
       "      <td>29</td>\n",
       "      <td>\\nDescripción prenda:\\n - Tipo: Top\\n - Color:...</td>\n",
       "      <td>- Cuello: Redondo</td>\n",
       "      <td>[ - Cuello,  Redondo]</td>\n",
       "      <td>None</td>\n",
       "    </tr>\n",
       "    <tr>\n",
       "      <th>641</th>\n",
       "      <td>29</td>\n",
       "      <td>\\nDescripción prenda:\\n - Tipo: Top\\n - Color:...</td>\n",
       "      <td>- Escote: N/A</td>\n",
       "      <td>[ - Escote,  N/A]</td>\n",
       "      <td>None</td>\n",
       "    </tr>\n",
       "    <tr>\n",
       "      <th>642</th>\n",
       "      <td>29</td>\n",
       "      <td>\\nDescripción prenda:\\n - Tipo: Top\\n - Color:...</td>\n",
       "      <td>- Largo: Corto</td>\n",
       "      <td>[ - Largo,  Corto]</td>\n",
       "      <td>None</td>\n",
       "    </tr>\n",
       "    <tr>\n",
       "      <th>643</th>\n",
       "      <td>29</td>\n",
       "      <td>\\nDescripción prenda:\\n - Tipo: Top\\n - Color:...</td>\n",
       "      <td>- Detalles: Plumas</td>\n",
       "      <td>[ - Detalles,  Plumas]</td>\n",
       "      <td>None</td>\n",
       "    </tr>\n",
       "  </tbody>\n",
       "</table>\n",
       "<p>557 rows × 5 columns</p>\n",
       "</div>"
      ],
      "text/plain": [
       "     id_url                               image_response_split  \\\n",
       "1         1  \\nDescripción prenda:\\n - Tipo: Vestido\\n - Co...   \n",
       "2         1  \\nDescripción prenda:\\n - Tipo: Vestido\\n - Co...   \n",
       "3         1  \\nDescripción prenda:\\n - Tipo: Vestido\\n - Co...   \n",
       "4         1  \\nDescripción prenda:\\n - Tipo: Vestido\\n - Co...   \n",
       "5         1  \\nDescripción prenda:\\n - Tipo: Vestido\\n - Co...   \n",
       "..      ...                                                ...   \n",
       "639      29  \\nDescripción prenda:\\n - Tipo: Top\\n - Color:...   \n",
       "640      29  \\nDescripción prenda:\\n - Tipo: Top\\n - Color:...   \n",
       "641      29  \\nDescripción prenda:\\n - Tipo: Top\\n - Color:...   \n",
       "642      29  \\nDescripción prenda:\\n - Tipo: Top\\n - Color:...   \n",
       "643      29  \\nDescripción prenda:\\n - Tipo: Top\\n - Color:...   \n",
       "\n",
       "                category                    data  test  \n",
       "1    Descripción prenda:  [Descripción prenda, ]  None  \n",
       "2        - Tipo: Vestido     [ - Tipo,  Vestido]  None  \n",
       "3         - Color: Negro      [ - Color,  Negro]  None  \n",
       "4     - Material: Vinilo  [ - Material,  Vinilo]  None  \n",
       "5     - Categoría: Mujer  [ - Categoría,  Mujer]  None  \n",
       "..                   ...                     ...   ...  \n",
       "639     - Mangas: Cortas    [ - Mangas,  Cortas]  None  \n",
       "640    - Cuello: Redondo   [ - Cuello,  Redondo]  None  \n",
       "641        - Escote: N/A       [ - Escote,  N/A]  None  \n",
       "642       - Largo: Corto      [ - Largo,  Corto]  None  \n",
       "643   - Detalles: Plumas  [ - Detalles,  Plumas]  None  \n",
       "\n",
       "[557 rows x 5 columns]"
      ]
     },
     "execution_count": 334,
     "metadata": {},
     "output_type": "execute_result"
    }
   ],
   "source": [
    "df_prendas"
   ]
  },
  {
   "cell_type": "code",
   "execution_count": null,
   "metadata": {},
   "outputs": [],
   "source": []
  }
 ],
 "metadata": {
  "kernelspec": {
   "display_name": "Python 3 (ipykernel)",
   "language": "python",
   "name": "python3"
  },
  "language_info": {
   "codemirror_mode": {
    "name": "ipython",
    "version": 3
   },
   "file_extension": ".py",
   "mimetype": "text/x-python",
   "name": "python",
   "nbconvert_exporter": "python",
   "pygments_lexer": "ipython3",
   "version": "3.10.13"
  },
  "orig_nbformat": 2
 },
 "nbformat": 4,
 "nbformat_minor": 2
}
