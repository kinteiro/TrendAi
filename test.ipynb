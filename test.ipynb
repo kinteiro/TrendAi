{
 "cells": [
  {
   "cell_type": "markdown",
   "metadata": {},
   "source": [
    "# INSTALOADER API SDK"
   ]
  },
  {
   "cell_type": "markdown",
   "metadata": {},
   "source": [
    "[INFO API/MÓDULOS INSTALOADER ](https://instaloader.github.io/as-module.html)\n",
    "\n"
   ]
  },
  {
   "cell_type": "code",
   "execution_count": 92,
   "metadata": {},
   "outputs": [],
   "source": [
    "from datetime import datetime, timedelta\n",
    "from instaloader import instaloader, Profile\n",
    "# Get instance\n",
    "L = instaloader.Instaloader()\n",
    "import json\n",
    "import pandas as pd\n",
    "import webbrowser"
   ]
  },
  {
   "cell_type": "markdown",
   "metadata": {},
   "source": [
    "Variable con Perfil de usuario "
   ]
  },
  {
   "cell_type": "code",
   "execution_count": 93,
   "metadata": {},
   "outputs": [],
   "source": [
    "profile = Profile.from_username(L.context, \"mbfwmadrid\")"
   ]
  },
  {
   "cell_type": "code",
   "execution_count": 94,
   "metadata": {},
   "outputs": [],
   "source": [
    "ingest_date = datetime.now().strftime(\"%Y-%m-%d %H:%M\")"
   ]
  },
  {
   "cell_type": "code",
   "execution_count": 95,
   "metadata": {},
   "outputs": [],
   "source": [
    "yesterday = datetime.now() # - timedelta(days=1)\n",
    "yesterday = yesterday.strftime('%Y-%m-%d') # Formateo de fecha para que sea igual que la de instagram"
   ]
  },
  {
   "cell_type": "code",
   "execution_count": 100,
   "metadata": {},
   "outputs": [
    {
     "data": {
      "text/html": [
       "<div>\n",
       "<style scoped>\n",
       "    .dataframe tbody tr th:only-of-type {\n",
       "        vertical-align: middle;\n",
       "    }\n",
       "\n",
       "    .dataframe tbody tr th {\n",
       "        vertical-align: top;\n",
       "    }\n",
       "\n",
       "    .dataframe thead th {\n",
       "        text-align: right;\n",
       "    }\n",
       "</style>\n",
       "<table border=\"1\" class=\"dataframe\">\n",
       "  <thead>\n",
       "    <tr style=\"text-align: right;\">\n",
       "      <th></th>\n",
       "      <th>Image_date</th>\n",
       "      <th>Image_URL</th>\n",
       "      <th>Ingest_Date</th>\n",
       "    </tr>\n",
       "  </thead>\n",
       "  <tbody>\n",
       "    <tr>\n",
       "      <th>0</th>\n",
       "      <td>2024-01-09</td>\n",
       "      <td>https://scontent-mad1-1.cdninstagram.com/v/t51...</td>\n",
       "      <td>2024-01-09 21:57</td>\n",
       "    </tr>\n",
       "    <tr>\n",
       "      <th>1</th>\n",
       "      <td>2024-01-04</td>\n",
       "      <td>https://scontent-mad2-1.cdninstagram.com/v/t51...</td>\n",
       "      <td>2024-01-09 21:57</td>\n",
       "    </tr>\n",
       "  </tbody>\n",
       "</table>\n",
       "</div>"
      ],
      "text/plain": [
       "   Image_date                                          Image_URL  \\\n",
       "0  2024-01-09  https://scontent-mad1-1.cdninstagram.com/v/t51...   \n",
       "1  2024-01-04  https://scontent-mad2-1.cdninstagram.com/v/t51...   \n",
       "\n",
       "        Ingest_Date  \n",
       "0  2024-01-09 21:57  \n",
       "1  2024-01-09 21:57  "
      ]
     },
     "execution_count": 100,
     "metadata": {},
     "output_type": "execute_result"
    }
   ],
   "source": [
    "# Itear por cada post del perfil y descargarlo si es del día de ayer\n",
    "df = pd.DataFrame(columns=['Image_date', 'Image_URL', 'Ingest_Date'])  # Create an empty dataframe with columns\n",
    "\n",
    "for post in profile.get_posts():\n",
    "    df = pd.concat([df, pd.DataFrame({'Image_date': [post.date.strftime('%Y-%m-%d')], 'Image_URL': [post.url], 'Ingest_Date': [ingest_date]})], ignore_index=True)\n",
    "    if len(df) > 50:\n",
    "        df.to_parquet(f'{ingest_date[:10]}-mbfwmadrid.parquet', compression='gzip')\n",
    "        df.to_csv(f'{ingest_date[:10]}-bfwmadrid.csv', index=False)\n",
    "        break\n",
    "df.head(2)\n"
   ]
  },
  {
   "cell_type": "code",
   "execution_count": 102,
   "metadata": {},
   "outputs": [],
   "source": [
    "df = pd.read_parquet(f'{ingest_date[:10]}-mbfwmadrid.parquet')"
   ]
  },
  {
   "cell_type": "code",
   "execution_count": 103,
   "metadata": {},
   "outputs": [
    {
     "name": "stdout",
     "output_type": "stream",
     "text": [
      "https://scontent-mad1-1.cdninstagram.com/v/t51.2885-15/417925500_7104297972940543_6474479618266288918_n.jpg?stp=dst-jpg_e35&_nc_ht=scontent-mad1-1.cdninstagram.com&_nc_cat=107&_nc_ohc=P6l0kbN_ySgAX_OV4Ct&edm=AOQ1c0wBAAAA&ccb=7-5&ig_cache_key=MzI3NjQwNjU0ODU2NzUzOTAxMQ%3D%3D.2-ccb7-5&oh=00_AfBPVjZ0ziONN9TkDSMRlJGyzMVZ0ICDT4C_DJ8Ru_Os_g&oe=65A2E51B&_nc_sid=8b3546\n",
      "https://scontent-mad2-1.cdninstagram.com/v/t51.2885-15/416204401_902238341624588_5978318398759721203_n.jpg?stp=dst-jpg_e35&_nc_ht=scontent-mad2-1.cdninstagram.com&_nc_cat=108&_nc_ohc=pGDvC7slFTMAX_OPVbt&edm=AOQ1c0wBAAAA&ccb=7-5&ig_cache_key=MzI3Mjc4MjU3NTIxNDk0NTcyMA%3D%3D.2-ccb7-5&oh=00_AfAAjBHv_H9sbm2WX765JKo9nsnWlZXeeLlBWOcrM-xfew&oe=65A2944A&_nc_sid=8b3546\n",
      "https://scontent-mad1-1.cdninstagram.com/v/t51.2885-15/416079004_357311040266054_219209463072278367_n.jpg?stp=dst-jpg_e35&_nc_ht=scontent-mad1-1.cdninstagram.com&_nc_cat=102&_nc_ohc=n9pyDs7NieYAX8VrBRR&edm=AOQ1c0wBAAAA&ccb=7-5&ig_cache_key=MzI3MTMzMjk4OTUzNTM4MTY1MQ%3D%3D.2-ccb7-5&oh=00_AfDBJOs_J7_o7mp1RLx_8arYBZ4wSubfgIxmVoGM3j84uA&oe=65A31768&_nc_sid=8b3546\n",
      "https://scontent-mad1-1.cdninstagram.com/v/t51.2885-15/414470600_1067486051070798_3200623294780869045_n.jpg?stp=dst-jpg_e35&_nc_ht=scontent-mad1-1.cdninstagram.com&_nc_cat=106&_nc_ohc=-sbHT6Jndu4AX8QRoAK&edm=AOQ1c0wBAAAA&ccb=7-5&ig_cache_key=MzI3MDYwODMxMzQwMTIwNTA4Mg%3D%3D.2-ccb7-5&oh=00_AfCbqxS9Mn69ijDiXfI8pZNVkA76KqXQuBVDQn10zJ-PDw&oe=65A2E690&_nc_sid=8b3546\n",
      "https://scontent-mad2-1.cdninstagram.com/v/t51.2885-15/413418315_1095913815176060_1937830891784165685_n.jpg?stp=dst-jpg_e35&_nc_ht=scontent-mad2-1.cdninstagram.com&_nc_cat=108&_nc_ohc=xGgBFSFwl64AX-ywpm0&edm=AOQ1c0wBAAAA&ccb=7-5&ig_cache_key=MzI2NzcwOTIzMjA2OTcwMjY0Mg%3D%3D.2-ccb7-5&oh=00_AfBmNpekbKw2lgaJBaSZVfGgoEkAfqVyAFwYBdefuGwD-w&oe=65A1B35E&_nc_sid=8b3546\n",
      "https://scontent-mad1-1.cdninstagram.com/v/t51.2885-15/412620964_1077934713339077_4027481113231569772_n.jpg?stp=dst-jpg_e35&_nc_ht=scontent-mad1-1.cdninstagram.com&_nc_cat=105&_nc_ohc=yWZ39KiNbR8AX9EiUzL&edm=AOQ1c0wBAAAA&ccb=7-5&ig_cache_key=MzI2NjI1OTcxMDQ3ODk5MzkzNw%3D%3D.2-ccb7-5&oh=00_AfASCUhYywTnCYCPFFyX4nAtph3a3EHmfQK7D4v7JFgN-A&oe=65A2D812&_nc_sid=8b3546\n",
      "https://scontent-mad1-1.cdninstagram.com/v/t51.2885-15/412599172_884009319892591_971153155156667015_n.jpg?stp=dst-jpg_e35&_nc_ht=scontent-mad1-1.cdninstagram.com&_nc_cat=107&_nc_ohc=CHB5njggHSsAX9cp-tQ&edm=AOQ1c0wBAAAA&ccb=7-5&ig_cache_key=MzI2NTUzNTAxMDUyODI3MDYwNQ%3D%3D.2-ccb7-5&oh=00_AfB_7RGbCe-GCxcR89iViV6i1of2X-lDoh7CX-u5QZLfjw&oe=65A23A55&_nc_sid=8b3546\n",
      "https://scontent-mad1-1.cdninstagram.com/v/t51.2885-15/412085506_1046103639999529_807137798901610239_n.jpg?stp=dst-jpg_e35&_nc_ht=scontent-mad1-1.cdninstagram.com&_nc_cat=101&_nc_ohc=C4mKMqCbPuUAX9H-vGq&edm=AOQ1c0wBAAAA&ccb=7-5&ig_cache_key=MzI2MjYzNTc5NjkwNzM1MTE3Ng%3D%3D.2-ccb7-5&oh=00_AfDyh7NdlPnyNEMHHlopPsQ7RVnUMNdVFZnnQrEIsrFrnQ&oe=65A1F9BE&_nc_sid=8b3546\n",
      "https://scontent-mad2-1.cdninstagram.com/v/t51.2885-15/412081634_871380394783354_3116598388097902837_n.jpg?stp=dst-jpg_e35&_nc_ht=scontent-mad2-1.cdninstagram.com&_nc_cat=110&_nc_ohc=cwK4xn5LcWkAX9nMUu9&edm=AOQ1c0wBAAAA&ccb=7-5&ig_cache_key=MzI2MTkxMTAyMjAzMTY5ODk3OA%3D%3D.2-ccb7-5&oh=00_AfCbsWVHq_5UxwWjXI0drBrN7uWr5--ApEE5y3O7CeCucA&oe=65A24894&_nc_sid=8b3546\n",
      "https://scontent-mad1-1.cdninstagram.com/v/t51.2885-15/411863592_7028868990504987_4204351044815375068_n.jpg?stp=dst-jpg_e35&_nc_ht=scontent-mad1-1.cdninstagram.com&_nc_cat=103&_nc_ohc=NDaoHfAsJ18AX8SbHBk&edm=AOQ1c0wBAAAA&ccb=7-5&ig_cache_key=MzI2MTE5NDExMTQwMDc3OTE2Nw%3D%3D.2-ccb7-5&oh=00_AfB-YLCQEjTImK4DBCJWhdAjE2mgJgc4To9r_8_SQtQ9iw&oe=65A1BE3C&_nc_sid=8b3546\n"
     ]
    }
   ],
   "source": [
    "for i in df[\"Image_URL\"].head(10):\n",
    "    # open image url in web browser\n",
    "    print(i)\n",
    "    webbrowser.open(i)\n"
   ]
  },
  {
   "cell_type": "code",
   "execution_count": 21,
   "metadata": {},
   "outputs": [
    {
     "name": "stdout",
     "output_type": "stream",
     "text": [
      "#mbfwmadrid/2024-01-09_11-02-05_UTC.jpg [¡El momento que estabas esper…] json \n",
      "#mbfwmadrid/2024-01-04_11-01-55_UTC_1.jpg #mbfwmadrid/2024-01-04_11-01-55_UTC_2.jpg [Los microshorts están llamado…] json \n",
      "#mbfwmadrid/2024-01-02_11-02-01_UTC_1.jpg #mbfwmadrid/2024-01-02_11-02-01_UTC_2.jpg #mbfwmadrid/2024-01-02_11-02-01_UTC_3.jpg #mbfwmadrid/2024-01-02_11-02-01_UTC_4.jpg #mbfwmadrid/2024-01-02_11-02-01_UTC_5.jpg #mbfwmadrid/2024-01-02_11-02-01_UTC_6.jpg [Del boceto a la realidad: te …] json \n",
      "#mbfwmadrid/2024-01-01_11-01-57_UTC.jpg [🎊✨ ¡Feliz 2024!   Brindamos p…] json \n",
      "#mbfwmadrid/2023-12-28_11-02-05_UTC_1.jpg #mbfwmadrid/2023-12-28_11-02-05_UTC_2.jpg [La ligereza y fluidez caracte…] json \n",
      "#mbfwmadrid/2023-12-26_11-02-10_UTC_1.jpg #mbfwmadrid/2023-12-26_11-02-10_UTC_2.jpg #mbfwmadrid/2023-12-26_11-02-10_UTC_3.jpg [Minimalismo, funcionalidad y …] json \n",
      "#mbfwmadrid/2023-12-25_11-02-14_UTC.jpg [✨ Desde #MBFWMadrid nos vesti…] json \n",
      "#mbfwmadrid/2023-12-21_11-02-19_UTC_1.jpg #mbfwmadrid/2023-12-21_11-02-19_UTC_2.jpg #mbfwmadrid/2023-12-21_11-02-19_UTC_3.jpg #mbfwmadrid/2023-12-21_11-02-19_UTC_4.jpg #mbfwmadrid/2023-12-21_11-02-19_UTC_5.jpg [Considerado como uno de los g…] json \n",
      "#mbfwmadrid/2023-12-20_11-02-14_UTC_1.jpg #mbfwmadrid/2023-12-20_11-02-14_UTC_2.jpg #mbfwmadrid/2023-12-20_11-02-14_UTC_3.jpg #mbfwmadrid/2023-12-20_11-02-14_UTC_4.jpg [¡Lluvia de invitados VIP'S en…] json \n",
      "#mbfwmadrid/2023-12-19_11-17-44_UTC_1.jpg #mbfwmadrid/2023-12-19_11-17-44_UTC_2.jpg [Amado y odiado a partes igual…] json \n",
      "#mbfwmadrid/2023-12-14_11-02-16_UTC_1.jpg #mbfwmadrid/2023-12-14_11-02-16_UTC_2.jpg #mbfwmadrid/2023-12-14_11-02-16_UTC_3.jpg #mbfwmadrid/2023-12-14_11-02-16_UTC_4.jpg [Oda a la artesanía en el desf…] json \n",
      "#mbfwmadrid/2023-12-13_11-02-24_UTC_1.jpg #mbfwmadrid/2023-12-13_11-02-24_UTC_2.jpg #mbfwmadrid/2023-12-13_11-02-24_UTC_3.jpg #mbfwmadrid/2023-12-13_11-02-24_UTC_4.jpg #mbfwmadrid/2023-12-13_11-02-24_UTC_5.jpg [¡Confirmado! Las prendas meta…] json \n"
     ]
    },
    {
     "ename": "KeyboardInterrupt",
     "evalue": "",
     "output_type": "error",
     "traceback": [
      "\u001b[0;31m---------------------------------------------------------------------------\u001b[0m",
      "\u001b[0;31mKeyboardInterrupt\u001b[0m                         Traceback (most recent call last)",
      "Cell \u001b[0;32mIn[21], line 2\u001b[0m\n\u001b[1;32m      1\u001b[0m \u001b[38;5;66;03m# Itear por cada post del perfil y descargarlo si es del día de ayer\u001b[39;00m\n\u001b[0;32m----> 2\u001b[0m \u001b[38;5;28;01mfor\u001b[39;00m post \u001b[38;5;129;01min\u001b[39;00m profile\u001b[38;5;241m.\u001b[39mget_posts():\n\u001b[1;32m      3\u001b[0m         L\u001b[38;5;241m.\u001b[39mdownload_post(post, target\u001b[38;5;241m=\u001b[39m\u001b[38;5;124m\"\u001b[39m\u001b[38;5;124m#mbfwmadrid\u001b[39m\u001b[38;5;124m\"\u001b[39m)\n",
      "File \u001b[0;32m~/.local/share/virtualenvs/TrendAi_repo-WZqMEwY8/lib/python3.10/site-packages/instaloader/nodeiterator.py:141\u001b[0m, in \u001b[0;36mNodeIterator.__next__\u001b[0;34m(self)\u001b[0m\n\u001b[1;32m    139\u001b[0m     \u001b[38;5;28;01mreturn\u001b[39;00m item\n\u001b[1;32m    140\u001b[0m \u001b[38;5;28;01mif\u001b[39;00m \u001b[38;5;28mself\u001b[39m\u001b[38;5;241m.\u001b[39m_data\u001b[38;5;241m.\u001b[39mget(\u001b[38;5;124m'\u001b[39m\u001b[38;5;124mpage_info\u001b[39m\u001b[38;5;124m'\u001b[39m, {})\u001b[38;5;241m.\u001b[39mget(\u001b[38;5;124m'\u001b[39m\u001b[38;5;124mhas_next_page\u001b[39m\u001b[38;5;124m'\u001b[39m):\n\u001b[0;32m--> 141\u001b[0m     query_response \u001b[38;5;241m=\u001b[39m \u001b[38;5;28;43mself\u001b[39;49m\u001b[38;5;241;43m.\u001b[39;49m\u001b[43m_query\u001b[49m\u001b[43m(\u001b[49m\u001b[38;5;28;43mself\u001b[39;49m\u001b[38;5;241;43m.\u001b[39;49m\u001b[43m_data\u001b[49m\u001b[43m[\u001b[49m\u001b[38;5;124;43m'\u001b[39;49m\u001b[38;5;124;43mpage_info\u001b[39;49m\u001b[38;5;124;43m'\u001b[39;49m\u001b[43m]\u001b[49m\u001b[43m[\u001b[49m\u001b[38;5;124;43m'\u001b[39;49m\u001b[38;5;124;43mend_cursor\u001b[39;49m\u001b[38;5;124;43m'\u001b[39;49m\u001b[43m]\u001b[49m\u001b[43m)\u001b[49m\n\u001b[1;32m    142\u001b[0m     \u001b[38;5;28;01mif\u001b[39;00m \u001b[38;5;28mself\u001b[39m\u001b[38;5;241m.\u001b[39m_data[\u001b[38;5;124m'\u001b[39m\u001b[38;5;124medges\u001b[39m\u001b[38;5;124m'\u001b[39m] \u001b[38;5;241m!=\u001b[39m query_response[\u001b[38;5;124m'\u001b[39m\u001b[38;5;124medges\u001b[39m\u001b[38;5;124m'\u001b[39m] \u001b[38;5;129;01mand\u001b[39;00m \u001b[38;5;28mlen\u001b[39m(query_response[\u001b[38;5;124m'\u001b[39m\u001b[38;5;124medges\u001b[39m\u001b[38;5;124m'\u001b[39m]) \u001b[38;5;241m>\u001b[39m \u001b[38;5;241m0\u001b[39m:\n\u001b[1;32m    143\u001b[0m         page_index, data \u001b[38;5;241m=\u001b[39m \u001b[38;5;28mself\u001b[39m\u001b[38;5;241m.\u001b[39m_page_index, \u001b[38;5;28mself\u001b[39m\u001b[38;5;241m.\u001b[39m_data\n",
      "File \u001b[0;32m~/.local/share/virtualenvs/TrendAi_repo-WZqMEwY8/lib/python3.10/site-packages/instaloader/nodeiterator.py:103\u001b[0m, in \u001b[0;36mNodeIterator._query\u001b[0;34m(self, after)\u001b[0m\n\u001b[1;32m    100\u001b[0m     pagination_variables[\u001b[38;5;124m'\u001b[39m\u001b[38;5;124mafter\u001b[39m\u001b[38;5;124m'\u001b[39m] \u001b[38;5;241m=\u001b[39m after\n\u001b[1;32m    101\u001b[0m \u001b[38;5;28;01mtry\u001b[39;00m:\n\u001b[1;32m    102\u001b[0m     data \u001b[38;5;241m=\u001b[39m \u001b[38;5;28mself\u001b[39m\u001b[38;5;241m.\u001b[39m_edge_extractor(\n\u001b[0;32m--> 103\u001b[0m         \u001b[38;5;28;43mself\u001b[39;49m\u001b[38;5;241;43m.\u001b[39;49m\u001b[43m_context\u001b[49m\u001b[38;5;241;43m.\u001b[39;49m\u001b[43mgraphql_query\u001b[49m\u001b[43m(\u001b[49m\n\u001b[1;32m    104\u001b[0m \u001b[43m            \u001b[49m\u001b[38;5;28;43mself\u001b[39;49m\u001b[38;5;241;43m.\u001b[39;49m\u001b[43m_query_hash\u001b[49m\u001b[43m,\u001b[49m\u001b[43m \u001b[49m\u001b[43m{\u001b[49m\u001b[38;5;241;43m*\u001b[39;49m\u001b[38;5;241;43m*\u001b[39;49m\u001b[38;5;28;43mself\u001b[39;49m\u001b[38;5;241;43m.\u001b[39;49m\u001b[43m_query_variables\u001b[49m\u001b[43m,\u001b[49m\u001b[43m \u001b[49m\u001b[38;5;241;43m*\u001b[39;49m\u001b[38;5;241;43m*\u001b[39;49m\u001b[43mpagination_variables\u001b[49m\u001b[43m}\u001b[49m\u001b[43m,\u001b[49m\u001b[43m \u001b[49m\u001b[38;5;28;43mself\u001b[39;49m\u001b[38;5;241;43m.\u001b[39;49m\u001b[43m_query_referer\u001b[49m\n\u001b[1;32m    105\u001b[0m \u001b[43m        \u001b[49m\u001b[43m)\u001b[49m\n\u001b[1;32m    106\u001b[0m     )\n\u001b[1;32m    107\u001b[0m     \u001b[38;5;28mself\u001b[39m\u001b[38;5;241m.\u001b[39m_best_before \u001b[38;5;241m=\u001b[39m datetime\u001b[38;5;241m.\u001b[39mnow() \u001b[38;5;241m+\u001b[39m NodeIterator\u001b[38;5;241m.\u001b[39m_shelf_life\n\u001b[1;32m    108\u001b[0m     \u001b[38;5;28;01mreturn\u001b[39;00m data\n",
      "File \u001b[0;32m~/.local/share/virtualenvs/TrendAi_repo-WZqMEwY8/lib/python3.10/site-packages/instaloader/instaloadercontext.py:470\u001b[0m, in \u001b[0;36mInstaloaderContext.graphql_query\u001b[0;34m(self, query_hash, variables, referer, rhx_gis)\u001b[0m\n\u001b[1;32m    467\u001b[0m         x_instagram_gis \u001b[38;5;241m=\u001b[39m hashlib\u001b[38;5;241m.\u001b[39mmd5(values\u001b[38;5;241m.\u001b[39mencode())\u001b[38;5;241m.\u001b[39mhexdigest()\n\u001b[1;32m    468\u001b[0m         tmpsession\u001b[38;5;241m.\u001b[39mheaders[\u001b[38;5;124m'\u001b[39m\u001b[38;5;124mx-instagram-gis\u001b[39m\u001b[38;5;124m'\u001b[39m] \u001b[38;5;241m=\u001b[39m x_instagram_gis\n\u001b[0;32m--> 470\u001b[0m     resp_json \u001b[38;5;241m=\u001b[39m \u001b[38;5;28;43mself\u001b[39;49m\u001b[38;5;241;43m.\u001b[39;49m\u001b[43mget_json\u001b[49m\u001b[43m(\u001b[49m\u001b[38;5;124;43m'\u001b[39;49m\u001b[38;5;124;43mgraphql/query\u001b[39;49m\u001b[38;5;124;43m'\u001b[39;49m\u001b[43m,\u001b[49m\n\u001b[1;32m    471\u001b[0m \u001b[43m                              \u001b[49m\u001b[43mparams\u001b[49m\u001b[38;5;241;43m=\u001b[39;49m\u001b[43m{\u001b[49m\u001b[38;5;124;43m'\u001b[39;49m\u001b[38;5;124;43mquery_hash\u001b[39;49m\u001b[38;5;124;43m'\u001b[39;49m\u001b[43m:\u001b[49m\u001b[43m \u001b[49m\u001b[43mquery_hash\u001b[49m\u001b[43m,\u001b[49m\n\u001b[1;32m    472\u001b[0m \u001b[43m                                      \u001b[49m\u001b[38;5;124;43m'\u001b[39;49m\u001b[38;5;124;43mvariables\u001b[39;49m\u001b[38;5;124;43m'\u001b[39;49m\u001b[43m:\u001b[49m\u001b[43m \u001b[49m\u001b[43mvariables_json\u001b[49m\u001b[43m}\u001b[49m\u001b[43m,\u001b[49m\n\u001b[1;32m    473\u001b[0m \u001b[43m                              \u001b[49m\u001b[43msession\u001b[49m\u001b[38;5;241;43m=\u001b[39;49m\u001b[43mtmpsession\u001b[49m\u001b[43m)\u001b[49m\n\u001b[1;32m    474\u001b[0m \u001b[38;5;28;01mif\u001b[39;00m \u001b[38;5;124m'\u001b[39m\u001b[38;5;124mstatus\u001b[39m\u001b[38;5;124m'\u001b[39m \u001b[38;5;129;01mnot\u001b[39;00m \u001b[38;5;129;01min\u001b[39;00m resp_json:\n\u001b[1;32m    475\u001b[0m     \u001b[38;5;28mself\u001b[39m\u001b[38;5;241m.\u001b[39merror(\u001b[38;5;124m\"\u001b[39m\u001b[38;5;124mGraphQL response did not contain a \u001b[39m\u001b[38;5;130;01m\\\"\u001b[39;00m\u001b[38;5;124mstatus\u001b[39m\u001b[38;5;130;01m\\\"\u001b[39;00m\u001b[38;5;124m field.\u001b[39m\u001b[38;5;124m\"\u001b[39m)\n",
      "File \u001b[0;32m~/.local/share/virtualenvs/TrendAi_repo-WZqMEwY8/lib/python3.10/site-packages/instaloader/instaloadercontext.py:376\u001b[0m, in \u001b[0;36mInstaloaderContext.get_json\u001b[0;34m(self, path, params, host, session, _attempt, response_headers)\u001b[0m\n\u001b[1;32m    374\u001b[0m \u001b[38;5;28;01mif\u001b[39;00m is_other_query:\n\u001b[1;32m    375\u001b[0m     \u001b[38;5;28mself\u001b[39m\u001b[38;5;241m.\u001b[39m_rate_controller\u001b[38;5;241m.\u001b[39mwait_before_query(\u001b[38;5;124m'\u001b[39m\u001b[38;5;124mother\u001b[39m\u001b[38;5;124m'\u001b[39m)\n\u001b[0;32m--> 376\u001b[0m resp \u001b[38;5;241m=\u001b[39m \u001b[43msess\u001b[49m\u001b[38;5;241;43m.\u001b[39;49m\u001b[43mget\u001b[49m\u001b[43m(\u001b[49m\u001b[38;5;124;43m'\u001b[39;49m\u001b[38;5;124;43mhttps://\u001b[39;49m\u001b[38;5;132;43;01m{0}\u001b[39;49;00m\u001b[38;5;124;43m/\u001b[39;49m\u001b[38;5;132;43;01m{1}\u001b[39;49;00m\u001b[38;5;124;43m'\u001b[39;49m\u001b[38;5;241;43m.\u001b[39;49m\u001b[43mformat\u001b[49m\u001b[43m(\u001b[49m\u001b[43mhost\u001b[49m\u001b[43m,\u001b[49m\u001b[43m \u001b[49m\u001b[43mpath\u001b[49m\u001b[43m)\u001b[49m\u001b[43m,\u001b[49m\u001b[43m \u001b[49m\u001b[43mparams\u001b[49m\u001b[38;5;241;43m=\u001b[39;49m\u001b[43mparams\u001b[49m\u001b[43m,\u001b[49m\u001b[43m \u001b[49m\u001b[43mallow_redirects\u001b[49m\u001b[38;5;241;43m=\u001b[39;49m\u001b[38;5;28;43;01mFalse\u001b[39;49;00m\u001b[43m)\u001b[49m\n\u001b[1;32m    377\u001b[0m \u001b[38;5;28;01mif\u001b[39;00m resp\u001b[38;5;241m.\u001b[39mstatus_code \u001b[38;5;129;01min\u001b[39;00m \u001b[38;5;28mself\u001b[39m\u001b[38;5;241m.\u001b[39mfatal_status_codes:\n\u001b[1;32m    378\u001b[0m     redirect \u001b[38;5;241m=\u001b[39m \u001b[38;5;124m\"\u001b[39m\u001b[38;5;124m redirect to \u001b[39m\u001b[38;5;132;01m{}\u001b[39;00m\u001b[38;5;124m\"\u001b[39m\u001b[38;5;241m.\u001b[39mformat(resp\u001b[38;5;241m.\u001b[39mheaders[\u001b[38;5;124m'\u001b[39m\u001b[38;5;124mlocation\u001b[39m\u001b[38;5;124m'\u001b[39m]) \u001b[38;5;28;01mif\u001b[39;00m \u001b[38;5;124m'\u001b[39m\u001b[38;5;124mlocation\u001b[39m\u001b[38;5;124m'\u001b[39m \u001b[38;5;129;01min\u001b[39;00m resp\u001b[38;5;241m.\u001b[39mheaders \u001b[38;5;28;01melse\u001b[39;00m \u001b[38;5;124m\"\u001b[39m\u001b[38;5;124m\"\u001b[39m\n",
      "File \u001b[0;32m~/.local/share/virtualenvs/TrendAi_repo-WZqMEwY8/lib/python3.10/site-packages/requests/sessions.py:602\u001b[0m, in \u001b[0;36mSession.get\u001b[0;34m(self, url, **kwargs)\u001b[0m\n\u001b[1;32m    594\u001b[0m \u001b[38;5;250m\u001b[39m\u001b[38;5;124mr\u001b[39m\u001b[38;5;124;03m\"\"\"Sends a GET request. Returns :class:`Response` object.\u001b[39;00m\n\u001b[1;32m    595\u001b[0m \n\u001b[1;32m    596\u001b[0m \u001b[38;5;124;03m:param url: URL for the new :class:`Request` object.\u001b[39;00m\n\u001b[1;32m    597\u001b[0m \u001b[38;5;124;03m:param \\*\\*kwargs: Optional arguments that ``request`` takes.\u001b[39;00m\n\u001b[1;32m    598\u001b[0m \u001b[38;5;124;03m:rtype: requests.Response\u001b[39;00m\n\u001b[1;32m    599\u001b[0m \u001b[38;5;124;03m\"\"\"\u001b[39;00m\n\u001b[1;32m    601\u001b[0m kwargs\u001b[38;5;241m.\u001b[39msetdefault(\u001b[38;5;124m\"\u001b[39m\u001b[38;5;124mallow_redirects\u001b[39m\u001b[38;5;124m\"\u001b[39m, \u001b[38;5;28;01mTrue\u001b[39;00m)\n\u001b[0;32m--> 602\u001b[0m \u001b[38;5;28;01mreturn\u001b[39;00m \u001b[38;5;28;43mself\u001b[39;49m\u001b[38;5;241;43m.\u001b[39;49m\u001b[43mrequest\u001b[49m\u001b[43m(\u001b[49m\u001b[38;5;124;43m\"\u001b[39;49m\u001b[38;5;124;43mGET\u001b[39;49m\u001b[38;5;124;43m\"\u001b[39;49m\u001b[43m,\u001b[49m\u001b[43m \u001b[49m\u001b[43murl\u001b[49m\u001b[43m,\u001b[49m\u001b[43m \u001b[49m\u001b[38;5;241;43m*\u001b[39;49m\u001b[38;5;241;43m*\u001b[39;49m\u001b[43mkwargs\u001b[49m\u001b[43m)\u001b[49m\n",
      "File \u001b[0;32m~/.local/share/virtualenvs/TrendAi_repo-WZqMEwY8/lib/python3.10/site-packages/requests/sessions.py:589\u001b[0m, in \u001b[0;36mSession.request\u001b[0;34m(self, method, url, params, data, headers, cookies, files, auth, timeout, allow_redirects, proxies, hooks, stream, verify, cert, json)\u001b[0m\n\u001b[1;32m    584\u001b[0m send_kwargs \u001b[38;5;241m=\u001b[39m {\n\u001b[1;32m    585\u001b[0m     \u001b[38;5;124m\"\u001b[39m\u001b[38;5;124mtimeout\u001b[39m\u001b[38;5;124m\"\u001b[39m: timeout,\n\u001b[1;32m    586\u001b[0m     \u001b[38;5;124m\"\u001b[39m\u001b[38;5;124mallow_redirects\u001b[39m\u001b[38;5;124m\"\u001b[39m: allow_redirects,\n\u001b[1;32m    587\u001b[0m }\n\u001b[1;32m    588\u001b[0m send_kwargs\u001b[38;5;241m.\u001b[39mupdate(settings)\n\u001b[0;32m--> 589\u001b[0m resp \u001b[38;5;241m=\u001b[39m \u001b[38;5;28;43mself\u001b[39;49m\u001b[38;5;241;43m.\u001b[39;49m\u001b[43msend\u001b[49m\u001b[43m(\u001b[49m\u001b[43mprep\u001b[49m\u001b[43m,\u001b[49m\u001b[43m \u001b[49m\u001b[38;5;241;43m*\u001b[39;49m\u001b[38;5;241;43m*\u001b[39;49m\u001b[43msend_kwargs\u001b[49m\u001b[43m)\u001b[49m\n\u001b[1;32m    591\u001b[0m \u001b[38;5;28;01mreturn\u001b[39;00m resp\n",
      "File \u001b[0;32m~/.local/share/virtualenvs/TrendAi_repo-WZqMEwY8/lib/python3.10/site-packages/requests/sessions.py:703\u001b[0m, in \u001b[0;36mSession.send\u001b[0;34m(self, request, **kwargs)\u001b[0m\n\u001b[1;32m    700\u001b[0m start \u001b[38;5;241m=\u001b[39m preferred_clock()\n\u001b[1;32m    702\u001b[0m \u001b[38;5;66;03m# Send the request\u001b[39;00m\n\u001b[0;32m--> 703\u001b[0m r \u001b[38;5;241m=\u001b[39m \u001b[43madapter\u001b[49m\u001b[38;5;241;43m.\u001b[39;49m\u001b[43msend\u001b[49m\u001b[43m(\u001b[49m\u001b[43mrequest\u001b[49m\u001b[43m,\u001b[49m\u001b[43m \u001b[49m\u001b[38;5;241;43m*\u001b[39;49m\u001b[38;5;241;43m*\u001b[39;49m\u001b[43mkwargs\u001b[49m\u001b[43m)\u001b[49m\n\u001b[1;32m    705\u001b[0m \u001b[38;5;66;03m# Total elapsed time of the request (approximately)\u001b[39;00m\n\u001b[1;32m    706\u001b[0m elapsed \u001b[38;5;241m=\u001b[39m preferred_clock() \u001b[38;5;241m-\u001b[39m start\n",
      "File \u001b[0;32m~/.local/share/virtualenvs/TrendAi_repo-WZqMEwY8/lib/python3.10/site-packages/requests/adapters.py:486\u001b[0m, in \u001b[0;36mHTTPAdapter.send\u001b[0;34m(self, request, stream, timeout, verify, cert, proxies)\u001b[0m\n\u001b[1;32m    483\u001b[0m     timeout \u001b[38;5;241m=\u001b[39m TimeoutSauce(connect\u001b[38;5;241m=\u001b[39mtimeout, read\u001b[38;5;241m=\u001b[39mtimeout)\n\u001b[1;32m    485\u001b[0m \u001b[38;5;28;01mtry\u001b[39;00m:\n\u001b[0;32m--> 486\u001b[0m     resp \u001b[38;5;241m=\u001b[39m \u001b[43mconn\u001b[49m\u001b[38;5;241;43m.\u001b[39;49m\u001b[43murlopen\u001b[49m\u001b[43m(\u001b[49m\n\u001b[1;32m    487\u001b[0m \u001b[43m        \u001b[49m\u001b[43mmethod\u001b[49m\u001b[38;5;241;43m=\u001b[39;49m\u001b[43mrequest\u001b[49m\u001b[38;5;241;43m.\u001b[39;49m\u001b[43mmethod\u001b[49m\u001b[43m,\u001b[49m\n\u001b[1;32m    488\u001b[0m \u001b[43m        \u001b[49m\u001b[43murl\u001b[49m\u001b[38;5;241;43m=\u001b[39;49m\u001b[43murl\u001b[49m\u001b[43m,\u001b[49m\n\u001b[1;32m    489\u001b[0m \u001b[43m        \u001b[49m\u001b[43mbody\u001b[49m\u001b[38;5;241;43m=\u001b[39;49m\u001b[43mrequest\u001b[49m\u001b[38;5;241;43m.\u001b[39;49m\u001b[43mbody\u001b[49m\u001b[43m,\u001b[49m\n\u001b[1;32m    490\u001b[0m \u001b[43m        \u001b[49m\u001b[43mheaders\u001b[49m\u001b[38;5;241;43m=\u001b[39;49m\u001b[43mrequest\u001b[49m\u001b[38;5;241;43m.\u001b[39;49m\u001b[43mheaders\u001b[49m\u001b[43m,\u001b[49m\n\u001b[1;32m    491\u001b[0m \u001b[43m        \u001b[49m\u001b[43mredirect\u001b[49m\u001b[38;5;241;43m=\u001b[39;49m\u001b[38;5;28;43;01mFalse\u001b[39;49;00m\u001b[43m,\u001b[49m\n\u001b[1;32m    492\u001b[0m \u001b[43m        \u001b[49m\u001b[43massert_same_host\u001b[49m\u001b[38;5;241;43m=\u001b[39;49m\u001b[38;5;28;43;01mFalse\u001b[39;49;00m\u001b[43m,\u001b[49m\n\u001b[1;32m    493\u001b[0m \u001b[43m        \u001b[49m\u001b[43mpreload_content\u001b[49m\u001b[38;5;241;43m=\u001b[39;49m\u001b[38;5;28;43;01mFalse\u001b[39;49;00m\u001b[43m,\u001b[49m\n\u001b[1;32m    494\u001b[0m \u001b[43m        \u001b[49m\u001b[43mdecode_content\u001b[49m\u001b[38;5;241;43m=\u001b[39;49m\u001b[38;5;28;43;01mFalse\u001b[39;49;00m\u001b[43m,\u001b[49m\n\u001b[1;32m    495\u001b[0m \u001b[43m        \u001b[49m\u001b[43mretries\u001b[49m\u001b[38;5;241;43m=\u001b[39;49m\u001b[38;5;28;43mself\u001b[39;49m\u001b[38;5;241;43m.\u001b[39;49m\u001b[43mmax_retries\u001b[49m\u001b[43m,\u001b[49m\n\u001b[1;32m    496\u001b[0m \u001b[43m        \u001b[49m\u001b[43mtimeout\u001b[49m\u001b[38;5;241;43m=\u001b[39;49m\u001b[43mtimeout\u001b[49m\u001b[43m,\u001b[49m\n\u001b[1;32m    497\u001b[0m \u001b[43m        \u001b[49m\u001b[43mchunked\u001b[49m\u001b[38;5;241;43m=\u001b[39;49m\u001b[43mchunked\u001b[49m\u001b[43m,\u001b[49m\n\u001b[1;32m    498\u001b[0m \u001b[43m    \u001b[49m\u001b[43m)\u001b[49m\n\u001b[1;32m    500\u001b[0m \u001b[38;5;28;01mexcept\u001b[39;00m (ProtocolError, \u001b[38;5;167;01mOSError\u001b[39;00m) \u001b[38;5;28;01mas\u001b[39;00m err:\n\u001b[1;32m    501\u001b[0m     \u001b[38;5;28;01mraise\u001b[39;00m \u001b[38;5;167;01mConnectionError\u001b[39;00m(err, request\u001b[38;5;241m=\u001b[39mrequest)\n",
      "File \u001b[0;32m~/.local/share/virtualenvs/TrendAi_repo-WZqMEwY8/lib/python3.10/site-packages/urllib3/connectionpool.py:790\u001b[0m, in \u001b[0;36mHTTPConnectionPool.urlopen\u001b[0;34m(self, method, url, body, headers, retries, redirect, assert_same_host, timeout, pool_timeout, release_conn, chunked, body_pos, preload_content, decode_content, **response_kw)\u001b[0m\n\u001b[1;32m    787\u001b[0m response_conn \u001b[38;5;241m=\u001b[39m conn \u001b[38;5;28;01mif\u001b[39;00m \u001b[38;5;129;01mnot\u001b[39;00m release_conn \u001b[38;5;28;01melse\u001b[39;00m \u001b[38;5;28;01mNone\u001b[39;00m\n\u001b[1;32m    789\u001b[0m \u001b[38;5;66;03m# Make the request on the HTTPConnection object\u001b[39;00m\n\u001b[0;32m--> 790\u001b[0m response \u001b[38;5;241m=\u001b[39m \u001b[38;5;28;43mself\u001b[39;49m\u001b[38;5;241;43m.\u001b[39;49m\u001b[43m_make_request\u001b[49m\u001b[43m(\u001b[49m\n\u001b[1;32m    791\u001b[0m \u001b[43m    \u001b[49m\u001b[43mconn\u001b[49m\u001b[43m,\u001b[49m\n\u001b[1;32m    792\u001b[0m \u001b[43m    \u001b[49m\u001b[43mmethod\u001b[49m\u001b[43m,\u001b[49m\n\u001b[1;32m    793\u001b[0m \u001b[43m    \u001b[49m\u001b[43murl\u001b[49m\u001b[43m,\u001b[49m\n\u001b[1;32m    794\u001b[0m \u001b[43m    \u001b[49m\u001b[43mtimeout\u001b[49m\u001b[38;5;241;43m=\u001b[39;49m\u001b[43mtimeout_obj\u001b[49m\u001b[43m,\u001b[49m\n\u001b[1;32m    795\u001b[0m \u001b[43m    \u001b[49m\u001b[43mbody\u001b[49m\u001b[38;5;241;43m=\u001b[39;49m\u001b[43mbody\u001b[49m\u001b[43m,\u001b[49m\n\u001b[1;32m    796\u001b[0m \u001b[43m    \u001b[49m\u001b[43mheaders\u001b[49m\u001b[38;5;241;43m=\u001b[39;49m\u001b[43mheaders\u001b[49m\u001b[43m,\u001b[49m\n\u001b[1;32m    797\u001b[0m \u001b[43m    \u001b[49m\u001b[43mchunked\u001b[49m\u001b[38;5;241;43m=\u001b[39;49m\u001b[43mchunked\u001b[49m\u001b[43m,\u001b[49m\n\u001b[1;32m    798\u001b[0m \u001b[43m    \u001b[49m\u001b[43mretries\u001b[49m\u001b[38;5;241;43m=\u001b[39;49m\u001b[43mretries\u001b[49m\u001b[43m,\u001b[49m\n\u001b[1;32m    799\u001b[0m \u001b[43m    \u001b[49m\u001b[43mresponse_conn\u001b[49m\u001b[38;5;241;43m=\u001b[39;49m\u001b[43mresponse_conn\u001b[49m\u001b[43m,\u001b[49m\n\u001b[1;32m    800\u001b[0m \u001b[43m    \u001b[49m\u001b[43mpreload_content\u001b[49m\u001b[38;5;241;43m=\u001b[39;49m\u001b[43mpreload_content\u001b[49m\u001b[43m,\u001b[49m\n\u001b[1;32m    801\u001b[0m \u001b[43m    \u001b[49m\u001b[43mdecode_content\u001b[49m\u001b[38;5;241;43m=\u001b[39;49m\u001b[43mdecode_content\u001b[49m\u001b[43m,\u001b[49m\n\u001b[1;32m    802\u001b[0m \u001b[43m    \u001b[49m\u001b[38;5;241;43m*\u001b[39;49m\u001b[38;5;241;43m*\u001b[39;49m\u001b[43mresponse_kw\u001b[49m\u001b[43m,\u001b[49m\n\u001b[1;32m    803\u001b[0m \u001b[43m\u001b[49m\u001b[43m)\u001b[49m\n\u001b[1;32m    805\u001b[0m \u001b[38;5;66;03m# Everything went great!\u001b[39;00m\n\u001b[1;32m    806\u001b[0m clean_exit \u001b[38;5;241m=\u001b[39m \u001b[38;5;28;01mTrue\u001b[39;00m\n",
      "File \u001b[0;32m~/.local/share/virtualenvs/TrendAi_repo-WZqMEwY8/lib/python3.10/site-packages/urllib3/connectionpool.py:536\u001b[0m, in \u001b[0;36mHTTPConnectionPool._make_request\u001b[0;34m(self, conn, method, url, body, headers, retries, timeout, chunked, response_conn, preload_content, decode_content, enforce_content_length)\u001b[0m\n\u001b[1;32m    534\u001b[0m \u001b[38;5;66;03m# Receive the response from the server\u001b[39;00m\n\u001b[1;32m    535\u001b[0m \u001b[38;5;28;01mtry\u001b[39;00m:\n\u001b[0;32m--> 536\u001b[0m     response \u001b[38;5;241m=\u001b[39m \u001b[43mconn\u001b[49m\u001b[38;5;241;43m.\u001b[39;49m\u001b[43mgetresponse\u001b[49m\u001b[43m(\u001b[49m\u001b[43m)\u001b[49m\n\u001b[1;32m    537\u001b[0m \u001b[38;5;28;01mexcept\u001b[39;00m (BaseSSLError, \u001b[38;5;167;01mOSError\u001b[39;00m) \u001b[38;5;28;01mas\u001b[39;00m e:\n\u001b[1;32m    538\u001b[0m     \u001b[38;5;28mself\u001b[39m\u001b[38;5;241m.\u001b[39m_raise_timeout(err\u001b[38;5;241m=\u001b[39me, url\u001b[38;5;241m=\u001b[39murl, timeout_value\u001b[38;5;241m=\u001b[39mread_timeout)\n",
      "File \u001b[0;32m~/.local/share/virtualenvs/TrendAi_repo-WZqMEwY8/lib/python3.10/site-packages/urllib3/connection.py:461\u001b[0m, in \u001b[0;36mHTTPConnection.getresponse\u001b[0;34m(self)\u001b[0m\n\u001b[1;32m    458\u001b[0m \u001b[38;5;28;01mfrom\u001b[39;00m \u001b[38;5;21;01m.\u001b[39;00m\u001b[38;5;21;01mresponse\u001b[39;00m \u001b[38;5;28;01mimport\u001b[39;00m HTTPResponse\n\u001b[1;32m    460\u001b[0m \u001b[38;5;66;03m# Get the response from http.client.HTTPConnection\u001b[39;00m\n\u001b[0;32m--> 461\u001b[0m httplib_response \u001b[38;5;241m=\u001b[39m \u001b[38;5;28;43msuper\u001b[39;49m\u001b[43m(\u001b[49m\u001b[43m)\u001b[49m\u001b[38;5;241;43m.\u001b[39;49m\u001b[43mgetresponse\u001b[49m\u001b[43m(\u001b[49m\u001b[43m)\u001b[49m\n\u001b[1;32m    463\u001b[0m \u001b[38;5;28;01mtry\u001b[39;00m:\n\u001b[1;32m    464\u001b[0m     assert_header_parsing(httplib_response\u001b[38;5;241m.\u001b[39mmsg)\n",
      "File \u001b[0;32m/opt/homebrew/Cellar/python@3.10/3.10.13/Frameworks/Python.framework/Versions/3.10/lib/python3.10/http/client.py:1375\u001b[0m, in \u001b[0;36mHTTPConnection.getresponse\u001b[0;34m(self)\u001b[0m\n\u001b[1;32m   1373\u001b[0m \u001b[38;5;28;01mtry\u001b[39;00m:\n\u001b[1;32m   1374\u001b[0m     \u001b[38;5;28;01mtry\u001b[39;00m:\n\u001b[0;32m-> 1375\u001b[0m         \u001b[43mresponse\u001b[49m\u001b[38;5;241;43m.\u001b[39;49m\u001b[43mbegin\u001b[49m\u001b[43m(\u001b[49m\u001b[43m)\u001b[49m\n\u001b[1;32m   1376\u001b[0m     \u001b[38;5;28;01mexcept\u001b[39;00m \u001b[38;5;167;01mConnectionError\u001b[39;00m:\n\u001b[1;32m   1377\u001b[0m         \u001b[38;5;28mself\u001b[39m\u001b[38;5;241m.\u001b[39mclose()\n",
      "File \u001b[0;32m/opt/homebrew/Cellar/python@3.10/3.10.13/Frameworks/Python.framework/Versions/3.10/lib/python3.10/http/client.py:318\u001b[0m, in \u001b[0;36mHTTPResponse.begin\u001b[0;34m(self)\u001b[0m\n\u001b[1;32m    316\u001b[0m \u001b[38;5;66;03m# read until we get a non-100 response\u001b[39;00m\n\u001b[1;32m    317\u001b[0m \u001b[38;5;28;01mwhile\u001b[39;00m \u001b[38;5;28;01mTrue\u001b[39;00m:\n\u001b[0;32m--> 318\u001b[0m     version, status, reason \u001b[38;5;241m=\u001b[39m \u001b[38;5;28;43mself\u001b[39;49m\u001b[38;5;241;43m.\u001b[39;49m\u001b[43m_read_status\u001b[49m\u001b[43m(\u001b[49m\u001b[43m)\u001b[49m\n\u001b[1;32m    319\u001b[0m     \u001b[38;5;28;01mif\u001b[39;00m status \u001b[38;5;241m!=\u001b[39m CONTINUE:\n\u001b[1;32m    320\u001b[0m         \u001b[38;5;28;01mbreak\u001b[39;00m\n",
      "File \u001b[0;32m/opt/homebrew/Cellar/python@3.10/3.10.13/Frameworks/Python.framework/Versions/3.10/lib/python3.10/http/client.py:279\u001b[0m, in \u001b[0;36mHTTPResponse._read_status\u001b[0;34m(self)\u001b[0m\n\u001b[1;32m    278\u001b[0m \u001b[38;5;28;01mdef\u001b[39;00m \u001b[38;5;21m_read_status\u001b[39m(\u001b[38;5;28mself\u001b[39m):\n\u001b[0;32m--> 279\u001b[0m     line \u001b[38;5;241m=\u001b[39m \u001b[38;5;28mstr\u001b[39m(\u001b[38;5;28;43mself\u001b[39;49m\u001b[38;5;241;43m.\u001b[39;49m\u001b[43mfp\u001b[49m\u001b[38;5;241;43m.\u001b[39;49m\u001b[43mreadline\u001b[49m\u001b[43m(\u001b[49m\u001b[43m_MAXLINE\u001b[49m\u001b[43m \u001b[49m\u001b[38;5;241;43m+\u001b[39;49m\u001b[43m \u001b[49m\u001b[38;5;241;43m1\u001b[39;49m\u001b[43m)\u001b[49m, \u001b[38;5;124m\"\u001b[39m\u001b[38;5;124miso-8859-1\u001b[39m\u001b[38;5;124m\"\u001b[39m)\n\u001b[1;32m    280\u001b[0m     \u001b[38;5;28;01mif\u001b[39;00m \u001b[38;5;28mlen\u001b[39m(line) \u001b[38;5;241m>\u001b[39m _MAXLINE:\n\u001b[1;32m    281\u001b[0m         \u001b[38;5;28;01mraise\u001b[39;00m LineTooLong(\u001b[38;5;124m\"\u001b[39m\u001b[38;5;124mstatus line\u001b[39m\u001b[38;5;124m\"\u001b[39m)\n",
      "File \u001b[0;32m/opt/homebrew/Cellar/python@3.10/3.10.13/Frameworks/Python.framework/Versions/3.10/lib/python3.10/socket.py:705\u001b[0m, in \u001b[0;36mSocketIO.readinto\u001b[0;34m(self, b)\u001b[0m\n\u001b[1;32m    703\u001b[0m \u001b[38;5;28;01mwhile\u001b[39;00m \u001b[38;5;28;01mTrue\u001b[39;00m:\n\u001b[1;32m    704\u001b[0m     \u001b[38;5;28;01mtry\u001b[39;00m:\n\u001b[0;32m--> 705\u001b[0m         \u001b[38;5;28;01mreturn\u001b[39;00m \u001b[38;5;28;43mself\u001b[39;49m\u001b[38;5;241;43m.\u001b[39;49m\u001b[43m_sock\u001b[49m\u001b[38;5;241;43m.\u001b[39;49m\u001b[43mrecv_into\u001b[49m\u001b[43m(\u001b[49m\u001b[43mb\u001b[49m\u001b[43m)\u001b[49m\n\u001b[1;32m    706\u001b[0m     \u001b[38;5;28;01mexcept\u001b[39;00m timeout:\n\u001b[1;32m    707\u001b[0m         \u001b[38;5;28mself\u001b[39m\u001b[38;5;241m.\u001b[39m_timeout_occurred \u001b[38;5;241m=\u001b[39m \u001b[38;5;28;01mTrue\u001b[39;00m\n",
      "File \u001b[0;32m/opt/homebrew/Cellar/python@3.10/3.10.13/Frameworks/Python.framework/Versions/3.10/lib/python3.10/ssl.py:1307\u001b[0m, in \u001b[0;36mSSLSocket.recv_into\u001b[0;34m(self, buffer, nbytes, flags)\u001b[0m\n\u001b[1;32m   1303\u001b[0m     \u001b[38;5;28;01mif\u001b[39;00m flags \u001b[38;5;241m!=\u001b[39m \u001b[38;5;241m0\u001b[39m:\n\u001b[1;32m   1304\u001b[0m         \u001b[38;5;28;01mraise\u001b[39;00m \u001b[38;5;167;01mValueError\u001b[39;00m(\n\u001b[1;32m   1305\u001b[0m           \u001b[38;5;124m\"\u001b[39m\u001b[38;5;124mnon-zero flags not allowed in calls to recv_into() on \u001b[39m\u001b[38;5;132;01m%s\u001b[39;00m\u001b[38;5;124m\"\u001b[39m \u001b[38;5;241m%\u001b[39m\n\u001b[1;32m   1306\u001b[0m           \u001b[38;5;28mself\u001b[39m\u001b[38;5;241m.\u001b[39m\u001b[38;5;18m__class__\u001b[39m)\n\u001b[0;32m-> 1307\u001b[0m     \u001b[38;5;28;01mreturn\u001b[39;00m \u001b[38;5;28;43mself\u001b[39;49m\u001b[38;5;241;43m.\u001b[39;49m\u001b[43mread\u001b[49m\u001b[43m(\u001b[49m\u001b[43mnbytes\u001b[49m\u001b[43m,\u001b[49m\u001b[43m \u001b[49m\u001b[43mbuffer\u001b[49m\u001b[43m)\u001b[49m\n\u001b[1;32m   1308\u001b[0m \u001b[38;5;28;01melse\u001b[39;00m:\n\u001b[1;32m   1309\u001b[0m     \u001b[38;5;28;01mreturn\u001b[39;00m \u001b[38;5;28msuper\u001b[39m()\u001b[38;5;241m.\u001b[39mrecv_into(buffer, nbytes, flags)\n",
      "File \u001b[0;32m/opt/homebrew/Cellar/python@3.10/3.10.13/Frameworks/Python.framework/Versions/3.10/lib/python3.10/ssl.py:1163\u001b[0m, in \u001b[0;36mSSLSocket.read\u001b[0;34m(self, len, buffer)\u001b[0m\n\u001b[1;32m   1161\u001b[0m \u001b[38;5;28;01mtry\u001b[39;00m:\n\u001b[1;32m   1162\u001b[0m     \u001b[38;5;28;01mif\u001b[39;00m buffer \u001b[38;5;129;01mis\u001b[39;00m \u001b[38;5;129;01mnot\u001b[39;00m \u001b[38;5;28;01mNone\u001b[39;00m:\n\u001b[0;32m-> 1163\u001b[0m         \u001b[38;5;28;01mreturn\u001b[39;00m \u001b[38;5;28;43mself\u001b[39;49m\u001b[38;5;241;43m.\u001b[39;49m\u001b[43m_sslobj\u001b[49m\u001b[38;5;241;43m.\u001b[39;49m\u001b[43mread\u001b[49m\u001b[43m(\u001b[49m\u001b[38;5;28;43mlen\u001b[39;49m\u001b[43m,\u001b[49m\u001b[43m \u001b[49m\u001b[43mbuffer\u001b[49m\u001b[43m)\u001b[49m\n\u001b[1;32m   1164\u001b[0m     \u001b[38;5;28;01melse\u001b[39;00m:\n\u001b[1;32m   1165\u001b[0m         \u001b[38;5;28;01mreturn\u001b[39;00m \u001b[38;5;28mself\u001b[39m\u001b[38;5;241m.\u001b[39m_sslobj\u001b[38;5;241m.\u001b[39mread(\u001b[38;5;28mlen\u001b[39m)\n",
      "\u001b[0;31mKeyboardInterrupt\u001b[0m: "
     ]
    }
   ],
   "source": [
    "# Itear por cada post del perfil y descargarlo si es del día de ayer\n",
    "for post in profile.get_posts():\n",
    "        L.download_post(post, target=\"#mbfwmadrid\")"
   ]
  },
  {
   "cell_type": "code",
   "execution_count": 7,
   "metadata": {},
   "outputs": [
    {
     "ename": "FileNotFoundError",
     "evalue": "[Errno 2] No such file or directory: '2023-11-20_15-05-04_UTC.json'",
     "output_type": "error",
     "traceback": [
      "\u001b[0;31m---------------------------------------------------------------------------\u001b[0m",
      "\u001b[0;31mFileNotFoundError\u001b[0m                         Traceback (most recent call last)",
      "Cell \u001b[0;32mIn[7], line 1\u001b[0m\n\u001b[0;32m----> 1\u001b[0m \u001b[38;5;28;01mwith\u001b[39;00m \u001b[38;5;28;43mopen\u001b[39;49m\u001b[43m(\u001b[49m\u001b[38;5;124;43m'\u001b[39;49m\u001b[38;5;124;43m2023-11-20_15-05-04_UTC.json\u001b[39;49m\u001b[38;5;124;43m'\u001b[39;49m\u001b[43m,\u001b[49m\u001b[43m \u001b[49m\u001b[38;5;124;43m'\u001b[39;49m\u001b[38;5;124;43mr\u001b[39;49m\u001b[38;5;124;43m'\u001b[39;49m\u001b[43m)\u001b[49m \u001b[38;5;28;01mas\u001b[39;00m f:\n\u001b[1;32m      2\u001b[0m     data \u001b[38;5;241m=\u001b[39m json\u001b[38;5;241m.\u001b[39mload(f)\n",
      "File \u001b[0;32m~/.local/share/virtualenvs/TrendAi_repo-WZqMEwY8/lib/python3.10/site-packages/IPython/core/interactiveshell.py:310\u001b[0m, in \u001b[0;36m_modified_open\u001b[0;34m(file, *args, **kwargs)\u001b[0m\n\u001b[1;32m    303\u001b[0m \u001b[38;5;28;01mif\u001b[39;00m file \u001b[38;5;129;01min\u001b[39;00m {\u001b[38;5;241m0\u001b[39m, \u001b[38;5;241m1\u001b[39m, \u001b[38;5;241m2\u001b[39m}:\n\u001b[1;32m    304\u001b[0m     \u001b[38;5;28;01mraise\u001b[39;00m \u001b[38;5;167;01mValueError\u001b[39;00m(\n\u001b[1;32m    305\u001b[0m         \u001b[38;5;124mf\u001b[39m\u001b[38;5;124m\"\u001b[39m\u001b[38;5;124mIPython won\u001b[39m\u001b[38;5;124m'\u001b[39m\u001b[38;5;124mt let you open fd=\u001b[39m\u001b[38;5;132;01m{\u001b[39;00mfile\u001b[38;5;132;01m}\u001b[39;00m\u001b[38;5;124m by default \u001b[39m\u001b[38;5;124m\"\u001b[39m\n\u001b[1;32m    306\u001b[0m         \u001b[38;5;124m\"\u001b[39m\u001b[38;5;124mas it is likely to crash IPython. If you know what you are doing, \u001b[39m\u001b[38;5;124m\"\u001b[39m\n\u001b[1;32m    307\u001b[0m         \u001b[38;5;124m\"\u001b[39m\u001b[38;5;124myou can use builtins\u001b[39m\u001b[38;5;124m'\u001b[39m\u001b[38;5;124m open.\u001b[39m\u001b[38;5;124m\"\u001b[39m\n\u001b[1;32m    308\u001b[0m     )\n\u001b[0;32m--> 310\u001b[0m \u001b[38;5;28;01mreturn\u001b[39;00m \u001b[43mio_open\u001b[49m\u001b[43m(\u001b[49m\u001b[43mfile\u001b[49m\u001b[43m,\u001b[49m\u001b[43m \u001b[49m\u001b[38;5;241;43m*\u001b[39;49m\u001b[43margs\u001b[49m\u001b[43m,\u001b[49m\u001b[43m \u001b[49m\u001b[38;5;241;43m*\u001b[39;49m\u001b[38;5;241;43m*\u001b[39;49m\u001b[43mkwargs\u001b[49m\u001b[43m)\u001b[49m\n",
      "\u001b[0;31mFileNotFoundError\u001b[0m: [Errno 2] No such file or directory: '2023-11-20_15-05-04_UTC.json'"
     ]
    }
   ],
   "source": [
    "with open('2023-11-20_15-05-04_UTC.json', 'r') as f:\n",
    "    data = json.load(f)"
   ]
  },
  {
   "cell_type": "code",
   "execution_count": null,
   "metadata": {},
   "outputs": [],
   "source": []
  },
  {
   "cell_type": "code",
   "execution_count": 28,
   "metadata": {},
   "outputs": [
    {
     "data": {
      "text/plain": [
       "{'__typename': 'GraphSidecar',\n",
       " 'id': '3240290113202335663',\n",
       " 'shortcode': 'Cz30rCuoq-v',\n",
       " 'dimensions': {'height': 750, 'width': 750},\n",
       " 'display_url': 'https://scontent-mad1-1.cdninstagram.com/v/t51.2885-15/403774119_876998314100774_7015040225389885679_n.jpg?stp=dst-jpg_e15&_nc_ht=scontent-mad1-1.cdninstagram.com&_nc_cat=102&_nc_ohc=S73giBWkefYAX8FT9zc&edm=AOQ1c0wBAAAA&ccb=7-5&ig_cache_key=MzI0MDI5MDEwNzIxMjk0NTAzNg%3D%3D.2-ccb7-5&oh=00_AfDRU_D1StFS-3YrUU1vcQdXbkXimjOc7kLj9bc8sQrOgg&oe=65659DA5&_nc_sid=8b3546',\n",
       " 'edge_media_to_tagged_user': {'edges': []},\n",
       " 'fact_check_overall_rating': None,\n",
       " 'fact_check_information': None,\n",
       " 'gating_info': None,\n",
       " 'sharing_friction_info': {'should_have_sharing_friction': False,\n",
       "  'bloks_app_url': None},\n",
       " 'media_overlay_info': None,\n",
       " 'media_preview': None,\n",
       " 'owner': {'ai_agent_type': None,\n",
       "  'biography': 'Mercedes-Benz Fashion Week Madrid\\n#MBFWMadrid\\n#Sientelainspiracion en @ifema_madrid',\n",
       "  'bio_links': [{'title': '',\n",
       "    'lynx_url': 'https://l.instagram.com/?u=https%3A%2F%2Flinktr.ee%2FMBFWMadrid&e=AT3eERs5roeJCBd5nvPo6L9mClvnXNdcGyl-adPqAbJ_rT6muA2qAG84jraNe3JG5dBZ_F9a6GeO7XIgBiYoOfSCUs8HL-Q7',\n",
       "    'url': 'https://linktr.ee/MBFWMadrid',\n",
       "    'link_type': 'external'}],\n",
       "  'fb_profile_biolink': None,\n",
       "  'biography_with_entities': {'raw_text': 'Mercedes-Benz Fashion Week Madrid\\n#MBFWMadrid\\n#Sientelainspiracion en @ifema_madrid',\n",
       "   'entities': [{'user': None, 'hashtag': {'name': 'sientelainspiracion'}},\n",
       "    {'user': None, 'hashtag': {'name': 'mbfwmadrid'}},\n",
       "    {'user': {'username': 'ifema_madrid'}, 'hashtag': None}]},\n",
       "  'blocked_by_viewer': False,\n",
       "  'restricted_by_viewer': None,\n",
       "  'country_block': False,\n",
       "  'eimu_id': '113353980056284',\n",
       "  'external_url': 'https://linktr.ee/MBFWMadrid',\n",
       "  'external_url_linkshimmed': 'https://l.instagram.com/?u=https%3A%2F%2Flinktr.ee%2FMBFWMadrid&e=AT07VnJeKcN3yfSETQ1INBt7ya5zyGjzbv8uLGSMdVxx1gjT5aVXMztqtDh3g84Yr4OYUrDKGJuMlTED1OeuSm2X_AR2CXiy',\n",
       "  'edge_followed_by': {'count': 90990},\n",
       "  'fbid': '17841400255240302',\n",
       "  'followed_by_viewer': False,\n",
       "  'edge_follow': {'count': 4097},\n",
       "  'follows_viewer': False,\n",
       "  'full_name': 'MBFWMadrid',\n",
       "  'group_metadata': None,\n",
       "  'has_ar_effects': False,\n",
       "  'has_clips': True,\n",
       "  'has_guides': True,\n",
       "  'has_channel': False,\n",
       "  'has_blocked_viewer': False,\n",
       "  'highlight_reel_count': 13,\n",
       "  'has_requested_viewer': False,\n",
       "  'hide_like_and_view_counts': False,\n",
       "  'id': '19336508',\n",
       "  'is_business_account': True,\n",
       "  'is_professional_account': True,\n",
       "  'is_supervision_enabled': False,\n",
       "  'is_guardian_of_viewer': False,\n",
       "  'is_supervised_by_viewer': False,\n",
       "  'is_supervised_user': False,\n",
       "  'is_embeds_disabled': False,\n",
       "  'is_joined_recently': False,\n",
       "  'guardian_id': None,\n",
       "  'business_address_json': '{\"city_name\": null, \"city_id\": null, \"latitude\": null, \"longitude\": null, \"street_address\": null, \"zip_code\": null}',\n",
       "  'business_contact_method': 'UNKNOWN',\n",
       "  'business_email': None,\n",
       "  'business_phone_number': None,\n",
       "  'business_category_name': 'Local Events',\n",
       "  'overall_category_name': None,\n",
       "  'category_enum': 'FESTIVAL',\n",
       "  'category_name': None,\n",
       "  'is_private': False,\n",
       "  'is_verified': False,\n",
       "  'is_verified_by_mv4b': False,\n",
       "  'is_regulated_c18': False,\n",
       "  'edge_mutual_followed_by': {'count': 0, 'edges': []},\n",
       "  'pinned_channels_list_count': 0,\n",
       "  'profile_pic_url': 'https://scontent-mad1-1.cdninstagram.com/v/t51.2885-19/326633940_2751818421626886_3461090571923651189_n.jpg?stp=dst-jpg_s150x150&_nc_ht=scontent-mad1-1.cdninstagram.com&_nc_cat=106&_nc_ohc=oSaFneZdgFEAX-cbzGS&edm=AOQ1c0wBAAAA&ccb=7-5&oh=00_AfD5YiMMLQ_WuoFJm2n5nqmm4xijW8AdAkks515o0pbeHQ&oe=6564AEA3&_nc_sid=8b3546',\n",
       "  'profile_pic_url_hd': 'https://scontent-mad1-1.cdninstagram.com/v/t51.2885-19/326633940_2751818421626886_3461090571923651189_n.jpg?stp=dst-jpg_s320x320&_nc_ht=scontent-mad1-1.cdninstagram.com&_nc_cat=106&_nc_ohc=oSaFneZdgFEAX-cbzGS&edm=AOQ1c0wBAAAA&ccb=7-5&oh=00_AfDikDvOQEFiXYOcbWw-ZCWZLi-_zG5Bzi8qE9WmnEK3oA&oe=6564AEA3&_nc_sid=8b3546',\n",
       "  'requested_by_viewer': False,\n",
       "  'should_show_category': True,\n",
       "  'should_show_public_contacts': True,\n",
       "  'show_account_transparency_details': True,\n",
       "  'transparency_label': None,\n",
       "  'transparency_product': 'STATE_CONTROLLED_MEDIA',\n",
       "  'username': 'mbfwmadrid',\n",
       "  'connected_fb_page': None,\n",
       "  'pronouns': [],\n",
       "  'edge_related_profiles': {'edges': [{'node': {'id': '697849140',\n",
       "      'full_name': '𝗧𝗖𝗡',\n",
       "      'is_private': False,\n",
       "      'is_verified': False,\n",
       "      'profile_pic_url': 'https://scontent-mad2-1.cdninstagram.com/v/t51.2885-19/53347718_299084567453098_4735824415961382912_n.jpg?stp=dst-jpg_s150x150&_nc_ht=scontent-mad2-1.cdninstagram.com&_nc_cat=110&_nc_ohc=eHF71tp7rKwAX-EJvnG&edm=AOQ1c0wBAAAA&ccb=7-5&oh=00_AfDXarX1eskQiO7WntIP4Np4SFOWwLaJA0_6DZwY6_YBTw&oe=6564FA46&_nc_sid=8b3546',\n",
       "      'username': 'tcnbarcelona'}},\n",
       "    {'node': {'id': '1408862796',\n",
       "      'full_name': 'LUPO',\n",
       "      'is_private': False,\n",
       "      'is_verified': True,\n",
       "      'profile_pic_url': 'https://scontent-mad2-1.cdninstagram.com/v/t51.2885-19/393101578_1511412103010711_8600249053354612207_n.jpg?stp=dst-jpg_s150x150&_nc_ht=scontent-mad2-1.cdninstagram.com&_nc_cat=111&_nc_ohc=iqH2BgfE9OAAX_aMeOS&edm=AOQ1c0wBAAAA&ccb=7-5&oh=00_AfBEQkortX-2XvrgWSyRqTVY7oE1nYtFguMHDY_nrE6AyQ&oe=6564D482&_nc_sid=8b3546',\n",
       "      'username': 'lupo'}},\n",
       "    {'node': {'id': '1483272312',\n",
       "      'full_name': 'XXL Comunicación',\n",
       "      'is_private': False,\n",
       "      'is_verified': False,\n",
       "      'profile_pic_url': 'https://scontent-mad2-1.cdninstagram.com/v/t51.2885-19/51989533_417202152361822_29791383518707712_n.jpg?stp=dst-jpg_s150x150&_nc_ht=scontent-mad2-1.cdninstagram.com&_nc_cat=110&_nc_ohc=YU8Tt5tG3KMAX8uQNgJ&edm=AOQ1c0wBAAAA&ccb=7-5&oh=00_AfD326XUt1ZBZ7VLIIFjlCGuYr7M3un4HH-xoSAdHndAEA&oe=65648FFC&_nc_sid=8b3546',\n",
       "      'username': 'xxlcomunicacion'}},\n",
       "    {'node': {'id': '52281378515',\n",
       "      'full_name': 'cdg',\n",
       "      'is_private': False,\n",
       "      'is_verified': False,\n",
       "      'profile_pic_url': 'https://scontent-mad2-1.cdninstagram.com/v/t51.2885-19/277244164_170186942031574_285219775517396917_n.jpg?stp=dst-jpg_s150x150&_nc_ht=scontent-mad2-1.cdninstagram.com&_nc_cat=110&_nc_ohc=1fB6QjgtRgIAX_gdulj&edm=AOQ1c0wBAAAA&ccb=7-5&oh=00_AfA6UzgTvCLGXG9N8835sL6jpIEGfm8AXTxuYgu53x4zmQ&oe=65656375&_nc_sid=8b3546',\n",
       "      'username': 'cdg__________'}},\n",
       "    {'node': {'id': '27941305',\n",
       "      'full_name': 'Replica Comunicación',\n",
       "      'is_private': False,\n",
       "      'is_verified': False,\n",
       "      'profile_pic_url': 'https://scontent-mad2-1.cdninstagram.com/v/t51.2885-19/320402368_449446847397684_9085017098919172056_n.jpg?stp=dst-jpg_s150x150&_nc_ht=scontent-mad2-1.cdninstagram.com&_nc_cat=100&_nc_ohc=VLBdJhGRtpwAX-usdZz&edm=AOQ1c0wBAAAA&ccb=7-5&oh=00_AfDc2SHv7hjlqSqyqyA8l2ZnKrPMADaWo7xrJT5-t2IJrA&oe=656517C7&_nc_sid=8b3546',\n",
       "      'username': 'replicacomunicacion'}},\n",
       "    {'node': {'id': '220439800',\n",
       "      'full_name': 'JUAN VG',\n",
       "      'is_private': False,\n",
       "      'is_verified': False,\n",
       "      'profile_pic_url': 'https://scontent-mad1-1.cdninstagram.com/v/t51.2885-19/387544854_1752976195152283_7846189119391302298_n.jpg?stp=dst-jpg_s150x150&_nc_ht=scontent-mad1-1.cdninstagram.com&_nc_cat=107&_nc_ohc=3TpJiURS9LwAX-yXRNE&edm=AOQ1c0wBAAAA&ccb=7-5&oh=00_AfA9oTI26VQaV4z_oXhQxivRsA-NBQ4bRA-71QNRInKX0A&oe=6563F5C5&_nc_sid=8b3546',\n",
       "      'username': 'juanvgdesigner'}},\n",
       "    {'node': {'id': '51885502897',\n",
       "      'full_name': 'Sergio Puig',\n",
       "      'is_private': False,\n",
       "      'is_verified': False,\n",
       "      'profile_pic_url': 'https://scontent-mad1-1.cdninstagram.com/v/t51.2885-19/398028074_1481173452681025_359443331886490839_n.jpg?stp=dst-jpg_s150x150&_nc_ht=scontent-mad1-1.cdninstagram.com&_nc_cat=101&_nc_ohc=p8AHJ5rZYcYAX_DiTRw&edm=AOQ1c0wBAAAA&ccb=7-5&oh=00_AfDrn87092MRgXC4nmRvqQ7R1fPjFVM6JxuMDgNemfE6tQ&oe=6563B4FE&_nc_sid=8b3546',\n",
       "      'username': 'serxpuig'}},\n",
       "    {'node': {'id': '6895072225',\n",
       "      'full_name': 'Dr. Hauschka España',\n",
       "      'is_private': False,\n",
       "      'is_verified': False,\n",
       "      'profile_pic_url': 'https://scontent-mad1-1.cdninstagram.com/v/t51.2885-19/123528047_377586026624378_2225249608406571683_n.jpg?stp=dst-jpg_s150x150&_nc_ht=scontent-mad1-1.cdninstagram.com&_nc_cat=102&_nc_ohc=NQwNyddVJ0MAX8sq_4i&edm=AOQ1c0wBAAAA&ccb=7-5&oh=00_AfCA5pqQDTEasFhdnnnDyo6HtPmDGrPKTXXg4b3IOgzg1Q&oe=65656EC2&_nc_sid=8b3546',\n",
       "      'username': 'drhauschka.es'}},\n",
       "    {'node': {'id': '276625447',\n",
       "      'full_name': 'OLGA PRIETO | JOYAS',\n",
       "      'is_private': False,\n",
       "      'is_verified': False,\n",
       "      'profile_pic_url': 'https://scontent-mad1-1.cdninstagram.com/v/t51.2885-19/363337982_1484912128943438_4621652506279240236_n.jpg?stp=dst-jpg_s150x150&_nc_ht=scontent-mad1-1.cdninstagram.com&_nc_cat=102&_nc_ohc=iWCBKGanLaMAX_tjvIR&edm=AOQ1c0wBAAAA&ccb=7-5&oh=00_AfAEehtzPZMmhTS_dJ474lmt-ZVUrFM-76PY4bzfnIx2mQ&oe=6563D6B9&_nc_sid=8b3546',\n",
       "      'username': 'olgaprietojoyas'}},\n",
       "    {'node': {'id': '56121158342',\n",
       "      'full_name': 'MAD PEONIES',\n",
       "      'is_private': False,\n",
       "      'is_verified': False,\n",
       "      'profile_pic_url': 'https://scontent-mad1-1.cdninstagram.com/v/t51.2885-19/314004357_202265562194546_4737997028739610564_n.jpg?stp=dst-jpg_s150x150&_nc_ht=scontent-mad1-1.cdninstagram.com&_nc_cat=102&_nc_ohc=vkS-OiesNEYAX9VRcJz&edm=AOQ1c0wBAAAA&ccb=7-5&oh=00_AfCxwHp1RZAurCuE-33wXU4tsq0MkKWe91ZCrvwUtAJ9RA&oe=6565697A&_nc_sid=8b3546',\n",
       "      'username': 'madpeonies'}},\n",
       "    {'node': {'id': '284265712',\n",
       "      'full_name': 'INHOUSE Smart Communication',\n",
       "      'is_private': False,\n",
       "      'is_verified': False,\n",
       "      'profile_pic_url': 'https://scontent-mad1-1.cdninstagram.com/v/t51.2885-19/16585454_1443896035642286_7269572533228142592_a.jpg?stp=dst-jpg_s150x150&_nc_ht=scontent-mad1-1.cdninstagram.com&_nc_cat=102&_nc_ohc=7L0iWYmOXg8AX9AclLH&edm=AOQ1c0wBAAAA&ccb=7-5&oh=00_AfCQo8g7Pdmsp9DUzZ8GkPKQtbzmDfEKzUMwUeSehlIrog&oe=65658149&_nc_sid=8b3546',\n",
       "      'username': 'inhousesc'}},\n",
       "    {'node': {'id': '9982026',\n",
       "      'full_name': 'nuelpuig',\n",
       "      'is_private': False,\n",
       "      'is_verified': False,\n",
       "      'profile_pic_url': 'https://scontent-mad2-1.cdninstagram.com/v/t51.2885-19/397232496_1089539322411220_2987014648842411139_n.jpg?stp=dst-jpg_s150x150&_nc_ht=scontent-mad2-1.cdninstagram.com&_nc_cat=104&_nc_ohc=fiFkmd_Y9dEAX8ZwrgF&edm=AOQ1c0wBAAAA&ccb=7-5&oh=00_AfDemk0KWYOnHjl-uoyAAWYlvdb8pqxu4SZrgho7cjD90w&oe=65650C0E&_nc_sid=8b3546',\n",
       "      'username': 'nuelpuig'}},\n",
       "    {'node': {'id': '59793585159',\n",
       "      'full_name': 'khy',\n",
       "      'is_private': False,\n",
       "      'is_verified': True,\n",
       "      'profile_pic_url': 'https://instagram.fmad6-1.fna.fbcdn.net/v/t51.2885-19/394321601_1711529746000324_8085615238101849878_n.jpg?stp=dst-jpg_s150x150&_nc_ht=instagram.fmad6-1.fna.fbcdn.net&_nc_cat=1&_nc_ohc=q90latdEtYgAX9fSAN0&edm=AOQ1c0wBAAAA&ccb=7-5&oh=00_AfB4zMA0lzsNubBQHGq9Z797gRbKNHU_jKXeThXxS-HXPA&oe=65654AE5&_nc_sid=8b3546',\n",
       "      'username': 'khy'}}]}},\n",
       " 'is_video': False,\n",
       " 'has_upcoming_event': False,\n",
       " 'accessibility_caption': None,\n",
       " 'edge_media_to_caption': {'edges': [{'node': {'text': 'La moda ha evolucionado hacia una expresión artística completa, fusionando estructuras, formas y patrones para concebir piezas innovadoras y vanguardistas.\\n\\nEste fenómeno se manifiesta a través de elementos geométricos como cuadrados, rombos o círculos, generando una arquitectura impecable en el diseño de las prendas.\\n\\n-\\n\\nFashion has evolved into a complete artistic expression. Fusing structures, shapes and patterns to conceive innovative and avant-garde pieces.\\n\\nThis phenomenon is manifested from geometric elements such as squares, diamonds and circles that generate an impeccable architecture into the designs of the garments.\\n\\n#MBFWMadrid'}}]},\n",
       " 'edge_media_to_comment': {'count': 2},\n",
       " 'comments_disabled': False,\n",
       " 'taken_at_timestamp': 1700492704,\n",
       " 'edge_liked_by': {'count': 90},\n",
       " 'edge_media_preview_like': {'count': 90},\n",
       " 'location': None,\n",
       " 'nft_asset_info': None,\n",
       " 'thumbnail_src': 'https://scontent-mad1-1.cdninstagram.com/v/t51.2885-15/403774119_876998314100774_7015040225389885679_n.jpg?stp=dst-jpg_e15_s640x640&_nc_ht=scontent-mad1-1.cdninstagram.com&_nc_cat=102&_nc_ohc=S73giBWkefYAX8FT9zc&edm=AOQ1c0wBAAAA&ccb=7-5&ig_cache_key=MzI0MDI5MDEwNzIxMjk0NTAzNg%3D%3D.2-ccb7-5&oh=00_AfBlaG0S0nTHSZktcSDiKPKlSmNepitgcd5lWMtJhfLmWw&oe=65659DA5&_nc_sid=8b3546',\n",
       " 'thumbnail_resources': [{'src': 'https://scontent-mad1-1.cdninstagram.com/v/t51.2885-15/403774119_876998314100774_7015040225389885679_n.jpg?stp=dst-jpg_e15_s150x150&_nc_ht=scontent-mad1-1.cdninstagram.com&_nc_cat=102&_nc_ohc=S73giBWkefYAX8FT9zc&edm=AOQ1c0wBAAAA&ccb=7-5&ig_cache_key=MzI0MDI5MDEwNzIxMjk0NTAzNg%3D%3D.2-ccb7-5&oh=00_AfCfdPLq04yltSfK0o9Mm0opVhK8xA4Yz0z_t5byhD7RwA&oe=65659DA5&_nc_sid=8b3546',\n",
       "   'config_width': 150,\n",
       "   'config_height': 150},\n",
       "  {'src': 'https://scontent-mad1-1.cdninstagram.com/v/t51.2885-15/403774119_876998314100774_7015040225389885679_n.jpg?stp=dst-jpg_e15_s240x240&_nc_ht=scontent-mad1-1.cdninstagram.com&_nc_cat=102&_nc_ohc=S73giBWkefYAX8FT9zc&edm=AOQ1c0wBAAAA&ccb=7-5&ig_cache_key=MzI0MDI5MDEwNzIxMjk0NTAzNg%3D%3D.2-ccb7-5&oh=00_AfAb5KnnYWTl2AsVehlz3DTA-cYcLvGAZxIYI0HiObpyAQ&oe=65659DA5&_nc_sid=8b3546',\n",
       "   'config_width': 240,\n",
       "   'config_height': 240},\n",
       "  {'src': 'https://scontent-mad1-1.cdninstagram.com/v/t51.2885-15/403774119_876998314100774_7015040225389885679_n.jpg?stp=dst-jpg_e15_s320x320&_nc_ht=scontent-mad1-1.cdninstagram.com&_nc_cat=102&_nc_ohc=S73giBWkefYAX8FT9zc&edm=AOQ1c0wBAAAA&ccb=7-5&ig_cache_key=MzI0MDI5MDEwNzIxMjk0NTAzNg%3D%3D.2-ccb7-5&oh=00_AfAPEXt_Wz4wsUD_7HLJFwzmI-rY-z1z22ZeaoUHWKuLAA&oe=65659DA5&_nc_sid=8b3546',\n",
       "   'config_width': 320,\n",
       "   'config_height': 320},\n",
       "  {'src': 'https://scontent-mad1-1.cdninstagram.com/v/t51.2885-15/403774119_876998314100774_7015040225389885679_n.jpg?stp=dst-jpg_e15_s480x480&_nc_ht=scontent-mad1-1.cdninstagram.com&_nc_cat=102&_nc_ohc=S73giBWkefYAX8FT9zc&edm=AOQ1c0wBAAAA&ccb=7-5&ig_cache_key=MzI0MDI5MDEwNzIxMjk0NTAzNg%3D%3D.2-ccb7-5&oh=00_AfCc0P3kW_QNaPjj-WXIy_BaQisWPnzzniu6TetP7tQ-2Q&oe=65659DA5&_nc_sid=8b3546',\n",
       "   'config_width': 480,\n",
       "   'config_height': 480},\n",
       "  {'src': 'https://scontent-mad1-1.cdninstagram.com/v/t51.2885-15/403774119_876998314100774_7015040225389885679_n.jpg?stp=dst-jpg_e15_s640x640&_nc_ht=scontent-mad1-1.cdninstagram.com&_nc_cat=102&_nc_ohc=S73giBWkefYAX8FT9zc&edm=AOQ1c0wBAAAA&ccb=7-5&ig_cache_key=MzI0MDI5MDEwNzIxMjk0NTAzNg%3D%3D.2-ccb7-5&oh=00_AfBlaG0S0nTHSZktcSDiKPKlSmNepitgcd5lWMtJhfLmWw&oe=65659DA5&_nc_sid=8b3546',\n",
       "   'config_width': 640,\n",
       "   'config_height': 640}],\n",
       " 'coauthor_producers': [],\n",
       " 'pinned_for_users': [],\n",
       " 'viewer_can_reshare': True,\n",
       " 'edge_sidecar_to_children': {'edges': [{'node': {'__typename': 'GraphImage',\n",
       "     'id': '3240290107212945036',\n",
       "     'shortcode': 'Cz30q9Jo9aM',\n",
       "     'dimensions': {'height': 750, 'width': 750},\n",
       "     'display_url': 'https://scontent-mad1-1.cdninstagram.com/v/t51.2885-15/403774119_876998314100774_7015040225389885679_n.jpg?stp=dst-jpg_e15&_nc_ht=scontent-mad1-1.cdninstagram.com&_nc_cat=102&_nc_ohc=S73giBWkefYAX8FT9zc&edm=AOQ1c0wBAAAA&ccb=7-5&ig_cache_key=MzI0MDI5MDEwNzIxMjk0NTAzNg%3D%3D.2-ccb7-5&oh=00_AfDRU_D1StFS-3YrUU1vcQdXbkXimjOc7kLj9bc8sQrOgg&oe=65659DA5&_nc_sid=8b3546',\n",
       "     'edge_media_to_tagged_user': {'edges': []},\n",
       "     'fact_check_overall_rating': None,\n",
       "     'fact_check_information': None,\n",
       "     'gating_info': None,\n",
       "     'sharing_friction_info': {'should_have_sharing_friction': False,\n",
       "      'bloks_app_url': None},\n",
       "     'media_overlay_info': None,\n",
       "     'media_preview': 'ACoqwc8Z7/5/Cnbe9RirMYL9OnA/oBQC1/r8R8Kbs5BbjoCFwfcn9Md+tMHOAetbFvYeUxaRsgqScA4AHHXuT9Kr3WneUpdX3YG7BHOCe1IfQqAr0wD7nNQFRnvVq1wSd3p/M4oYcnp19qQ3qjPFW7Q4lTsAwLfQc9PYVH5seMbTnaBnI69z06GrWmkNcKMZHOfpg1XqS1bZ3Om34HTKlgB/umoJsNHJuGGCnA74GcH6Zq2CUYLyd5J+noPpUBUozOw3NztGeq9/0pDRy8HAOe5A/malwPSmD5HaIjBVj+nFOw3rQUtjNrW0cfvWckAKpzn37D3rIqSMkMCODmmZHc5kG48HptqheXAt5V3nbvwSe4A4K98A9cgVoRnKCuc1/wD1q/7v9aCitJMss7OmcEd/8/lU26s2D71aA6VLNYvT5n//2Q==',\n",
       "     'owner': {'id': '19336508', 'username': 'mbfwmadrid'},\n",
       "     'is_video': False,\n",
       "     'has_upcoming_event': False,\n",
       "     'accessibility_caption': None}},\n",
       "   {'node': {'__typename': 'GraphImage',\n",
       "     'id': '3240290107212878326',\n",
       "     'shortcode': 'Cz30q9JotH2',\n",
       "     'dimensions': {'height': 750, 'width': 750},\n",
       "     'display_url': 'https://scontent-mad1-1.cdninstagram.com/v/t51.2885-15/403889028_1394854118075562_8562474013223797121_n.jpg?stp=dst-jpg_e15&_nc_ht=scontent-mad1-1.cdninstagram.com&_nc_cat=106&_nc_ohc=pdTcmjHMY4wAX_IEalM&edm=AOQ1c0wBAAAA&ccb=7-5&ig_cache_key=MzI0MDI5MDEwNzIxMjg3ODMyNg%3D%3D.2-ccb7-5&oh=00_AfBfZ2fnUO7lBw22OIwgl-gtCJrwnZiXvFZ5TzhhG8HpxQ&oe=6564F255&_nc_sid=8b3546',\n",
       "     'edge_media_to_tagged_user': {'edges': []},\n",
       "     'fact_check_overall_rating': None,\n",
       "     'fact_check_information': None,\n",
       "     'gating_info': None,\n",
       "     'sharing_friction_info': {'should_have_sharing_friction': False,\n",
       "      'bloks_app_url': None},\n",
       "     'media_overlay_info': None,\n",
       "     'media_preview': 'ACoqsgU4CgCnV1tnoN2TfYoyyMHbAJ27cYzj3B7cg9/aruKarDD4weSx9AemPr6fQ0yA5Xnr1rKLd35/gYQndu/UeRSYp5pK2udJy3nSf3m/M1YjlkBB3Hjnkmqqrk1cVK5+Y8+7Ogiw6ByBkjOQO9YuoTnePLJAxzg45rUgkEcAY87R/jWLKu/JPU80XsZRWt+xW+0Sf3m/M0n2iT+835moTxTafOzW77l5BVgCo0qdazEXISWgde4z+R5/xqjjNV5WIl4OM4H4Z6VdNAkrGXOmDmoKv3H3aoUAf//Z',\n",
       "     'owner': {'id': '19336508', 'username': 'mbfwmadrid'},\n",
       "     'is_video': False,\n",
       "     'has_upcoming_event': False,\n",
       "     'accessibility_caption': None}}]}}"
      ]
     },
     "execution_count": 28,
     "metadata": {},
     "output_type": "execute_result"
    }
   ],
   "source": [
    "data[\"node\"]"
   ]
  },
  {
   "cell_type": "code",
   "execution_count": 14,
   "metadata": {},
   "outputs": [
    {
     "name": "stdout",
     "output_type": "stream",
     "text": [
      "No hay fotos del día de ayer\n"
     ]
    }
   ],
   "source": [
    "# Itear por cada post del perfil y descargarlo si es del día de ayer\n",
    "for post in profile.get_posts():\n",
    "    if post.date_local.strftime(\"%Y-%m-%d\") == yesterday:\n",
    "        L.download_post(post, target=\"#mbfwmadrid\")\n",
    "    else: \n",
    "        print(\"No hay fotos del día de ayer\")\n",
    "        break   "
   ]
  },
  {
   "cell_type": "code",
   "execution_count": null,
   "metadata": {},
   "outputs": [],
   "source": []
  }
 ],
 "metadata": {
  "kernelspec": {
   "display_name": "00_Code-dWa7Exzz",
   "language": "python",
   "name": "python3"
  },
  "language_info": {
   "codemirror_mode": {
    "name": "ipython",
    "version": 3
   },
   "file_extension": ".py",
   "mimetype": "text/x-python",
   "name": "python",
   "nbconvert_exporter": "python",
   "pygments_lexer": "ipython3",
   "version": "3.10.13"
  }
 },
 "nbformat": 4,
 "nbformat_minor": 2
}
