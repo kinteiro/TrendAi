{
 "cells": [
  {
   "cell_type": "markdown",
   "metadata": {},
   "source": [
    "# INSTALOADER API SDK"
   ]
  },
  {
   "cell_type": "markdown",
   "metadata": {},
   "source": [
    "[INFO API/MÓDULOS INSTALOADER ](https://instaloader.github.io/as-module.html)\n",
    "\n"
   ]
  },
  {
   "cell_type": "code",
   "execution_count": 1,
   "metadata": {},
   "outputs": [],
   "source": [
    "from datetime import datetime, timedelta\n",
    "from instaloader import instaloader, Profile\n",
    "# Get instance\n",
    "L = instaloader.Instaloader()\n",
    "import json"
   ]
  },
  {
   "cell_type": "markdown",
   "metadata": {},
   "source": [
    "Variable con Perfil de usuario "
   ]
  },
  {
   "cell_type": "code",
   "execution_count": 2,
   "metadata": {},
   "outputs": [],
   "source": [
    "profile = Profile.from_username(L.context, \"mbfwmadrid\")"
   ]
  },
  {
   "cell_type": "code",
   "execution_count": 3,
   "metadata": {},
   "outputs": [],
   "source": [
    "yesterday = datetime.now() # - timedelta(days=1)\n",
    "yesterday = yesterday.strftime('%Y-%m-%d') # Formateo de fecha para que sea igual que la de instagram"
   ]
  },
  {
   "cell_type": "code",
   "execution_count": 4,
   "metadata": {},
   "outputs": [
    {
     "name": "stdout",
     "output_type": "stream",
     "text": [
      "#mbfwmadrid/2023-11-24_11-02-50_UTC_1.jpg exists #mbfwmadrid/2023-11-24_11-02-50_UTC_2.jpg exists #mbfwmadrid/2023-11-24_11-02-50_UTC_3.jpg exists #mbfwmadrid/2023-11-24_11-02-50_UTC_4.jpg exists #mbfwmadrid/2023-11-24_11-02-50_UTC_5.jpg exists [🏝️ @dolorescortesswimwear tra…] unchanged json \n",
      "#mbfwmadrid/2023-11-22_11-02-28_UTC_1.jpg exists #mbfwmadrid/2023-11-22_11-02-28_UTC_2.jpg exists #mbfwmadrid/2023-11-22_11-02-28_UTC_3.jpg exists #mbfwmadrid/2023-11-22_11-02-28_UTC_4.jpg exists [La magia de cada desfile empi…] unchanged json \n",
      "#mbfwmadrid/2023-11-20_15-05-04_UTC_1.jpg exists #mbfwmadrid/2023-11-20_15-05-04_UTC_2.jpg exists [La moda ha evolucionado hacia…] unchanged json \n",
      "#mbfwmadrid/2023-11-17_11-02-54_UTC_1.jpg exists #mbfwmadrid/2023-11-17_11-02-54_UTC_2.jpg exists #mbfwmadrid/2023-11-17_11-02-54_UTC_3.jpg exists #mbfwmadrid/2023-11-17_11-02-54_UTC_4.jpg exists [\"Cualquier tiempo pasado fue …] unchanged json \n",
      "#mbfwmadrid/2023-11-15_11-02-22_UTC_1.jpg exists #mbfwmadrid/2023-11-15_11-02-22_UTC_2.jpg exists #mbfwmadrid/2023-11-15_11-02-22_UTC_3.jpg exists #mbfwmadrid/2023-11-15_11-02-22_UTC_4.jpg exists [Sabemos que el efecto natural…] unchanged json \n",
      "#mbfwmadrid/2023-11-13_15-29-50_UTC_1.jpg exists #mbfwmadrid/2023-11-13_15-29-50_UTC_2.jpg exists #mbfwmadrid/2023-11-13_15-29-50_UTC_3.jpg exists #mbfwmadrid/2023-11-13_15-29-50_UTC_4.jpg exists #mbfwmadrid/2023-11-13_15-29-50_UTC_5.jpg exists [@custobarcelona presenta su c…] unchanged json \n",
      "#mbfwmadrid/2023-11-10_09-37-11_UTC_1.jpg exists #mbfwmadrid/2023-11-10_09-37-11_UTC_2.jpg exists #mbfwmadrid/2023-11-10_09-37-11_UTC_3.jpg exists #mbfwmadrid/2023-11-10_09-37-11_UTC_4.jpg exists [Entre las tendencias de maqui…] unchanged json \n",
      "#mbfwmadrid/2023-11-08_11-24-16_UTC_1.jpg exists #mbfwmadrid/2023-11-08_11-24-16_UTC_2.jpg exists #mbfwmadrid/2023-11-08_11-24-16_UTC_3.jpg exists #mbfwmadrid/2023-11-08_11-24-16_UTC_4.jpg exists #mbfwmadrid/2023-11-08_11-24-16_UTC_5.jpg exists [@felycampo presentó \"Zigurat\"…] unchanged json \n",
      "#mbfwmadrid/2023-11-06_11-20-00_UTC_1.jpg exists #mbfwmadrid/2023-11-06_11-20-00_UTC_2.jpg exists #mbfwmadrid/2023-11-06_11-20-00_UTC_3.jpg exists [Los brillos seguirán estando …] unchanged json \n",
      "#mbfwmadrid/2023-11-03_10-35-03_UTC_1.jpg exists #mbfwmadrid/2023-11-03_10-35-03_UTC_2.jpg exists #mbfwmadrid/2023-11-03_10-35-03_UTC_3.jpg exists #mbfwmadrid/2023-11-03_10-35-03_UTC_4.jpg exists #mbfwmadrid/2023-11-03_10-35-03_UTC_5.jpg exists [La firma @clarocouture lanzó …] unchanged json \n",
      "#mbfwmadrid/2023-11-02_11-52-16_UTC_1.jpg exists #mbfwmadrid/2023-11-02_11-52-16_UTC_2.jpg exists #mbfwmadrid/2023-11-02_11-52-16_UTC_3.jpg exists #mbfwmadrid/2023-11-02_11-52-16_UTC_4.jpg exists #mbfwmadrid/2023-11-02_11-52-16_UTC_5.jpg exists [El estilo country nos seguirá…] unchanged json \n",
      "#mbfwmadrid/2023-10-30_11-45-36_UTC_1.jpg exists #mbfwmadrid/2023-10-30_11-45-36_UTC_2.jpg exists #mbfwmadrid/2023-10-30_11-45-36_UTC_3.jpg exists [No hay nada más eterno y favo…] unchanged json \n"
     ]
    },
    {
     "name": "stderr",
     "output_type": "stream",
     "text": [
      "JSON Query to graphql/query: HTTP error code 401. [retrying; skip with ^C]\n",
      "JSON Query to graphql/query: HTTP error code 401. [retrying; skip with ^C]\n"
     ]
    },
    {
     "ename": "ConnectionException",
     "evalue": "JSON Query to graphql/query: HTTP error code 401.",
     "output_type": "error",
     "traceback": [
      "\u001b[0;31m---------------------------------------------------------------------------\u001b[0m",
      "\u001b[0;31mConnectionException\u001b[0m                       Traceback (most recent call last)",
      "File \u001b[0;32m~/.local/share/virtualenvs/00_Code-dWa7Exzz/lib/python3.10/site-packages/instaloader/instaloadercontext.py:405\u001b[0m, in \u001b[0;36mInstaloaderContext.get_json\u001b[0;34m(self, path, params, host, session, _attempt, response_headers)\u001b[0m\n\u001b[1;32m    404\u001b[0m \u001b[39mif\u001b[39;00m resp\u001b[39m.\u001b[39mstatus_code \u001b[39m!=\u001b[39m \u001b[39m200\u001b[39m:\n\u001b[0;32m--> 405\u001b[0m     \u001b[39mraise\u001b[39;00m ConnectionException(\u001b[39m\"\u001b[39m\u001b[39mHTTP error code \u001b[39m\u001b[39m{}\u001b[39;00m\u001b[39m.\u001b[39m\u001b[39m\"\u001b[39m\u001b[39m.\u001b[39mformat(resp\u001b[39m.\u001b[39mstatus_code))\n\u001b[1;32m    406\u001b[0m is_html_query \u001b[39m=\u001b[39m \u001b[39mnot\u001b[39;00m is_graphql_query \u001b[39mand\u001b[39;00m \u001b[39mnot\u001b[39;00m \u001b[39m\"\u001b[39m\u001b[39m__a\u001b[39m\u001b[39m\"\u001b[39m \u001b[39min\u001b[39;00m params \u001b[39mand\u001b[39;00m host \u001b[39m==\u001b[39m \u001b[39m\"\u001b[39m\u001b[39mwww.instagram.com\u001b[39m\u001b[39m\"\u001b[39m\n",
      "\u001b[0;31mConnectionException\u001b[0m: HTTP error code 401.",
      "\nDuring handling of the above exception, another exception occurred:\n",
      "\u001b[0;31mConnectionException\u001b[0m                       Traceback (most recent call last)",
      "File \u001b[0;32m~/.local/share/virtualenvs/00_Code-dWa7Exzz/lib/python3.10/site-packages/instaloader/instaloadercontext.py:405\u001b[0m, in \u001b[0;36mInstaloaderContext.get_json\u001b[0;34m(self, path, params, host, session, _attempt, response_headers)\u001b[0m\n\u001b[1;32m    404\u001b[0m \u001b[39mif\u001b[39;00m resp\u001b[39m.\u001b[39mstatus_code \u001b[39m!=\u001b[39m \u001b[39m200\u001b[39m:\n\u001b[0;32m--> 405\u001b[0m     \u001b[39mraise\u001b[39;00m ConnectionException(\u001b[39m\"\u001b[39m\u001b[39mHTTP error code \u001b[39m\u001b[39m{}\u001b[39;00m\u001b[39m.\u001b[39m\u001b[39m\"\u001b[39m\u001b[39m.\u001b[39mformat(resp\u001b[39m.\u001b[39mstatus_code))\n\u001b[1;32m    406\u001b[0m is_html_query \u001b[39m=\u001b[39m \u001b[39mnot\u001b[39;00m is_graphql_query \u001b[39mand\u001b[39;00m \u001b[39mnot\u001b[39;00m \u001b[39m\"\u001b[39m\u001b[39m__a\u001b[39m\u001b[39m\"\u001b[39m \u001b[39min\u001b[39;00m params \u001b[39mand\u001b[39;00m host \u001b[39m==\u001b[39m \u001b[39m\"\u001b[39m\u001b[39mwww.instagram.com\u001b[39m\u001b[39m\"\u001b[39m\n",
      "\u001b[0;31mConnectionException\u001b[0m: HTTP error code 401.",
      "\nDuring handling of the above exception, another exception occurred:\n",
      "\u001b[0;31mConnectionException\u001b[0m                       Traceback (most recent call last)",
      "File \u001b[0;32m~/.local/share/virtualenvs/00_Code-dWa7Exzz/lib/python3.10/site-packages/instaloader/instaloadercontext.py:405\u001b[0m, in \u001b[0;36mInstaloaderContext.get_json\u001b[0;34m(self, path, params, host, session, _attempt, response_headers)\u001b[0m\n\u001b[1;32m    404\u001b[0m \u001b[39mif\u001b[39;00m resp\u001b[39m.\u001b[39mstatus_code \u001b[39m!=\u001b[39m \u001b[39m200\u001b[39m:\n\u001b[0;32m--> 405\u001b[0m     \u001b[39mraise\u001b[39;00m ConnectionException(\u001b[39m\"\u001b[39m\u001b[39mHTTP error code \u001b[39m\u001b[39m{}\u001b[39;00m\u001b[39m.\u001b[39m\u001b[39m\"\u001b[39m\u001b[39m.\u001b[39mformat(resp\u001b[39m.\u001b[39mstatus_code))\n\u001b[1;32m    406\u001b[0m is_html_query \u001b[39m=\u001b[39m \u001b[39mnot\u001b[39;00m is_graphql_query \u001b[39mand\u001b[39;00m \u001b[39mnot\u001b[39;00m \u001b[39m\"\u001b[39m\u001b[39m__a\u001b[39m\u001b[39m\"\u001b[39m \u001b[39min\u001b[39;00m params \u001b[39mand\u001b[39;00m host \u001b[39m==\u001b[39m \u001b[39m\"\u001b[39m\u001b[39mwww.instagram.com\u001b[39m\u001b[39m\"\u001b[39m\n",
      "\u001b[0;31mConnectionException\u001b[0m: HTTP error code 401.",
      "\nThe above exception was the direct cause of the following exception:\n",
      "\u001b[0;31mConnectionException\u001b[0m                       Traceback (most recent call last)",
      "\u001b[1;32m/Users/davidmolla/Data/Formacion/MBIT School/00 TFM/00_Code/test.ipynb Celda 7\u001b[0m line \u001b[0;36m2\n\u001b[1;32m      <a href='vscode-notebook-cell:/Users/davidmolla/Data/Formacion/MBIT%20School/00%20TFM/00_Code/test.ipynb#W6sZmlsZQ%3D%3D?line=0'>1</a>\u001b[0m \u001b[39m# Itear por cada post del perfil y descargarlo si es del día de ayer\u001b[39;00m\n\u001b[0;32m----> <a href='vscode-notebook-cell:/Users/davidmolla/Data/Formacion/MBIT%20School/00%20TFM/00_Code/test.ipynb#W6sZmlsZQ%3D%3D?line=1'>2</a>\u001b[0m \u001b[39mfor\u001b[39;00m post \u001b[39min\u001b[39;00m profile\u001b[39m.\u001b[39mget_posts():\n\u001b[1;32m      <a href='vscode-notebook-cell:/Users/davidmolla/Data/Formacion/MBIT%20School/00%20TFM/00_Code/test.ipynb#W6sZmlsZQ%3D%3D?line=2'>3</a>\u001b[0m         L\u001b[39m.\u001b[39mdownload_post(post, target\u001b[39m=\u001b[39m\u001b[39m\"\u001b[39m\u001b[39m#mbfwmadrid\u001b[39m\u001b[39m\"\u001b[39m)\n",
      "File \u001b[0;32m~/.local/share/virtualenvs/00_Code-dWa7Exzz/lib/python3.10/site-packages/instaloader/nodeiterator.py:141\u001b[0m, in \u001b[0;36mNodeIterator.__next__\u001b[0;34m(self)\u001b[0m\n\u001b[1;32m    139\u001b[0m     \u001b[39mreturn\u001b[39;00m item\n\u001b[1;32m    140\u001b[0m \u001b[39mif\u001b[39;00m \u001b[39mself\u001b[39m\u001b[39m.\u001b[39m_data\u001b[39m.\u001b[39mget(\u001b[39m'\u001b[39m\u001b[39mpage_info\u001b[39m\u001b[39m'\u001b[39m, {})\u001b[39m.\u001b[39mget(\u001b[39m'\u001b[39m\u001b[39mhas_next_page\u001b[39m\u001b[39m'\u001b[39m):\n\u001b[0;32m--> 141\u001b[0m     query_response \u001b[39m=\u001b[39m \u001b[39mself\u001b[39;49m\u001b[39m.\u001b[39;49m_query(\u001b[39mself\u001b[39;49m\u001b[39m.\u001b[39;49m_data[\u001b[39m'\u001b[39;49m\u001b[39mpage_info\u001b[39;49m\u001b[39m'\u001b[39;49m][\u001b[39m'\u001b[39;49m\u001b[39mend_cursor\u001b[39;49m\u001b[39m'\u001b[39;49m])\n\u001b[1;32m    142\u001b[0m     \u001b[39mif\u001b[39;00m \u001b[39mself\u001b[39m\u001b[39m.\u001b[39m_data[\u001b[39m'\u001b[39m\u001b[39medges\u001b[39m\u001b[39m'\u001b[39m] \u001b[39m!=\u001b[39m query_response[\u001b[39m'\u001b[39m\u001b[39medges\u001b[39m\u001b[39m'\u001b[39m] \u001b[39mand\u001b[39;00m \u001b[39mlen\u001b[39m(query_response[\u001b[39m'\u001b[39m\u001b[39medges\u001b[39m\u001b[39m'\u001b[39m]) \u001b[39m>\u001b[39m \u001b[39m0\u001b[39m:\n\u001b[1;32m    143\u001b[0m         page_index, data \u001b[39m=\u001b[39m \u001b[39mself\u001b[39m\u001b[39m.\u001b[39m_page_index, \u001b[39mself\u001b[39m\u001b[39m.\u001b[39m_data\n",
      "File \u001b[0;32m~/.local/share/virtualenvs/00_Code-dWa7Exzz/lib/python3.10/site-packages/instaloader/nodeiterator.py:103\u001b[0m, in \u001b[0;36mNodeIterator._query\u001b[0;34m(self, after)\u001b[0m\n\u001b[1;32m    100\u001b[0m     pagination_variables[\u001b[39m'\u001b[39m\u001b[39mafter\u001b[39m\u001b[39m'\u001b[39m] \u001b[39m=\u001b[39m after\n\u001b[1;32m    101\u001b[0m \u001b[39mtry\u001b[39;00m:\n\u001b[1;32m    102\u001b[0m     data \u001b[39m=\u001b[39m \u001b[39mself\u001b[39m\u001b[39m.\u001b[39m_edge_extractor(\n\u001b[0;32m--> 103\u001b[0m         \u001b[39mself\u001b[39;49m\u001b[39m.\u001b[39;49m_context\u001b[39m.\u001b[39;49mgraphql_query(\n\u001b[1;32m    104\u001b[0m             \u001b[39mself\u001b[39;49m\u001b[39m.\u001b[39;49m_query_hash, {\u001b[39m*\u001b[39;49m\u001b[39m*\u001b[39;49m\u001b[39mself\u001b[39;49m\u001b[39m.\u001b[39;49m_query_variables, \u001b[39m*\u001b[39;49m\u001b[39m*\u001b[39;49mpagination_variables}, \u001b[39mself\u001b[39;49m\u001b[39m.\u001b[39;49m_query_referer\n\u001b[1;32m    105\u001b[0m         )\n\u001b[1;32m    106\u001b[0m     )\n\u001b[1;32m    107\u001b[0m     \u001b[39mself\u001b[39m\u001b[39m.\u001b[39m_best_before \u001b[39m=\u001b[39m datetime\u001b[39m.\u001b[39mnow() \u001b[39m+\u001b[39m NodeIterator\u001b[39m.\u001b[39m_shelf_life\n\u001b[1;32m    108\u001b[0m     \u001b[39mreturn\u001b[39;00m data\n",
      "File \u001b[0;32m~/.local/share/virtualenvs/00_Code-dWa7Exzz/lib/python3.10/site-packages/instaloader/instaloadercontext.py:476\u001b[0m, in \u001b[0;36mInstaloaderContext.graphql_query\u001b[0;34m(self, query_hash, variables, referer, rhx_gis)\u001b[0m\n\u001b[1;32m    473\u001b[0m         x_instagram_gis \u001b[39m=\u001b[39m hashlib\u001b[39m.\u001b[39mmd5(values\u001b[39m.\u001b[39mencode())\u001b[39m.\u001b[39mhexdigest()\n\u001b[1;32m    474\u001b[0m         tmpsession\u001b[39m.\u001b[39mheaders[\u001b[39m'\u001b[39m\u001b[39mx-instagram-gis\u001b[39m\u001b[39m'\u001b[39m] \u001b[39m=\u001b[39m x_instagram_gis\n\u001b[0;32m--> 476\u001b[0m     resp_json \u001b[39m=\u001b[39m \u001b[39mself\u001b[39;49m\u001b[39m.\u001b[39;49mget_json(\u001b[39m'\u001b[39;49m\u001b[39mgraphql/query\u001b[39;49m\u001b[39m'\u001b[39;49m,\n\u001b[1;32m    477\u001b[0m                               params\u001b[39m=\u001b[39;49m{\u001b[39m'\u001b[39;49m\u001b[39mquery_hash\u001b[39;49m\u001b[39m'\u001b[39;49m: query_hash,\n\u001b[1;32m    478\u001b[0m                                       \u001b[39m'\u001b[39;49m\u001b[39mvariables\u001b[39;49m\u001b[39m'\u001b[39;49m: variables_json},\n\u001b[1;32m    479\u001b[0m                               session\u001b[39m=\u001b[39;49mtmpsession)\n\u001b[1;32m    480\u001b[0m \u001b[39mif\u001b[39;00m \u001b[39m'\u001b[39m\u001b[39mstatus\u001b[39m\u001b[39m'\u001b[39m \u001b[39mnot\u001b[39;00m \u001b[39min\u001b[39;00m resp_json:\n\u001b[1;32m    481\u001b[0m     \u001b[39mself\u001b[39m\u001b[39m.\u001b[39merror(\u001b[39m\"\u001b[39m\u001b[39mGraphQL response did not contain a \u001b[39m\u001b[39m\\\"\u001b[39;00m\u001b[39mstatus\u001b[39m\u001b[39m\\\"\u001b[39;00m\u001b[39m field.\u001b[39m\u001b[39m\"\u001b[39m)\n",
      "File \u001b[0;32m~/.local/share/virtualenvs/00_Code-dWa7Exzz/lib/python3.10/site-packages/instaloader/instaloadercontext.py:441\u001b[0m, in \u001b[0;36mInstaloaderContext.get_json\u001b[0;34m(self, path, params, host, session, _attempt, response_headers)\u001b[0m\n\u001b[1;32m    439\u001b[0m         \u001b[39mif\u001b[39;00m is_other_query:\n\u001b[1;32m    440\u001b[0m             \u001b[39mself\u001b[39m\u001b[39m.\u001b[39m_rate_controller\u001b[39m.\u001b[39mhandle_429(\u001b[39m'\u001b[39m\u001b[39mother\u001b[39m\u001b[39m'\u001b[39m)\n\u001b[0;32m--> 441\u001b[0m     \u001b[39mreturn\u001b[39;00m \u001b[39mself\u001b[39;49m\u001b[39m.\u001b[39;49mget_json(path\u001b[39m=\u001b[39;49mpath, params\u001b[39m=\u001b[39;49mparams, host\u001b[39m=\u001b[39;49mhost, session\u001b[39m=\u001b[39;49msess, _attempt\u001b[39m=\u001b[39;49m_attempt \u001b[39m+\u001b[39;49m \u001b[39m1\u001b[39;49m,\n\u001b[1;32m    442\u001b[0m                          response_headers\u001b[39m=\u001b[39;49mresponse_headers)\n\u001b[1;32m    443\u001b[0m \u001b[39mexcept\u001b[39;00m \u001b[39mKeyboardInterrupt\u001b[39;00m:\n\u001b[1;32m    444\u001b[0m     \u001b[39mself\u001b[39m\u001b[39m.\u001b[39merror(\u001b[39m\"\u001b[39m\u001b[39m[skipped by user]\u001b[39m\u001b[39m\"\u001b[39m, repeat_at_end\u001b[39m=\u001b[39m\u001b[39mFalse\u001b[39;00m)\n",
      "File \u001b[0;32m~/.local/share/virtualenvs/00_Code-dWa7Exzz/lib/python3.10/site-packages/instaloader/instaloadercontext.py:441\u001b[0m, in \u001b[0;36mInstaloaderContext.get_json\u001b[0;34m(self, path, params, host, session, _attempt, response_headers)\u001b[0m\n\u001b[1;32m    439\u001b[0m         \u001b[39mif\u001b[39;00m is_other_query:\n\u001b[1;32m    440\u001b[0m             \u001b[39mself\u001b[39m\u001b[39m.\u001b[39m_rate_controller\u001b[39m.\u001b[39mhandle_429(\u001b[39m'\u001b[39m\u001b[39mother\u001b[39m\u001b[39m'\u001b[39m)\n\u001b[0;32m--> 441\u001b[0m     \u001b[39mreturn\u001b[39;00m \u001b[39mself\u001b[39;49m\u001b[39m.\u001b[39;49mget_json(path\u001b[39m=\u001b[39;49mpath, params\u001b[39m=\u001b[39;49mparams, host\u001b[39m=\u001b[39;49mhost, session\u001b[39m=\u001b[39;49msess, _attempt\u001b[39m=\u001b[39;49m_attempt \u001b[39m+\u001b[39;49m \u001b[39m1\u001b[39;49m,\n\u001b[1;32m    442\u001b[0m                          response_headers\u001b[39m=\u001b[39;49mresponse_headers)\n\u001b[1;32m    443\u001b[0m \u001b[39mexcept\u001b[39;00m \u001b[39mKeyboardInterrupt\u001b[39;00m:\n\u001b[1;32m    444\u001b[0m     \u001b[39mself\u001b[39m\u001b[39m.\u001b[39merror(\u001b[39m\"\u001b[39m\u001b[39m[skipped by user]\u001b[39m\u001b[39m\"\u001b[39m, repeat_at_end\u001b[39m=\u001b[39m\u001b[39mFalse\u001b[39;00m)\n",
      "File \u001b[0;32m~/.local/share/virtualenvs/00_Code-dWa7Exzz/lib/python3.10/site-packages/instaloader/instaloadercontext.py:431\u001b[0m, in \u001b[0;36mInstaloaderContext.get_json\u001b[0;34m(self, path, params, host, session, _attempt, response_headers)\u001b[0m\n\u001b[1;32m    429\u001b[0m         \u001b[39mraise\u001b[39;00m QueryReturnedNotFoundException(error_string) \u001b[39mfrom\u001b[39;00m \u001b[39merr\u001b[39;00m\n\u001b[1;32m    430\u001b[0m     \u001b[39melse\u001b[39;00m:\n\u001b[0;32m--> 431\u001b[0m         \u001b[39mraise\u001b[39;00m ConnectionException(error_string) \u001b[39mfrom\u001b[39;00m \u001b[39merr\u001b[39;00m\n\u001b[1;32m    432\u001b[0m \u001b[39mself\u001b[39m\u001b[39m.\u001b[39merror(error_string \u001b[39m+\u001b[39m \u001b[39m\"\u001b[39m\u001b[39m [retrying; skip with ^C]\u001b[39m\u001b[39m\"\u001b[39m, repeat_at_end\u001b[39m=\u001b[39m\u001b[39mFalse\u001b[39;00m)\n\u001b[1;32m    433\u001b[0m \u001b[39mtry\u001b[39;00m:\n",
      "\u001b[0;31mConnectionException\u001b[0m: JSON Query to graphql/query: HTTP error code 401."
     ]
    }
   ],
   "source": [
    "# Itear por cada post del perfil y descargarlo si es del día de ayer\n",
    "for post in profile.get_posts():\n",
    "        L.download_post(post, target=\"#mbfwmadrid\")"
   ]
  },
  {
   "cell_type": "code",
   "execution_count": 13,
   "metadata": {},
   "outputs": [
    {
     "name": "stdout",
     "output_type": "stream",
     "text": [
      "https://scontent-mad2-1.cdninstagram.com/v/t51.2885-15/404334168_1289959871687925_6222227739493331566_n.jpg?stp=dst-jpg_e35&_nc_ht=scontent-mad2-1.cdninstagram.com&_nc_cat=109&_nc_ohc=1l_P11pA-vYAX-96vYW&edm=AOQ1c0wBAAAA&ccb=7-5&ig_cache_key=MzI0MzA2NzEwOTQ2MDM0MjgzNQ%3D%3D.2-ccb7-5&oh=00_AfAm21slKZVHgdazS7kquZEyoC_z8063QI_ll3tJTCWGNQ&oe=65657C69&_nc_sid=8b3546\n"
     ]
    }
   ],
   "source": [
    "# Itear por cada post del perfil y descargarlo si es del día de ayer\n",
    "url_day = {}\n",
    "for post in profile.get_posts():\n",
    "        # print(post.date.strftime('%Y-%m-%d'))\n",
    "        if post.date.strftime('%Y-%m-%d') == yesterday:\n",
    "                print(post.url)\n",
    "                url_day[post.date.strftime('%Y-%m-%d')] = post.url\n",
    "        else: \n",
    "                break"
   ]
  },
  {
   "cell_type": "code",
   "execution_count": 14,
   "metadata": {},
   "outputs": [
    {
     "data": {
      "text/plain": [
       "{'2023-11-24': 'https://scontent-mad2-1.cdninstagram.com/v/t51.2885-15/404334168_1289959871687925_6222227739493331566_n.jpg?stp=dst-jpg_e35&_nc_ht=scontent-mad2-1.cdninstagram.com&_nc_cat=109&_nc_ohc=1l_P11pA-vYAX-96vYW&edm=AOQ1c0wBAAAA&ccb=7-5&ig_cache_key=MzI0MzA2NzEwOTQ2MDM0MjgzNQ%3D%3D.2-ccb7-5&oh=00_AfAm21slKZVHgdazS7kquZEyoC_z8063QI_ll3tJTCWGNQ&oe=65657C69&_nc_sid=8b3546'}"
      ]
     },
     "execution_count": 14,
     "metadata": {},
     "output_type": "execute_result"
    }
   ],
   "source": [
    "url_day"
   ]
  },
  {
   "cell_type": "code",
   "execution_count": 17,
   "metadata": {},
   "outputs": [],
   "source": [
    "with open('2023-11-20_15-05-04_UTC.json', 'r') as f:\n",
    "    data = json.load(f)"
   ]
  },
  {
   "cell_type": "code",
   "execution_count": null,
   "metadata": {},
   "outputs": [],
   "source": []
  },
  {
   "cell_type": "code",
   "execution_count": 28,
   "metadata": {},
   "outputs": [
    {
     "data": {
      "text/plain": [
       "{'__typename': 'GraphSidecar',\n",
       " 'id': '3240290113202335663',\n",
       " 'shortcode': 'Cz30rCuoq-v',\n",
       " 'dimensions': {'height': 750, 'width': 750},\n",
       " 'display_url': 'https://scontent-mad1-1.cdninstagram.com/v/t51.2885-15/403774119_876998314100774_7015040225389885679_n.jpg?stp=dst-jpg_e15&_nc_ht=scontent-mad1-1.cdninstagram.com&_nc_cat=102&_nc_ohc=S73giBWkefYAX8FT9zc&edm=AOQ1c0wBAAAA&ccb=7-5&ig_cache_key=MzI0MDI5MDEwNzIxMjk0NTAzNg%3D%3D.2-ccb7-5&oh=00_AfDRU_D1StFS-3YrUU1vcQdXbkXimjOc7kLj9bc8sQrOgg&oe=65659DA5&_nc_sid=8b3546',\n",
       " 'edge_media_to_tagged_user': {'edges': []},\n",
       " 'fact_check_overall_rating': None,\n",
       " 'fact_check_information': None,\n",
       " 'gating_info': None,\n",
       " 'sharing_friction_info': {'should_have_sharing_friction': False,\n",
       "  'bloks_app_url': None},\n",
       " 'media_overlay_info': None,\n",
       " 'media_preview': None,\n",
       " 'owner': {'ai_agent_type': None,\n",
       "  'biography': 'Mercedes-Benz Fashion Week Madrid\\n#MBFWMadrid\\n#Sientelainspiracion en @ifema_madrid',\n",
       "  'bio_links': [{'title': '',\n",
       "    'lynx_url': 'https://l.instagram.com/?u=https%3A%2F%2Flinktr.ee%2FMBFWMadrid&e=AT3eERs5roeJCBd5nvPo6L9mClvnXNdcGyl-adPqAbJ_rT6muA2qAG84jraNe3JG5dBZ_F9a6GeO7XIgBiYoOfSCUs8HL-Q7',\n",
       "    'url': 'https://linktr.ee/MBFWMadrid',\n",
       "    'link_type': 'external'}],\n",
       "  'fb_profile_biolink': None,\n",
       "  'biography_with_entities': {'raw_text': 'Mercedes-Benz Fashion Week Madrid\\n#MBFWMadrid\\n#Sientelainspiracion en @ifema_madrid',\n",
       "   'entities': [{'user': None, 'hashtag': {'name': 'sientelainspiracion'}},\n",
       "    {'user': None, 'hashtag': {'name': 'mbfwmadrid'}},\n",
       "    {'user': {'username': 'ifema_madrid'}, 'hashtag': None}]},\n",
       "  'blocked_by_viewer': False,\n",
       "  'restricted_by_viewer': None,\n",
       "  'country_block': False,\n",
       "  'eimu_id': '113353980056284',\n",
       "  'external_url': 'https://linktr.ee/MBFWMadrid',\n",
       "  'external_url_linkshimmed': 'https://l.instagram.com/?u=https%3A%2F%2Flinktr.ee%2FMBFWMadrid&e=AT07VnJeKcN3yfSETQ1INBt7ya5zyGjzbv8uLGSMdVxx1gjT5aVXMztqtDh3g84Yr4OYUrDKGJuMlTED1OeuSm2X_AR2CXiy',\n",
       "  'edge_followed_by': {'count': 90990},\n",
       "  'fbid': '17841400255240302',\n",
       "  'followed_by_viewer': False,\n",
       "  'edge_follow': {'count': 4097},\n",
       "  'follows_viewer': False,\n",
       "  'full_name': 'MBFWMadrid',\n",
       "  'group_metadata': None,\n",
       "  'has_ar_effects': False,\n",
       "  'has_clips': True,\n",
       "  'has_guides': True,\n",
       "  'has_channel': False,\n",
       "  'has_blocked_viewer': False,\n",
       "  'highlight_reel_count': 13,\n",
       "  'has_requested_viewer': False,\n",
       "  'hide_like_and_view_counts': False,\n",
       "  'id': '19336508',\n",
       "  'is_business_account': True,\n",
       "  'is_professional_account': True,\n",
       "  'is_supervision_enabled': False,\n",
       "  'is_guardian_of_viewer': False,\n",
       "  'is_supervised_by_viewer': False,\n",
       "  'is_supervised_user': False,\n",
       "  'is_embeds_disabled': False,\n",
       "  'is_joined_recently': False,\n",
       "  'guardian_id': None,\n",
       "  'business_address_json': '{\"city_name\": null, \"city_id\": null, \"latitude\": null, \"longitude\": null, \"street_address\": null, \"zip_code\": null}',\n",
       "  'business_contact_method': 'UNKNOWN',\n",
       "  'business_email': None,\n",
       "  'business_phone_number': None,\n",
       "  'business_category_name': 'Local Events',\n",
       "  'overall_category_name': None,\n",
       "  'category_enum': 'FESTIVAL',\n",
       "  'category_name': None,\n",
       "  'is_private': False,\n",
       "  'is_verified': False,\n",
       "  'is_verified_by_mv4b': False,\n",
       "  'is_regulated_c18': False,\n",
       "  'edge_mutual_followed_by': {'count': 0, 'edges': []},\n",
       "  'pinned_channels_list_count': 0,\n",
       "  'profile_pic_url': 'https://scontent-mad1-1.cdninstagram.com/v/t51.2885-19/326633940_2751818421626886_3461090571923651189_n.jpg?stp=dst-jpg_s150x150&_nc_ht=scontent-mad1-1.cdninstagram.com&_nc_cat=106&_nc_ohc=oSaFneZdgFEAX-cbzGS&edm=AOQ1c0wBAAAA&ccb=7-5&oh=00_AfD5YiMMLQ_WuoFJm2n5nqmm4xijW8AdAkks515o0pbeHQ&oe=6564AEA3&_nc_sid=8b3546',\n",
       "  'profile_pic_url_hd': 'https://scontent-mad1-1.cdninstagram.com/v/t51.2885-19/326633940_2751818421626886_3461090571923651189_n.jpg?stp=dst-jpg_s320x320&_nc_ht=scontent-mad1-1.cdninstagram.com&_nc_cat=106&_nc_ohc=oSaFneZdgFEAX-cbzGS&edm=AOQ1c0wBAAAA&ccb=7-5&oh=00_AfDikDvOQEFiXYOcbWw-ZCWZLi-_zG5Bzi8qE9WmnEK3oA&oe=6564AEA3&_nc_sid=8b3546',\n",
       "  'requested_by_viewer': False,\n",
       "  'should_show_category': True,\n",
       "  'should_show_public_contacts': True,\n",
       "  'show_account_transparency_details': True,\n",
       "  'transparency_label': None,\n",
       "  'transparency_product': 'STATE_CONTROLLED_MEDIA',\n",
       "  'username': 'mbfwmadrid',\n",
       "  'connected_fb_page': None,\n",
       "  'pronouns': [],\n",
       "  'edge_related_profiles': {'edges': [{'node': {'id': '697849140',\n",
       "      'full_name': '𝗧𝗖𝗡',\n",
       "      'is_private': False,\n",
       "      'is_verified': False,\n",
       "      'profile_pic_url': 'https://scontent-mad2-1.cdninstagram.com/v/t51.2885-19/53347718_299084567453098_4735824415961382912_n.jpg?stp=dst-jpg_s150x150&_nc_ht=scontent-mad2-1.cdninstagram.com&_nc_cat=110&_nc_ohc=eHF71tp7rKwAX-EJvnG&edm=AOQ1c0wBAAAA&ccb=7-5&oh=00_AfDXarX1eskQiO7WntIP4Np4SFOWwLaJA0_6DZwY6_YBTw&oe=6564FA46&_nc_sid=8b3546',\n",
       "      'username': 'tcnbarcelona'}},\n",
       "    {'node': {'id': '1408862796',\n",
       "      'full_name': 'LUPO',\n",
       "      'is_private': False,\n",
       "      'is_verified': True,\n",
       "      'profile_pic_url': 'https://scontent-mad2-1.cdninstagram.com/v/t51.2885-19/393101578_1511412103010711_8600249053354612207_n.jpg?stp=dst-jpg_s150x150&_nc_ht=scontent-mad2-1.cdninstagram.com&_nc_cat=111&_nc_ohc=iqH2BgfE9OAAX_aMeOS&edm=AOQ1c0wBAAAA&ccb=7-5&oh=00_AfBEQkortX-2XvrgWSyRqTVY7oE1nYtFguMHDY_nrE6AyQ&oe=6564D482&_nc_sid=8b3546',\n",
       "      'username': 'lupo'}},\n",
       "    {'node': {'id': '1483272312',\n",
       "      'full_name': 'XXL Comunicación',\n",
       "      'is_private': False,\n",
       "      'is_verified': False,\n",
       "      'profile_pic_url': 'https://scontent-mad2-1.cdninstagram.com/v/t51.2885-19/51989533_417202152361822_29791383518707712_n.jpg?stp=dst-jpg_s150x150&_nc_ht=scontent-mad2-1.cdninstagram.com&_nc_cat=110&_nc_ohc=YU8Tt5tG3KMAX8uQNgJ&edm=AOQ1c0wBAAAA&ccb=7-5&oh=00_AfD326XUt1ZBZ7VLIIFjlCGuYr7M3un4HH-xoSAdHndAEA&oe=65648FFC&_nc_sid=8b3546',\n",
       "      'username': 'xxlcomunicacion'}},\n",
       "    {'node': {'id': '52281378515',\n",
       "      'full_name': 'cdg',\n",
       "      'is_private': False,\n",
       "      'is_verified': False,\n",
       "      'profile_pic_url': 'https://scontent-mad2-1.cdninstagram.com/v/t51.2885-19/277244164_170186942031574_285219775517396917_n.jpg?stp=dst-jpg_s150x150&_nc_ht=scontent-mad2-1.cdninstagram.com&_nc_cat=110&_nc_ohc=1fB6QjgtRgIAX_gdulj&edm=AOQ1c0wBAAAA&ccb=7-5&oh=00_AfA6UzgTvCLGXG9N8835sL6jpIEGfm8AXTxuYgu53x4zmQ&oe=65656375&_nc_sid=8b3546',\n",
       "      'username': 'cdg__________'}},\n",
       "    {'node': {'id': '27941305',\n",
       "      'full_name': 'Replica Comunicación',\n",
       "      'is_private': False,\n",
       "      'is_verified': False,\n",
       "      'profile_pic_url': 'https://scontent-mad2-1.cdninstagram.com/v/t51.2885-19/320402368_449446847397684_9085017098919172056_n.jpg?stp=dst-jpg_s150x150&_nc_ht=scontent-mad2-1.cdninstagram.com&_nc_cat=100&_nc_ohc=VLBdJhGRtpwAX-usdZz&edm=AOQ1c0wBAAAA&ccb=7-5&oh=00_AfDc2SHv7hjlqSqyqyA8l2ZnKrPMADaWo7xrJT5-t2IJrA&oe=656517C7&_nc_sid=8b3546',\n",
       "      'username': 'replicacomunicacion'}},\n",
       "    {'node': {'id': '220439800',\n",
       "      'full_name': 'JUAN VG',\n",
       "      'is_private': False,\n",
       "      'is_verified': False,\n",
       "      'profile_pic_url': 'https://scontent-mad1-1.cdninstagram.com/v/t51.2885-19/387544854_1752976195152283_7846189119391302298_n.jpg?stp=dst-jpg_s150x150&_nc_ht=scontent-mad1-1.cdninstagram.com&_nc_cat=107&_nc_ohc=3TpJiURS9LwAX-yXRNE&edm=AOQ1c0wBAAAA&ccb=7-5&oh=00_AfA9oTI26VQaV4z_oXhQxivRsA-NBQ4bRA-71QNRInKX0A&oe=6563F5C5&_nc_sid=8b3546',\n",
       "      'username': 'juanvgdesigner'}},\n",
       "    {'node': {'id': '51885502897',\n",
       "      'full_name': 'Sergio Puig',\n",
       "      'is_private': False,\n",
       "      'is_verified': False,\n",
       "      'profile_pic_url': 'https://scontent-mad1-1.cdninstagram.com/v/t51.2885-19/398028074_1481173452681025_359443331886490839_n.jpg?stp=dst-jpg_s150x150&_nc_ht=scontent-mad1-1.cdninstagram.com&_nc_cat=101&_nc_ohc=p8AHJ5rZYcYAX_DiTRw&edm=AOQ1c0wBAAAA&ccb=7-5&oh=00_AfDrn87092MRgXC4nmRvqQ7R1fPjFVM6JxuMDgNemfE6tQ&oe=6563B4FE&_nc_sid=8b3546',\n",
       "      'username': 'serxpuig'}},\n",
       "    {'node': {'id': '6895072225',\n",
       "      'full_name': 'Dr. Hauschka España',\n",
       "      'is_private': False,\n",
       "      'is_verified': False,\n",
       "      'profile_pic_url': 'https://scontent-mad1-1.cdninstagram.com/v/t51.2885-19/123528047_377586026624378_2225249608406571683_n.jpg?stp=dst-jpg_s150x150&_nc_ht=scontent-mad1-1.cdninstagram.com&_nc_cat=102&_nc_ohc=NQwNyddVJ0MAX8sq_4i&edm=AOQ1c0wBAAAA&ccb=7-5&oh=00_AfCA5pqQDTEasFhdnnnDyo6HtPmDGrPKTXXg4b3IOgzg1Q&oe=65656EC2&_nc_sid=8b3546',\n",
       "      'username': 'drhauschka.es'}},\n",
       "    {'node': {'id': '276625447',\n",
       "      'full_name': 'OLGA PRIETO | JOYAS',\n",
       "      'is_private': False,\n",
       "      'is_verified': False,\n",
       "      'profile_pic_url': 'https://scontent-mad1-1.cdninstagram.com/v/t51.2885-19/363337982_1484912128943438_4621652506279240236_n.jpg?stp=dst-jpg_s150x150&_nc_ht=scontent-mad1-1.cdninstagram.com&_nc_cat=102&_nc_ohc=iWCBKGanLaMAX_tjvIR&edm=AOQ1c0wBAAAA&ccb=7-5&oh=00_AfAEehtzPZMmhTS_dJ474lmt-ZVUrFM-76PY4bzfnIx2mQ&oe=6563D6B9&_nc_sid=8b3546',\n",
       "      'username': 'olgaprietojoyas'}},\n",
       "    {'node': {'id': '56121158342',\n",
       "      'full_name': 'MAD PEONIES',\n",
       "      'is_private': False,\n",
       "      'is_verified': False,\n",
       "      'profile_pic_url': 'https://scontent-mad1-1.cdninstagram.com/v/t51.2885-19/314004357_202265562194546_4737997028739610564_n.jpg?stp=dst-jpg_s150x150&_nc_ht=scontent-mad1-1.cdninstagram.com&_nc_cat=102&_nc_ohc=vkS-OiesNEYAX9VRcJz&edm=AOQ1c0wBAAAA&ccb=7-5&oh=00_AfCxwHp1RZAurCuE-33wXU4tsq0MkKWe91ZCrvwUtAJ9RA&oe=6565697A&_nc_sid=8b3546',\n",
       "      'username': 'madpeonies'}},\n",
       "    {'node': {'id': '284265712',\n",
       "      'full_name': 'INHOUSE Smart Communication',\n",
       "      'is_private': False,\n",
       "      'is_verified': False,\n",
       "      'profile_pic_url': 'https://scontent-mad1-1.cdninstagram.com/v/t51.2885-19/16585454_1443896035642286_7269572533228142592_a.jpg?stp=dst-jpg_s150x150&_nc_ht=scontent-mad1-1.cdninstagram.com&_nc_cat=102&_nc_ohc=7L0iWYmOXg8AX9AclLH&edm=AOQ1c0wBAAAA&ccb=7-5&oh=00_AfCQo8g7Pdmsp9DUzZ8GkPKQtbzmDfEKzUMwUeSehlIrog&oe=65658149&_nc_sid=8b3546',\n",
       "      'username': 'inhousesc'}},\n",
       "    {'node': {'id': '9982026',\n",
       "      'full_name': 'nuelpuig',\n",
       "      'is_private': False,\n",
       "      'is_verified': False,\n",
       "      'profile_pic_url': 'https://scontent-mad2-1.cdninstagram.com/v/t51.2885-19/397232496_1089539322411220_2987014648842411139_n.jpg?stp=dst-jpg_s150x150&_nc_ht=scontent-mad2-1.cdninstagram.com&_nc_cat=104&_nc_ohc=fiFkmd_Y9dEAX8ZwrgF&edm=AOQ1c0wBAAAA&ccb=7-5&oh=00_AfDemk0KWYOnHjl-uoyAAWYlvdb8pqxu4SZrgho7cjD90w&oe=65650C0E&_nc_sid=8b3546',\n",
       "      'username': 'nuelpuig'}},\n",
       "    {'node': {'id': '59793585159',\n",
       "      'full_name': 'khy',\n",
       "      'is_private': False,\n",
       "      'is_verified': True,\n",
       "      'profile_pic_url': 'https://instagram.fmad6-1.fna.fbcdn.net/v/t51.2885-19/394321601_1711529746000324_8085615238101849878_n.jpg?stp=dst-jpg_s150x150&_nc_ht=instagram.fmad6-1.fna.fbcdn.net&_nc_cat=1&_nc_ohc=q90latdEtYgAX9fSAN0&edm=AOQ1c0wBAAAA&ccb=7-5&oh=00_AfB4zMA0lzsNubBQHGq9Z797gRbKNHU_jKXeThXxS-HXPA&oe=65654AE5&_nc_sid=8b3546',\n",
       "      'username': 'khy'}}]}},\n",
       " 'is_video': False,\n",
       " 'has_upcoming_event': False,\n",
       " 'accessibility_caption': None,\n",
       " 'edge_media_to_caption': {'edges': [{'node': {'text': 'La moda ha evolucionado hacia una expresión artística completa, fusionando estructuras, formas y patrones para concebir piezas innovadoras y vanguardistas.\\n\\nEste fenómeno se manifiesta a través de elementos geométricos como cuadrados, rombos o círculos, generando una arquitectura impecable en el diseño de las prendas.\\n\\n-\\n\\nFashion has evolved into a complete artistic expression. Fusing structures, shapes and patterns to conceive innovative and avant-garde pieces.\\n\\nThis phenomenon is manifested from geometric elements such as squares, diamonds and circles that generate an impeccable architecture into the designs of the garments.\\n\\n#MBFWMadrid'}}]},\n",
       " 'edge_media_to_comment': {'count': 2},\n",
       " 'comments_disabled': False,\n",
       " 'taken_at_timestamp': 1700492704,\n",
       " 'edge_liked_by': {'count': 90},\n",
       " 'edge_media_preview_like': {'count': 90},\n",
       " 'location': None,\n",
       " 'nft_asset_info': None,\n",
       " 'thumbnail_src': 'https://scontent-mad1-1.cdninstagram.com/v/t51.2885-15/403774119_876998314100774_7015040225389885679_n.jpg?stp=dst-jpg_e15_s640x640&_nc_ht=scontent-mad1-1.cdninstagram.com&_nc_cat=102&_nc_ohc=S73giBWkefYAX8FT9zc&edm=AOQ1c0wBAAAA&ccb=7-5&ig_cache_key=MzI0MDI5MDEwNzIxMjk0NTAzNg%3D%3D.2-ccb7-5&oh=00_AfBlaG0S0nTHSZktcSDiKPKlSmNepitgcd5lWMtJhfLmWw&oe=65659DA5&_nc_sid=8b3546',\n",
       " 'thumbnail_resources': [{'src': 'https://scontent-mad1-1.cdninstagram.com/v/t51.2885-15/403774119_876998314100774_7015040225389885679_n.jpg?stp=dst-jpg_e15_s150x150&_nc_ht=scontent-mad1-1.cdninstagram.com&_nc_cat=102&_nc_ohc=S73giBWkefYAX8FT9zc&edm=AOQ1c0wBAAAA&ccb=7-5&ig_cache_key=MzI0MDI5MDEwNzIxMjk0NTAzNg%3D%3D.2-ccb7-5&oh=00_AfCfdPLq04yltSfK0o9Mm0opVhK8xA4Yz0z_t5byhD7RwA&oe=65659DA5&_nc_sid=8b3546',\n",
       "   'config_width': 150,\n",
       "   'config_height': 150},\n",
       "  {'src': 'https://scontent-mad1-1.cdninstagram.com/v/t51.2885-15/403774119_876998314100774_7015040225389885679_n.jpg?stp=dst-jpg_e15_s240x240&_nc_ht=scontent-mad1-1.cdninstagram.com&_nc_cat=102&_nc_ohc=S73giBWkefYAX8FT9zc&edm=AOQ1c0wBAAAA&ccb=7-5&ig_cache_key=MzI0MDI5MDEwNzIxMjk0NTAzNg%3D%3D.2-ccb7-5&oh=00_AfAb5KnnYWTl2AsVehlz3DTA-cYcLvGAZxIYI0HiObpyAQ&oe=65659DA5&_nc_sid=8b3546',\n",
       "   'config_width': 240,\n",
       "   'config_height': 240},\n",
       "  {'src': 'https://scontent-mad1-1.cdninstagram.com/v/t51.2885-15/403774119_876998314100774_7015040225389885679_n.jpg?stp=dst-jpg_e15_s320x320&_nc_ht=scontent-mad1-1.cdninstagram.com&_nc_cat=102&_nc_ohc=S73giBWkefYAX8FT9zc&edm=AOQ1c0wBAAAA&ccb=7-5&ig_cache_key=MzI0MDI5MDEwNzIxMjk0NTAzNg%3D%3D.2-ccb7-5&oh=00_AfAPEXt_Wz4wsUD_7HLJFwzmI-rY-z1z22ZeaoUHWKuLAA&oe=65659DA5&_nc_sid=8b3546',\n",
       "   'config_width': 320,\n",
       "   'config_height': 320},\n",
       "  {'src': 'https://scontent-mad1-1.cdninstagram.com/v/t51.2885-15/403774119_876998314100774_7015040225389885679_n.jpg?stp=dst-jpg_e15_s480x480&_nc_ht=scontent-mad1-1.cdninstagram.com&_nc_cat=102&_nc_ohc=S73giBWkefYAX8FT9zc&edm=AOQ1c0wBAAAA&ccb=7-5&ig_cache_key=MzI0MDI5MDEwNzIxMjk0NTAzNg%3D%3D.2-ccb7-5&oh=00_AfCc0P3kW_QNaPjj-WXIy_BaQisWPnzzniu6TetP7tQ-2Q&oe=65659DA5&_nc_sid=8b3546',\n",
       "   'config_width': 480,\n",
       "   'config_height': 480},\n",
       "  {'src': 'https://scontent-mad1-1.cdninstagram.com/v/t51.2885-15/403774119_876998314100774_7015040225389885679_n.jpg?stp=dst-jpg_e15_s640x640&_nc_ht=scontent-mad1-1.cdninstagram.com&_nc_cat=102&_nc_ohc=S73giBWkefYAX8FT9zc&edm=AOQ1c0wBAAAA&ccb=7-5&ig_cache_key=MzI0MDI5MDEwNzIxMjk0NTAzNg%3D%3D.2-ccb7-5&oh=00_AfBlaG0S0nTHSZktcSDiKPKlSmNepitgcd5lWMtJhfLmWw&oe=65659DA5&_nc_sid=8b3546',\n",
       "   'config_width': 640,\n",
       "   'config_height': 640}],\n",
       " 'coauthor_producers': [],\n",
       " 'pinned_for_users': [],\n",
       " 'viewer_can_reshare': True,\n",
       " 'edge_sidecar_to_children': {'edges': [{'node': {'__typename': 'GraphImage',\n",
       "     'id': '3240290107212945036',\n",
       "     'shortcode': 'Cz30q9Jo9aM',\n",
       "     'dimensions': {'height': 750, 'width': 750},\n",
       "     'display_url': 'https://scontent-mad1-1.cdninstagram.com/v/t51.2885-15/403774119_876998314100774_7015040225389885679_n.jpg?stp=dst-jpg_e15&_nc_ht=scontent-mad1-1.cdninstagram.com&_nc_cat=102&_nc_ohc=S73giBWkefYAX8FT9zc&edm=AOQ1c0wBAAAA&ccb=7-5&ig_cache_key=MzI0MDI5MDEwNzIxMjk0NTAzNg%3D%3D.2-ccb7-5&oh=00_AfDRU_D1StFS-3YrUU1vcQdXbkXimjOc7kLj9bc8sQrOgg&oe=65659DA5&_nc_sid=8b3546',\n",
       "     'edge_media_to_tagged_user': {'edges': []},\n",
       "     'fact_check_overall_rating': None,\n",
       "     'fact_check_information': None,\n",
       "     'gating_info': None,\n",
       "     'sharing_friction_info': {'should_have_sharing_friction': False,\n",
       "      'bloks_app_url': None},\n",
       "     'media_overlay_info': None,\n",
       "     'media_preview': 'ACoqwc8Z7/5/Cnbe9RirMYL9OnA/oBQC1/r8R8Kbs5BbjoCFwfcn9Md+tMHOAetbFvYeUxaRsgqScA4AHHXuT9Kr3WneUpdX3YG7BHOCe1IfQqAr0wD7nNQFRnvVq1wSd3p/M4oYcnp19qQ3qjPFW7Q4lTsAwLfQc9PYVH5seMbTnaBnI69z06GrWmkNcKMZHOfpg1XqS1bZ3Om34HTKlgB/umoJsNHJuGGCnA74GcH6Zq2CUYLyd5J+noPpUBUozOw3NztGeq9/0pDRy8HAOe5A/malwPSmD5HaIjBVj+nFOw3rQUtjNrW0cfvWckAKpzn37D3rIqSMkMCODmmZHc5kG48HptqheXAt5V3nbvwSe4A4K98A9cgVoRnKCuc1/wD1q/7v9aCitJMss7OmcEd/8/lU26s2D71aA6VLNYvT5n//2Q==',\n",
       "     'owner': {'id': '19336508', 'username': 'mbfwmadrid'},\n",
       "     'is_video': False,\n",
       "     'has_upcoming_event': False,\n",
       "     'accessibility_caption': None}},\n",
       "   {'node': {'__typename': 'GraphImage',\n",
       "     'id': '3240290107212878326',\n",
       "     'shortcode': 'Cz30q9JotH2',\n",
       "     'dimensions': {'height': 750, 'width': 750},\n",
       "     'display_url': 'https://scontent-mad1-1.cdninstagram.com/v/t51.2885-15/403889028_1394854118075562_8562474013223797121_n.jpg?stp=dst-jpg_e15&_nc_ht=scontent-mad1-1.cdninstagram.com&_nc_cat=106&_nc_ohc=pdTcmjHMY4wAX_IEalM&edm=AOQ1c0wBAAAA&ccb=7-5&ig_cache_key=MzI0MDI5MDEwNzIxMjg3ODMyNg%3D%3D.2-ccb7-5&oh=00_AfBfZ2fnUO7lBw22OIwgl-gtCJrwnZiXvFZ5TzhhG8HpxQ&oe=6564F255&_nc_sid=8b3546',\n",
       "     'edge_media_to_tagged_user': {'edges': []},\n",
       "     'fact_check_overall_rating': None,\n",
       "     'fact_check_information': None,\n",
       "     'gating_info': None,\n",
       "     'sharing_friction_info': {'should_have_sharing_friction': False,\n",
       "      'bloks_app_url': None},\n",
       "     'media_overlay_info': None,\n",
       "     'media_preview': 'ACoqsgU4CgCnV1tnoN2TfYoyyMHbAJ27cYzj3B7cg9/aruKarDD4weSx9AemPr6fQ0yA5Xnr1rKLd35/gYQndu/UeRSYp5pK2udJy3nSf3m/M1YjlkBB3Hjnkmqqrk1cVK5+Y8+7Ogiw6ByBkjOQO9YuoTnePLJAxzg45rUgkEcAY87R/jWLKu/JPU80XsZRWt+xW+0Sf3m/M0n2iT+835moTxTafOzW77l5BVgCo0qdazEXISWgde4z+R5/xqjjNV5WIl4OM4H4Z6VdNAkrGXOmDmoKv3H3aoUAf//Z',\n",
       "     'owner': {'id': '19336508', 'username': 'mbfwmadrid'},\n",
       "     'is_video': False,\n",
       "     'has_upcoming_event': False,\n",
       "     'accessibility_caption': None}}]}}"
      ]
     },
     "execution_count": 28,
     "metadata": {},
     "output_type": "execute_result"
    }
   ],
   "source": [
    "data[\"node\"]"
   ]
  },
  {
   "cell_type": "code",
   "execution_count": 14,
   "metadata": {},
   "outputs": [
    {
     "name": "stdout",
     "output_type": "stream",
     "text": [
      "No hay fotos del día de ayer\n"
     ]
    }
   ],
   "source": [
    "# Itear por cada post del perfil y descargarlo si es del día de ayer\n",
    "for post in profile.get_posts():\n",
    "    if post.date_local.strftime(\"%Y-%m-%d\") == yesterday:\n",
    "        L.download_post(post, target=\"#mbfwmadrid\")\n",
    "    else: \n",
    "        print(\"No hay fotos del día de ayer\")\n",
    "        break   "
   ]
  },
  {
   "cell_type": "code",
   "execution_count": null,
   "metadata": {},
   "outputs": [],
   "source": []
  }
 ],
 "metadata": {
  "kernelspec": {
   "display_name": "00_Code-dWa7Exzz",
   "language": "python",
   "name": "python3"
  },
  "language_info": {
   "codemirror_mode": {
    "name": "ipython",
    "version": 3
   },
   "file_extension": ".py",
   "mimetype": "text/x-python",
   "name": "python",
   "nbconvert_exporter": "python",
   "pygments_lexer": "ipython3",
   "version": "3.10.13"
  }
 },
 "nbformat": 4,
 "nbformat_minor": 2
}
