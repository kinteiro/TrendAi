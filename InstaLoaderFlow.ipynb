{
 "cells": [
  {
   "cell_type": "markdown",
   "metadata": {},
   "source": [
    "# INSTALOADER API SDK"
   ]
  },
  {
   "cell_type": "markdown",
   "metadata": {},
   "source": [
    "[INFO API/MÓDULOS INSTALOADER ](https://instaloader.github.io/as-module.html)\n",
    "\n"
   ]
  },
  {
   "cell_type": "code",
   "execution_count": 3,
   "metadata": {},
   "outputs": [],
   "source": [
    "from datetime import datetime, timedelta\n",
    "from instaloader import instaloader, Profile, FrozenNodeIterator, resumable_iteration\n",
    "# Get instance\n",
    "L = instaloader.Instaloader()\n",
    "import json\n",
    "import pandas as pd\n",
    "import webbrowser"
   ]
  },
  {
   "cell_type": "markdown",
   "metadata": {},
   "source": [
    "Variable con Perfil de usuario "
   ]
  },
  {
   "cell_type": "code",
   "execution_count": 5,
   "metadata": {},
   "outputs": [],
   "source": [
    "def get_followers(username: str):\n",
    "    profile = Profile.from_username(L.context, username)\n",
    "    followers = profile.followers\n",
    "    return followers"
   ]
  },
  {
   "cell_type": "code",
   "execution_count": 7,
   "metadata": {},
   "outputs": [
    {
     "name": "stdout",
     "output_type": "stream",
     "text": [
      "\n",
      "HTTP redirect from https://i.instagram.com/api/v1/users/web_profile_info/?username=mbfwmadrid to https://i.instagram.com/accounts/login/?next=/api/v1/users/web_profile_info/\n"
     ]
    },
    {
     "ename": "LoginRequiredException",
     "evalue": "Redirected to login page. Use --login.",
     "output_type": "error",
     "traceback": [
      "\u001b[0;31m---------------------------------------------------------------------------\u001b[0m",
      "\u001b[0;31mLoginRequiredException\u001b[0m                    Traceback (most recent call last)",
      "Cell \u001b[0;32mIn[7], line 1\u001b[0m\n\u001b[0;32m----> 1\u001b[0m profile \u001b[38;5;241m=\u001b[39m \u001b[43mProfile\u001b[49m\u001b[38;5;241;43m.\u001b[39;49m\u001b[43mfrom_username\u001b[49m\u001b[43m(\u001b[49m\u001b[43mL\u001b[49m\u001b[38;5;241;43m.\u001b[39;49m\u001b[43mcontext\u001b[49m\u001b[43m,\u001b[49m\u001b[43m \u001b[49m\u001b[38;5;124;43m\"\u001b[39;49m\u001b[38;5;124;43mmbfwmadrid\u001b[39;49m\u001b[38;5;124;43m\"\u001b[39;49m\u001b[43m)\u001b[49m\n",
      "File \u001b[0;32m~/.local/share/virtualenvs/TrendAi_repo-WZqMEwY8/lib/python3.10/site-packages/instaloader/structures.py:737\u001b[0m, in \u001b[0;36mProfile.from_username\u001b[0;34m(cls, context, username)\u001b[0m\n\u001b[1;32m    735\u001b[0m \u001b[38;5;66;03m# pylint:disable=protected-access\u001b[39;00m\n\u001b[1;32m    736\u001b[0m profile \u001b[38;5;241m=\u001b[39m \u001b[38;5;28mcls\u001b[39m(context, {\u001b[38;5;124m'\u001b[39m\u001b[38;5;124musername\u001b[39m\u001b[38;5;124m'\u001b[39m: username\u001b[38;5;241m.\u001b[39mlower()})\n\u001b[0;32m--> 737\u001b[0m \u001b[43mprofile\u001b[49m\u001b[38;5;241;43m.\u001b[39;49m\u001b[43m_obtain_metadata\u001b[49m\u001b[43m(\u001b[49m\u001b[43m)\u001b[49m  \u001b[38;5;66;03m# to raise ProfileNotExistsException now in case username is invalid\u001b[39;00m\n\u001b[1;32m    738\u001b[0m \u001b[38;5;28;01mreturn\u001b[39;00m profile\n",
      "File \u001b[0;32m~/.local/share/virtualenvs/TrendAi_repo-WZqMEwY8/lib/python3.10/site-packages/instaloader/structures.py:806\u001b[0m, in \u001b[0;36mProfile._obtain_metadata\u001b[0;34m(self)\u001b[0m\n\u001b[1;32m    804\u001b[0m \u001b[38;5;28;01mtry\u001b[39;00m:\n\u001b[1;32m    805\u001b[0m     \u001b[38;5;28;01mif\u001b[39;00m \u001b[38;5;129;01mnot\u001b[39;00m \u001b[38;5;28mself\u001b[39m\u001b[38;5;241m.\u001b[39m_has_full_metadata:\n\u001b[0;32m--> 806\u001b[0m         metadata \u001b[38;5;241m=\u001b[39m \u001b[38;5;28;43mself\u001b[39;49m\u001b[38;5;241;43m.\u001b[39;49m\u001b[43m_context\u001b[49m\u001b[38;5;241;43m.\u001b[39;49m\u001b[43mget_iphone_json\u001b[49m\u001b[43m(\u001b[49m\u001b[38;5;124;43mf\u001b[39;49m\u001b[38;5;124;43m'\u001b[39;49m\u001b[38;5;124;43mapi/v1/users/web_profile_info/?username=\u001b[39;49m\u001b[38;5;132;43;01m{\u001b[39;49;00m\u001b[38;5;28;43mself\u001b[39;49m\u001b[38;5;241;43m.\u001b[39;49m\u001b[43musername\u001b[49m\u001b[38;5;132;43;01m}\u001b[39;49;00m\u001b[38;5;124;43m'\u001b[39;49m\u001b[43m,\u001b[49m\n\u001b[1;32m    807\u001b[0m \u001b[43m                                                 \u001b[49m\u001b[43mparams\u001b[49m\u001b[38;5;241;43m=\u001b[39;49m\u001b[43m{\u001b[49m\u001b[43m}\u001b[49m\u001b[43m)\u001b[49m\n\u001b[1;32m    808\u001b[0m         \u001b[38;5;28;01mif\u001b[39;00m metadata[\u001b[38;5;124m'\u001b[39m\u001b[38;5;124mdata\u001b[39m\u001b[38;5;124m'\u001b[39m][\u001b[38;5;124m'\u001b[39m\u001b[38;5;124muser\u001b[39m\u001b[38;5;124m'\u001b[39m] \u001b[38;5;129;01mis\u001b[39;00m \u001b[38;5;28;01mNone\u001b[39;00m:\n\u001b[1;32m    809\u001b[0m             \u001b[38;5;28;01mraise\u001b[39;00m ProfileNotExistsException(\u001b[38;5;124m'\u001b[39m\u001b[38;5;124mProfile \u001b[39m\u001b[38;5;132;01m{}\u001b[39;00m\u001b[38;5;124m does not exist.\u001b[39m\u001b[38;5;124m'\u001b[39m\u001b[38;5;241m.\u001b[39mformat(\u001b[38;5;28mself\u001b[39m\u001b[38;5;241m.\u001b[39musername))\n",
      "File \u001b[0;32m~/.local/share/virtualenvs/TrendAi_repo-WZqMEwY8/lib/python3.10/site-packages/instaloader/instaloadercontext.py:567\u001b[0m, in \u001b[0;36mInstaloaderContext.get_iphone_json\u001b[0;34m(self, path, params)\u001b[0m\n\u001b[1;32m    564\u001b[0m     tempsession\u001b[38;5;241m.\u001b[39mcookies\u001b[38;5;241m.\u001b[39mclear()\n\u001b[1;32m    566\u001b[0m response_headers \u001b[38;5;241m=\u001b[39m \u001b[38;5;28mdict\u001b[39m()    \u001b[38;5;66;03m# type: Dict[str, Any]\u001b[39;00m\n\u001b[0;32m--> 567\u001b[0m response \u001b[38;5;241m=\u001b[39m \u001b[38;5;28;43mself\u001b[39;49m\u001b[38;5;241;43m.\u001b[39;49m\u001b[43mget_json\u001b[49m\u001b[43m(\u001b[49m\u001b[43mpath\u001b[49m\u001b[43m,\u001b[49m\u001b[43m \u001b[49m\u001b[43mparams\u001b[49m\u001b[43m,\u001b[49m\u001b[43m \u001b[49m\u001b[38;5;124;43m'\u001b[39;49m\u001b[38;5;124;43mi.instagram.com\u001b[39;49m\u001b[38;5;124;43m'\u001b[39;49m\u001b[43m,\u001b[49m\u001b[43m \u001b[49m\u001b[43mtempsession\u001b[49m\u001b[43m,\u001b[49m\u001b[43m \u001b[49m\u001b[43mresponse_headers\u001b[49m\u001b[38;5;241;43m=\u001b[39;49m\u001b[43mresponse_headers\u001b[49m\u001b[43m)\u001b[49m\n\u001b[1;32m    569\u001b[0m \u001b[38;5;66;03m# Extract the ig-set-* headers and use them in the next request\u001b[39;00m\n\u001b[1;32m    570\u001b[0m \u001b[38;5;28;01mfor\u001b[39;00m key, value \u001b[38;5;129;01min\u001b[39;00m response_headers\u001b[38;5;241m.\u001b[39mitems():\n",
      "File \u001b[0;32m~/.local/share/virtualenvs/TrendAi_repo-WZqMEwY8/lib/python3.10/site-packages/instaloader/instaloadercontext.py:391\u001b[0m, in \u001b[0;36mInstaloaderContext.get_json\u001b[0;34m(self, path, params, host, session, _attempt, response_headers)\u001b[0m\n\u001b[1;32m    388\u001b[0m \u001b[38;5;28;01mif\u001b[39;00m (redirect_url\u001b[38;5;241m.\u001b[39mstartswith(\u001b[38;5;124m'\u001b[39m\u001b[38;5;124mhttps://www.instagram.com/accounts/login\u001b[39m\u001b[38;5;124m'\u001b[39m) \u001b[38;5;129;01mor\u001b[39;00m\n\u001b[1;32m    389\u001b[0m     redirect_url\u001b[38;5;241m.\u001b[39mstartswith(\u001b[38;5;124m'\u001b[39m\u001b[38;5;124mhttps://i.instagram.com/accounts/login\u001b[39m\u001b[38;5;124m'\u001b[39m)):\n\u001b[1;32m    390\u001b[0m     \u001b[38;5;28;01mif\u001b[39;00m \u001b[38;5;129;01mnot\u001b[39;00m \u001b[38;5;28mself\u001b[39m\u001b[38;5;241m.\u001b[39mis_logged_in:\n\u001b[0;32m--> 391\u001b[0m         \u001b[38;5;28;01mraise\u001b[39;00m LoginRequiredException(\u001b[38;5;124m\"\u001b[39m\u001b[38;5;124mRedirected to login page. Use --login.\u001b[39m\u001b[38;5;124m\"\u001b[39m)\n\u001b[1;32m    392\u001b[0m     \u001b[38;5;28;01mraise\u001b[39;00m AbortDownloadException(\u001b[38;5;124m\"\u001b[39m\u001b[38;5;124mRedirected to login page. You\u001b[39m\u001b[38;5;124m'\u001b[39m\u001b[38;5;124mve been logged out, please wait \u001b[39m\u001b[38;5;124m\"\u001b[39m \u001b[38;5;241m+\u001b[39m\n\u001b[1;32m    393\u001b[0m                                  \u001b[38;5;124m\"\u001b[39m\u001b[38;5;124msome time, recreate the session and try again\u001b[39m\u001b[38;5;124m\"\u001b[39m)\n\u001b[1;32m    394\u001b[0m \u001b[38;5;28;01mif\u001b[39;00m redirect_url\u001b[38;5;241m.\u001b[39mstartswith(\u001b[38;5;124m'\u001b[39m\u001b[38;5;124mhttps://\u001b[39m\u001b[38;5;132;01m{}\u001b[39;00m\u001b[38;5;124m/\u001b[39m\u001b[38;5;124m'\u001b[39m\u001b[38;5;241m.\u001b[39mformat(host)):\n",
      "\u001b[0;31mLoginRequiredException\u001b[0m: Redirected to login page. Use --login."
     ]
    }
   ],
   "source": [
    "profile = Profile.from_username(L.context, \"mbfwmadrid\")"
   ]
  },
  {
   "cell_type": "code",
   "execution_count": 4,
   "metadata": {},
   "outputs": [],
   "source": [
    "ingest_date = datetime.now().strftime(\"%Y-%m-%d %H:%M\")"
   ]
  },
  {
   "cell_type": "code",
   "execution_count": 5,
   "metadata": {},
   "outputs": [],
   "source": [
    "yesterday = datetime.now() - timedelta(days=1)\n",
    "yesterday = yesterday.strftime('%Y-%m-%d') # Formateo de fecha para que sea igual que la de instagram"
   ]
  },
  {
   "cell_type": "code",
   "execution_count": 91,
   "metadata": {},
   "outputs": [],
   "source": [
    "post_iterator = profile.get_posts()"
   ]
  },
  {
   "cell_type": "code",
   "execution_count": 67,
   "metadata": {},
   "outputs": [],
   "source": [
    "df_data = []\n",
    "df = pd.DataFrame()\n",
    "\n",
    "for post in post_iterator:\n",
    "    post_data = {\n",
    "        'Image_date': post.date.strftime('%Y-%m-%d'),\n",
    "        'Image_Profile': post.profile,\n",
    "        'Image_URL': post.url,\n",
    "        'Ingest_Date': ingest_date,\n",
    "        'Caption': post.caption\n",
    "    }\n",
    "    df_data.append(post_data)\n",
    "    if len(post_data) > 1:\n",
    "        break\n",
    "# Crear el DataFrame fuera del bucle\n",
    "df = pd.DataFrame(df_data)\n",
    "df_data.clear()\n",
    "\n",
    "# if not df.empty:\n",
    "#     df.to_parquet(f'{ingest_date[:10]}-mbfwmadrid.parquet', compression='gzip')\n",
    "#     df.to_csv(f'{ingest_date[:10]}-bfwmadrid.csv', index=False)\n"
   ]
  },
  {
   "cell_type": "code",
   "execution_count": 21,
   "metadata": {},
   "outputs": [],
   "source": [
    "df = pd.read_parquet(f'{ingest_date[:10]}-mbfwmadrid.parquet')"
   ]
  },
  {
   "cell_type": "code",
   "execution_count": 22,
   "metadata": {},
   "outputs": [
    {
     "name": "stdout",
     "output_type": "stream",
     "text": [
      "https://instagram.fmad6-1.fna.fbcdn.net/v/t51.2885-15/331799333_172070332228757_3369917964901701731_n.jpg?stp=dst-jpg_e35_s1080x1080&efg=e30&_nc_ht=instagram.fmad6-1.fna.fbcdn.net&_nc_cat=105&_nc_ohc=Vp2bl51zg3gAX-sWTj6&edm=APU89FABAAAA&ccb=7-5&oh=00_AfBCaKWzwgnRMXzXf7vYocNdP0MRViVn7oLwfFkggpIBFA&oe=65A6880A&_nc_sid=bc0c2c\n"
     ]
    }
   ],
   "source": [
    "for i in df[\"Image_URL\"].head(10):\n",
    "    # open image url in web browser\n",
    "    print(i)\n",
    "    webbrowser.open(i)\n"
   ]
  },
  {
   "cell_type": "code",
   "execution_count": 14,
   "metadata": {},
   "outputs": [
    {
     "name": "stdout",
     "output_type": "stream",
     "text": [
      "No hay fotos del día de ayer\n"
     ]
    }
   ],
   "source": [
    "# Itear por cada post del perfil y descargarlo si es del día de ayer\n",
    "for post in profile.get_posts():\n",
    "    if post.date_local.strftime(\"%Y-%m-%d\") == yesterday:\n",
    "        L.download_post(post, target=\"#mbfwmadrid\")\n",
    "    else: \n",
    "        print(\"No hay fotos del día de ayer\")\n",
    "        break   "
   ]
  },
  {
   "cell_type": "code",
   "execution_count": null,
   "metadata": {},
   "outputs": [],
   "source": []
  }
 ],
 "metadata": {
  "kernelspec": {
   "display_name": "00_Code-dWa7Exzz",
   "language": "python",
   "name": "python3"
  },
  "language_info": {
   "codemirror_mode": {
    "name": "ipython",
    "version": 3
   },
   "file_extension": ".py",
   "mimetype": "text/x-python",
   "name": "python",
   "nbconvert_exporter": "python",
   "pygments_lexer": "ipython3",
   "version": "3.10.13"
  }
 },
 "nbformat": 4,
 "nbformat_minor": 2
}
