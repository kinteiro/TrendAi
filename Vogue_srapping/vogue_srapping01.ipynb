{
 "cells": [
  {
   "cell_type": "markdown",
   "metadata": {},
   "source": [
    "    Imports"
   ]
  },
  {
   "cell_type": "code",
   "execution_count": 53,
   "metadata": {},
   "outputs": [],
   "source": [
    "import requests\n",
    "from bs4 import BeautifulSoup\n",
    "import pandas as pd\n",
    "import time"
   ]
  },
  {
   "cell_type": "markdown",
   "metadata": {},
   "source": [
    "    Main page"
   ]
  },
  {
   "cell_type": "code",
   "execution_count": 21,
   "metadata": {},
   "outputs": [
    {
     "name": "stdout",
     "output_type": "stream",
     "text": [
      "Pagina obtenida. \n",
      "head de la página: \n",
      "<!DOCTYPE html><html lang=\"en-\n"
     ]
    }
   ],
   "source": [
    "url = 'https://www.vogue.com/fashion-shows/latest-shows'\n",
    "response = requests.get(url)\n",
    "\n",
    "# Verificar si la solicitud fue exitosa (código de estado 200)\n",
    "if response.status_code == 200:\n",
    "    # Contenido HTML de la página web\n",
    "    html_content = response.text\n",
    "    print(f\"Pagina obtenida. \\nhead de la página: \\n{html_content[:30]}\")\n",
    "else:\n",
    "    print(\"Error al obtener la página:\", response.status_code)\n",
    "    \n",
    "# Crear un objeto BeautifulSoup\n",
    "soup = BeautifulSoup(html_content, 'html.parser')"
   ]
  },
  {
   "cell_type": "markdown",
   "metadata": {},
   "source": [
    "    Encontrar pagina de los diseñadores (parte dict y imagenes WIP)"
   ]
  },
  {
   "cell_type": "code",
   "execution_count": 24,
   "metadata": {},
   "outputs": [
    {
     "name": "stdout",
     "output_type": "stream",
     "text": [
      "Descargando enlace de sunflower: https://www.vogue.com/fashion-shows/copenhagen-fall-2024/sunflower\n",
      "Descargando enlace de soulland: https://www.vogue.com/fashion-shows/copenhagen-fall-2024/soulland\n",
      "Descargando enlace de helmstedt: https://www.vogue.com/fashion-shows/copenhagen-fall-2024/helmstedt\n",
      "Descargando enlace de caro-editions: https://www.vogue.com/fashion-shows/copenhagen-fall-2024/caro-editions\n",
      "Descargando enlace de mark-kenly-domino-tan: https://www.vogue.com/fashion-shows/copenhagen-fall-2024/mark-kenly-domino-tan\n",
      "Descargando enlace de paolina-russo: https://www.vogue.com/fashion-shows/copenhagen-fall-2024/paolina-russo\n",
      "Descargando enlace de baum-und-pferdgarten: https://www.vogue.com/fashion-shows/copenhagen-fall-2024/baum-und-pferdgarten\n",
      "Descargando enlace de henrik-vibskov: https://www.vogue.com/fashion-shows/copenhagen-fall-2024/henrik-vibskov\n",
      "Descargando enlace de stine-goya: https://www.vogue.com/fashion-shows/copenhagen-fall-2024/stine-goya\n",
      "Descargando enlace de mfpen: https://www.vogue.com/fashion-shows/copenhagen-fall-2024/mfpen\n",
      "Descargando enlace de the-garment: https://www.vogue.com/fashion-shows/copenhagen-fall-2024/the-garment\n",
      "Descargando enlace de skall-studio: https://www.vogue.com/fashion-shows/copenhagen-fall-2024/skall-studio\n",
      "Descargando enlace de stamm: https://www.vogue.com/fashion-shows/copenhagen-fall-2024/stamm\n",
      "Descargando enlace de rolf-ekroth: https://www.vogue.com/fashion-shows/copenhagen-fall-2024/rolf-ekroth\n",
      "Descargando enlace de ganni: https://www.vogue.com/fashion-shows/copenhagen-fall-2024/ganni\n",
      "Descargando enlace de saks-potts: https://www.vogue.com/fashion-shows/copenhagen-fall-2024/saks-potts\n",
      "Descargando enlace de sara-battaglia: https://www.vogue.com/fashion-shows/fall-2024-ready-to-wear/sara-battaglia\n",
      "Descargando enlace de moncler-grenoble: https://www.vogue.com/fashion-shows/fall-2024-ready-to-wear/moncler-grenoble\n",
      "Descargando enlace de kith: https://www.vogue.com/fashion-shows/spring-2024-menswear/kith\n",
      "Descargando enlace de oamc: https://www.vogue.com/fashion-shows/spring-2024-menswear/oamc\n",
      "Descargando enlace de mugler: https://www.vogue.com/fashion-shows/pre-fall-2024/mugler\n",
      "Descargando enlace de philipp-plein: https://www.vogue.com/fashion-shows/pre-fall-2024/philipp-plein\n",
      "Descargando enlace de undercover: https://www.vogue.com/fashion-shows/pre-fall-2024/undercover\n",
      "Descargando enlace de marc-jacobs: https://www.vogue.com/fashion-shows/spring-2024-ready-to-wear/marc-jacobs\n",
      "Descargando enlace de hm: https://www.vogue.com/fashion-shows/spring-2024-ready-to-wear/hm\n",
      "Descargando enlace de stein: https://www.vogue.com/fashion-shows/tokyo-fall-2024/stein\n",
      "Descargando enlace de rainmaker: https://www.vogue.com/fashion-shows/tokyo-fall-2024/rainmaker\n",
      "Descargando enlace de b-umit-benan: https://www.vogue.com/fashion-shows/fall-2024-menswear/b-umit-benan\n",
      "Descargando enlace de engineered-garments: https://www.vogue.com/fashion-shows/fall-2024-menswear/engineered-garments\n",
      "Descargando enlace de undercover: https://www.vogue.com/fashion-shows/pre-fall-2024-menswear/undercover\n"
     ]
    }
   ],
   "source": [
    "# Encontrar todos los elementos <a> en la página\n",
    "enlaces = soup.find_all('a')\n",
    "year = \"2024\"\n",
    "designer_dict = {}\n",
    "# df = pd.DataFrame(columns=['designer', 'img'])\n",
    "\n",
    "# Imprimir los enlaces encontrados\n",
    "for enlace in enlaces:\n",
    "    # print(f\"Descargando enlace: {enlace.get('href')}\")\n",
    "    enlace = enlace.get('href')\n",
    "    if year in enlace:\n",
    "        designer_page = \"https://www.vogue.com\"+ enlace\n",
    "        designer_name = enlace.split('/')[-1]\n",
    "        print(f\"Descargando enlace de {designer_name}: {designer_page}\")\n",
    "        response = requests.get(designer_page)\n",
    "        if response.status_code == 200:\n",
    "            html_content = response.text\n",
    "        #     soup = BeautifulSoup(html_content, 'html.parser')\n",
    "            # print(soup.find_all('img'))\n",
    "            for img in soup.find_all('img'):\n",
    "                if \"SummaryItemSimpleHed\" not in img.get('alt'):\n",
    "                    continue\n",
    "                # print(img.get('src'))\n",
    "                if img.get('src') is not None and img.get('src').endswith('.jpg'):\n",
    "                    if designer_name not in designer_dict:\n",
    "                        designer_dict[designer_name] = [img.get('src')]\n",
    "                    else:\n",
    "                        designer_dict[designer_name].append(img.get('src'))\n",
    "        else:\n",
    "            print(\"Error al obtener la página:\", response.status_code)"
   ]
  },
  {
   "cell_type": "markdown",
   "metadata": {},
   "source": [
    "    DF con diferente tamaño vertical (teniendo en cuenta el key con mas len()del  dict y los demás a None)"
   ]
  },
  {
   "cell_type": "code",
   "execution_count": 84,
   "metadata": {},
   "outputs": [],
   "source": [
    "max_len = max(len(lst) for lst in designer_dict.values())\n",
    "for key in designer_dict:\n",
    "    len_diff = max_len - len(designer_dict[key])\n",
    "    if len_diff > 0:\n",
    "        designer_dict[key] += [None] * len_diff\n",
    "\n",
    "df = pd.DataFrame(designer_dict)"
   ]
  },
  {
   "cell_type": "markdown",
   "metadata": {},
   "source": [
    "    Encontrar página de all pictures en cada diseñador"
   ]
  },
  {
   "cell_type": "code",
   "execution_count": 49,
   "metadata": {},
   "outputs": [],
   "source": [
    "designer_page = \"https://www.vogue.com/fashion-shows/fall-2024-ready-to-wear/sara-battaglia\"\n",
    "\n",
    "response = requests.get(designer_page)\n",
    "if response.status_code == 200:\n",
    "    html_content = response.text\n",
    "    soup = BeautifulSoup(html_content, 'html.parser')\n",
    "    # sacar la pagina de ver las imagenes\n",
    "    boton = soup.find_all(class_=\"RunwayShowPageGalleryCta-fmTQJF FtdcL\")\n",
    "    # sacar el link de la pagina de imagenes\n",
    "    link = boton[0].find('a').get('href')\n"
   ]
  },
  {
   "cell_type": "code",
   "execution_count": 50,
   "metadata": {},
   "outputs": [
    {
     "data": {
      "text/plain": [
       "'/fashion-shows/fall-2024-ready-to-wear/sara-battaglia/slideshow/collection'"
      ]
     },
     "execution_count": 50,
     "metadata": {},
     "output_type": "execute_result"
    }
   ],
   "source": [
    "link"
   ]
  },
  {
   "cell_type": "markdown",
   "metadata": {},
   "source": [
    "    Encontrar imagenes en allpics (ESTOY ATASCADO) // en esta parte siempre recoge la misma imagen aunque se itere sobre varias páginas"
   ]
  },
  {
   "cell_type": "code",
   "execution_count": 54,
   "metadata": {},
   "outputs": [
    {
     "name": "stdout",
     "output_type": "stream",
     "text": [
      "https://www.vogue.com/fashion-shows/fall-2024-ready-to-wear/sara-battaglia/slideshow/collection#1 \n",
      "\n",
      "https://assets.vogue.com/photos/65ba546ae1fe3c1de6ebc725/master/w_2560%2Cc_limit/00001-sara-battaglia-fall-2024-ready-to-wear-credit-brand.jpg\n",
      "https://www.vogue.com/fashion-shows/fall-2024-ready-to-wear/sara-battaglia/slideshow/collection#2 \n",
      "\n",
      "https://assets.vogue.com/photos/65ba546ae1fe3c1de6ebc725/master/w_2560%2Cc_limit/00001-sara-battaglia-fall-2024-ready-to-wear-credit-brand.jpg\n",
      "https://www.vogue.com/fashion-shows/fall-2024-ready-to-wear/sara-battaglia/slideshow/collection#3 \n",
      "\n",
      "https://assets.vogue.com/photos/65ba546ae1fe3c1de6ebc725/master/w_2560%2Cc_limit/00001-sara-battaglia-fall-2024-ready-to-wear-credit-brand.jpg\n",
      "https://www.vogue.com/fashion-shows/fall-2024-ready-to-wear/sara-battaglia/slideshow/collection#4 \n",
      "\n",
      "https://assets.vogue.com/photos/65ba546ae1fe3c1de6ebc725/master/w_2560%2Cc_limit/00001-sara-battaglia-fall-2024-ready-to-wear-credit-brand.jpg\n",
      "https://www.vogue.com/fashion-shows/fall-2024-ready-to-wear/sara-battaglia/slideshow/collection#5 \n",
      "\n",
      "https://assets.vogue.com/photos/65ba546ae1fe3c1de6ebc725/master/w_2560%2Cc_limit/00001-sara-battaglia-fall-2024-ready-to-wear-credit-brand.jpg\n",
      "https://www.vogue.com/fashion-shows/fall-2024-ready-to-wear/sara-battaglia/slideshow/collection#6 \n",
      "\n",
      "https://assets.vogue.com/photos/65ba546ae1fe3c1de6ebc725/master/w_2560%2Cc_limit/00001-sara-battaglia-fall-2024-ready-to-wear-credit-brand.jpg\n",
      "https://www.vogue.com/fashion-shows/fall-2024-ready-to-wear/sara-battaglia/slideshow/collection#7 \n",
      "\n",
      "https://assets.vogue.com/photos/65ba546ae1fe3c1de6ebc725/master/w_2560%2Cc_limit/00001-sara-battaglia-fall-2024-ready-to-wear-credit-brand.jpg\n",
      "https://www.vogue.com/fashion-shows/fall-2024-ready-to-wear/sara-battaglia/slideshow/collection#8 \n",
      "\n",
      "https://assets.vogue.com/photos/65ba546ae1fe3c1de6ebc725/master/w_2560%2Cc_limit/00001-sara-battaglia-fall-2024-ready-to-wear-credit-brand.jpg\n",
      "https://www.vogue.com/fashion-shows/fall-2024-ready-to-wear/sara-battaglia/slideshow/collection#9 \n",
      "\n",
      "https://assets.vogue.com/photos/65ba546ae1fe3c1de6ebc725/master/w_2560%2Cc_limit/00001-sara-battaglia-fall-2024-ready-to-wear-credit-brand.jpg\n",
      "https://www.vogue.com/fashion-shows/fall-2024-ready-to-wear/sara-battaglia/slideshow/collection#10 \n",
      "\n",
      "https://assets.vogue.com/photos/65ba546ae1fe3c1de6ebc725/master/w_2560%2Cc_limit/00001-sara-battaglia-fall-2024-ready-to-wear-credit-brand.jpg\n"
     ]
    }
   ],
   "source": [
    "collection_page = \"https://www.vogue.com/fashion-shows/fall-2024-ready-to-wear/sara-battaglia/slideshow/collection\"\n",
    "# range de 10 como ejemplo\n",
    "for i in range(10):\n",
    "    collection_page_iter = f\"{collection_page}#{str(i+1)}\"\n",
    "    print(collection_page_iter, \"\\n\")\n",
    "    response = requests.get(f\"{collection_page}#{str(i+1)}\")\n",
    "    if response.status_code == 200:\n",
    "        html_content = response.text\n",
    "        soup = BeautifulSoup(html_content, 'html.parser')\n",
    "        for img in soup.find_all(class_=\"ResponsiveAssetWrapper-gdcDmm eeYyjw\"):\n",
    "            img = img.find('img')\n",
    "            src = img.get('src')\n",
    "            if src is not None and src.endswith('.jpg'):\n",
    "                print(src)\n",
    "        time.sleep(2)  # Esperar un segundo antes de la siguiente solicitud\n",
    "\n",
    "    else:\n",
    "        print(\"Error al obtener la página:\", response.status_code)\n",
    "\n"
   ]
  }
 ],
 "metadata": {
  "kernelspec": {
   "display_name": "TrendAi_repo-WZqMEwY8",
   "language": "python",
   "name": "python3"
  },
  "language_info": {
   "codemirror_mode": {
    "name": "ipython",
    "version": 3
   },
   "file_extension": ".py",
   "mimetype": "text/x-python",
   "name": "python",
   "nbconvert_exporter": "python",
   "pygments_lexer": "ipython3",
   "version": "3.10.11"
  }
 },
 "nbformat": 4,
 "nbformat_minor": 2
}
