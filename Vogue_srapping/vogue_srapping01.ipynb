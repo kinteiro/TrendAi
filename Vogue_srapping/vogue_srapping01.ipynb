{
 "cells": [
  {
   "cell_type": "markdown",
   "metadata": {},
   "source": [
    "    Imports"
   ]
  },
  {
   "cell_type": "code",
   "execution_count": 31,
   "metadata": {},
   "outputs": [],
   "source": [
    "import requests\n",
    "from bs4 import BeautifulSoup\n",
    "import pandas as pd\n",
    "import time\n",
    "from selenium import webdriver\n",
    "from selenium.webdriver.chrome.options import Options as ChromeOptions\n",
    "options = ChromeOptions()\n",
    "options.add_argument(\"--headless=new\")\n",
    "driver = webdriver.Chrome(options=options)"
   ]
  },
  {
   "cell_type": "markdown",
   "metadata": {},
   "source": [
    "    Funccion a grosso modo"
   ]
  },
  {
   "cell_type": "code",
   "execution_count": null,
   "metadata": {},
   "outputs": [],
   "source": [
    "url = 'https://www.vogue.com/fashion-shows/latest-shows'\n",
    "response = requests.get(url)\n",
    "\n",
    "# Verificar si la solicitud fue exitosa (código de estado 200)\n",
    "if response.status_code == 200:\n",
    "    # Contenido HTML de la página web\n",
    "    html_content = response.text\n",
    "    print(f\"Pagina obtenida. \\nhead de la página: \\n{html_content[:30]}\")\n",
    "else:\n",
    "    print(\"Error al obtener la página:\", response.status_code)\n",
    "    \n",
    "# Crear un objeto BeautifulSoup\n",
    "soup = BeautifulSoup(html_content, 'html.parser')"
   ]
  },
  {
   "cell_type": "markdown",
   "metadata": {},
   "source": [
    "    Main page"
   ]
  },
  {
   "cell_type": "code",
   "execution_count": 37,
   "metadata": {},
   "outputs": [
    {
     "name": "stdout",
     "output_type": "stream",
     "text": [
      "Pagina obtenida. \n",
      "head de la página: \n",
      "<!DOCTYPE html><html lang=\"en-\n",
      "Descargando enlace de vince: https://www.vogue.com/fashion-shows/fall-2024-ready-to-wear/vince\n",
      "Descargando enlace de sara-battaglia: https://www.vogue.com/fashion-shows/fall-2024-ready-to-wear/sara-battaglia\n",
      "https://assets.vogue.com/photos/65ba546a5f8958b63b8d488d/master/w_2560%2Cc_limit/00002-sara-battaglia-fall-2024-ready-to-wear-credit-brand.jpg\n",
      "Descargando enlace de moncler-grenoble: https://www.vogue.com/fashion-shows/fall-2024-ready-to-wear/moncler-grenoble\n",
      "https://assets.vogue.com/photos/65bfa61ed07e7e093468e74b/master/w_2560%2Cc_limit/00002-moncler-grenoble-fall-2024-ready-to-wear-credit-brand.jpg\n",
      "Descargando enlace de sunflower: https://www.vogue.com/fashion-shows/copenhagen-fall-2024/sunflower\n"
     ]
    },
    {
     "ename": "WebDriverException",
     "evalue": "Message: unknown error: cannot determine loading status\nfrom target frame detached\n  (Session info: chrome=121.0.6167.140)\nStacktrace:\n\tGetHandleVerifier [0x00007FF767F85E42+3538674]\n\t(No symbol) [0x00007FF767BA4C02]\n\t(No symbol) [0x00007FF767A5599D]\n\t(No symbol) [0x00007FF767A42D43]\n\t(No symbol) [0x00007FF767A413A5]\n\t(No symbol) [0x00007FF767A41E5F]\n\t(No symbol) [0x00007FF767A4F84A]\n\t(No symbol) [0x00007FF767A61D83]\n\t(No symbol) [0x00007FF767A661DA]\n\t(No symbol) [0x00007FF767A42420]\n\t(No symbol) [0x00007FF767A61953]\n\t(No symbol) [0x00007FF767ADC13E]\n\t(No symbol) [0x00007FF767ABEE53]\n\t(No symbol) [0x00007FF767A8F514]\n\t(No symbol) [0x00007FF767A90631]\n\tGetHandleVerifier [0x00007FF767FB6CAD+3738973]\n\tGetHandleVerifier [0x00007FF76800C506+4089270]\n\tGetHandleVerifier [0x00007FF768004823+4057299]\n\tGetHandleVerifier [0x00007FF767CD5C49+720121]\n\t(No symbol) [0x00007FF767BB126F]\n\t(No symbol) [0x00007FF767BAC304]\n\t(No symbol) [0x00007FF767BAC432]\n\t(No symbol) [0x00007FF767B9BD04]\n\tBaseThreadInitThunk [0x00007FFA4BA5257D+29]\n\tRtlUserThreadStart [0x00007FFA4C64AA58+40]\n",
     "output_type": "error",
     "traceback": [
      "\u001b[1;31m---------------------------------------------------------------------------\u001b[0m",
      "\u001b[1;31mWebDriverException\u001b[0m                        Traceback (most recent call last)",
      "Cell \u001b[1;32mIn[37], line 45\u001b[0m\n\u001b[0;32m     43\u001b[0m button\u001b[38;5;241m.\u001b[39mclick()\n\u001b[0;32m     44\u001b[0m \u001b[38;5;66;03m# time.sleep(2)\u001b[39;00m\n\u001b[1;32m---> 45\u001b[0m img \u001b[38;5;241m=\u001b[39m \u001b[43mdriver\u001b[49m\u001b[38;5;241;43m.\u001b[39;49m\u001b[43mfind_element\u001b[49m\u001b[43m(\u001b[49m\u001b[38;5;124;43m'\u001b[39;49m\u001b[38;5;124;43mxpath\u001b[39;49m\u001b[38;5;124;43m'\u001b[39;49m\u001b[43m,\u001b[49m\u001b[43m \u001b[49m\u001b[38;5;124;43m'\u001b[39;49m\u001b[38;5;124;43m//*[@id=\u001b[39;49m\u001b[38;5;124;43m\"\u001b[39;49m\u001b[38;5;124;43mmain-content\u001b[39;49m\u001b[38;5;124;43m\"\u001b[39;49m\u001b[38;5;124;43m]/div/div[1]/div[2]/div/div/ul/li/div[1]/div/span/picture/img\u001b[39;49m\u001b[38;5;124;43m'\u001b[39;49m\u001b[43m)\u001b[49m\n\u001b[0;32m     46\u001b[0m \u001b[38;5;28mprint\u001b[39m(img\u001b[38;5;241m.\u001b[39mget_attribute(\u001b[38;5;124m'\u001b[39m\u001b[38;5;124msrc\u001b[39m\u001b[38;5;124m'\u001b[39m))\n\u001b[0;32m     47\u001b[0m \u001b[38;5;28;01mbreak\u001b[39;00m\n",
      "File \u001b[1;32mc:\\Users\\David Molla\\.virtualenvs\\vogue_scrapping-J26irZbj\\lib\\site-packages\\selenium\\webdriver\\remote\\webdriver.py:741\u001b[0m, in \u001b[0;36mWebDriver.find_element\u001b[1;34m(self, by, value)\u001b[0m\n\u001b[0;32m    738\u001b[0m     by \u001b[38;5;241m=\u001b[39m By\u001b[38;5;241m.\u001b[39mCSS_SELECTOR\n\u001b[0;32m    739\u001b[0m     value \u001b[38;5;241m=\u001b[39m \u001b[38;5;124mf\u001b[39m\u001b[38;5;124m'\u001b[39m\u001b[38;5;124m[name=\u001b[39m\u001b[38;5;124m\"\u001b[39m\u001b[38;5;132;01m{\u001b[39;00mvalue\u001b[38;5;132;01m}\u001b[39;00m\u001b[38;5;124m\"\u001b[39m\u001b[38;5;124m]\u001b[39m\u001b[38;5;124m'\u001b[39m\n\u001b[1;32m--> 741\u001b[0m \u001b[38;5;28;01mreturn\u001b[39;00m \u001b[38;5;28;43mself\u001b[39;49m\u001b[38;5;241;43m.\u001b[39;49m\u001b[43mexecute\u001b[49m\u001b[43m(\u001b[49m\u001b[43mCommand\u001b[49m\u001b[38;5;241;43m.\u001b[39;49m\u001b[43mFIND_ELEMENT\u001b[49m\u001b[43m,\u001b[49m\u001b[43m \u001b[49m\u001b[43m{\u001b[49m\u001b[38;5;124;43m\"\u001b[39;49m\u001b[38;5;124;43musing\u001b[39;49m\u001b[38;5;124;43m\"\u001b[39;49m\u001b[43m:\u001b[49m\u001b[43m \u001b[49m\u001b[43mby\u001b[49m\u001b[43m,\u001b[49m\u001b[43m \u001b[49m\u001b[38;5;124;43m\"\u001b[39;49m\u001b[38;5;124;43mvalue\u001b[39;49m\u001b[38;5;124;43m\"\u001b[39;49m\u001b[43m:\u001b[49m\u001b[43m \u001b[49m\u001b[43mvalue\u001b[49m\u001b[43m}\u001b[49m\u001b[43m)\u001b[49m[\u001b[38;5;124m\"\u001b[39m\u001b[38;5;124mvalue\u001b[39m\u001b[38;5;124m\"\u001b[39m]\n",
      "File \u001b[1;32mc:\\Users\\David Molla\\.virtualenvs\\vogue_scrapping-J26irZbj\\lib\\site-packages\\selenium\\webdriver\\remote\\webdriver.py:347\u001b[0m, in \u001b[0;36mWebDriver.execute\u001b[1;34m(self, driver_command, params)\u001b[0m\n\u001b[0;32m    345\u001b[0m response \u001b[38;5;241m=\u001b[39m \u001b[38;5;28mself\u001b[39m\u001b[38;5;241m.\u001b[39mcommand_executor\u001b[38;5;241m.\u001b[39mexecute(driver_command, params)\n\u001b[0;32m    346\u001b[0m \u001b[38;5;28;01mif\u001b[39;00m response:\n\u001b[1;32m--> 347\u001b[0m     \u001b[38;5;28;43mself\u001b[39;49m\u001b[38;5;241;43m.\u001b[39;49m\u001b[43merror_handler\u001b[49m\u001b[38;5;241;43m.\u001b[39;49m\u001b[43mcheck_response\u001b[49m\u001b[43m(\u001b[49m\u001b[43mresponse\u001b[49m\u001b[43m)\u001b[49m\n\u001b[0;32m    348\u001b[0m     response[\u001b[38;5;124m\"\u001b[39m\u001b[38;5;124mvalue\u001b[39m\u001b[38;5;124m\"\u001b[39m] \u001b[38;5;241m=\u001b[39m \u001b[38;5;28mself\u001b[39m\u001b[38;5;241m.\u001b[39m_unwrap_value(response\u001b[38;5;241m.\u001b[39mget(\u001b[38;5;124m\"\u001b[39m\u001b[38;5;124mvalue\u001b[39m\u001b[38;5;124m\"\u001b[39m, \u001b[38;5;28;01mNone\u001b[39;00m))\n\u001b[0;32m    349\u001b[0m     \u001b[38;5;28;01mreturn\u001b[39;00m response\n",
      "File \u001b[1;32mc:\\Users\\David Molla\\.virtualenvs\\vogue_scrapping-J26irZbj\\lib\\site-packages\\selenium\\webdriver\\remote\\errorhandler.py:229\u001b[0m, in \u001b[0;36mErrorHandler.check_response\u001b[1;34m(self, response)\u001b[0m\n\u001b[0;32m    227\u001b[0m         alert_text \u001b[38;5;241m=\u001b[39m value[\u001b[38;5;124m\"\u001b[39m\u001b[38;5;124malert\u001b[39m\u001b[38;5;124m\"\u001b[39m]\u001b[38;5;241m.\u001b[39mget(\u001b[38;5;124m\"\u001b[39m\u001b[38;5;124mtext\u001b[39m\u001b[38;5;124m\"\u001b[39m)\n\u001b[0;32m    228\u001b[0m     \u001b[38;5;28;01mraise\u001b[39;00m exception_class(message, screen, stacktrace, alert_text)  \u001b[38;5;66;03m# type: ignore[call-arg]  # mypy is not smart enough here\u001b[39;00m\n\u001b[1;32m--> 229\u001b[0m \u001b[38;5;28;01mraise\u001b[39;00m exception_class(message, screen, stacktrace)\n",
      "\u001b[1;31mWebDriverException\u001b[0m: Message: unknown error: cannot determine loading status\nfrom target frame detached\n  (Session info: chrome=121.0.6167.140)\nStacktrace:\n\tGetHandleVerifier [0x00007FF767F85E42+3538674]\n\t(No symbol) [0x00007FF767BA4C02]\n\t(No symbol) [0x00007FF767A5599D]\n\t(No symbol) [0x00007FF767A42D43]\n\t(No symbol) [0x00007FF767A413A5]\n\t(No symbol) [0x00007FF767A41E5F]\n\t(No symbol) [0x00007FF767A4F84A]\n\t(No symbol) [0x00007FF767A61D83]\n\t(No symbol) [0x00007FF767A661DA]\n\t(No symbol) [0x00007FF767A42420]\n\t(No symbol) [0x00007FF767A61953]\n\t(No symbol) [0x00007FF767ADC13E]\n\t(No symbol) [0x00007FF767ABEE53]\n\t(No symbol) [0x00007FF767A8F514]\n\t(No symbol) [0x00007FF767A90631]\n\tGetHandleVerifier [0x00007FF767FB6CAD+3738973]\n\tGetHandleVerifier [0x00007FF76800C506+4089270]\n\tGetHandleVerifier [0x00007FF768004823+4057299]\n\tGetHandleVerifier [0x00007FF767CD5C49+720121]\n\t(No symbol) [0x00007FF767BB126F]\n\t(No symbol) [0x00007FF767BAC304]\n\t(No symbol) [0x00007FF767BAC432]\n\t(No symbol) [0x00007FF767B9BD04]\n\tBaseThreadInitThunk [0x00007FFA4BA5257D+29]\n\tRtlUserThreadStart [0x00007FFA4C64AA58+40]\n"
     ]
    }
   ],
   "source": [
    "url = 'https://www.vogue.com/fashion-shows/latest-shows'\n",
    "response = requests.get(url)\n",
    "\n",
    "# Verificar si la solicitud fue exitosa (código de estado 200)\n",
    "if response.status_code == 200:\n",
    "    # Contenido HTML de la página web\n",
    "    html_content = response.text\n",
    "    print(f\"Pagina obtenida. \\nhead de la página: \\n{html_content[:30]}\")\n",
    "else:\n",
    "    print(\"Error al obtener la página:\", response.status_code)\n",
    "    \n",
    "# Crear un objeto BeautifulSoup\n",
    "soup = BeautifulSoup(html_content, 'html.parser')\n",
    "# Encontrar todos los elementos <a> en la página\n",
    "enlaces = soup.find_all('a')\n",
    "year = \"2024\"\n",
    "designer_dict = {}\n",
    "# df = pd.DataFrame(columns=['designer', 'img'])\n",
    "\n",
    "# Imprimir los enlaces encontrados\n",
    "for enlace in enlaces:\n",
    "    # print(f\"Descargando enlace: {enlace.get('href')}\")\n",
    "    enlace = enlace.get('href')\n",
    "    if year in enlace:\n",
    "        designer_page = \"https://www.vogue.com\"+ enlace\n",
    "        designer_name = enlace.split('/')[-1]\n",
    "        print(f\"Descargando enlace de {designer_name}: {designer_page}\")\n",
    "        response = requests.get(designer_page)\n",
    "        if response.status_code == 200:\n",
    "            html_content = response.text\n",
    "            soup = BeautifulSoup(html_content, 'html.parser')\n",
    "            # sacar la pagina de ver las imagenes\n",
    "            boton = soup.find_all(class_=\"RunwayShowPageGalleryCta-fmTQJF FtdcL\")\n",
    "            # sacar el link de la pagina de imagenes\n",
    "            link = boton[0].find('a').get('href')\n",
    "            driver = webdriver.Chrome()\n",
    "            collection_page = f\"https://www.vogue.com{link}\"\n",
    "            driver.get(collection_page)\n",
    "            terms_button = driver.find_element('xpath', '//*[@id=\"onetrust-accept-btn-handler\"]')\n",
    "            terms_button.click()\n",
    "            button = driver.find_element('xpath', '//*[@id=\"main-content\"]/div[2]/div[1]/div[1]/div/div/div[1]/div[2]/div[3]')\n",
    "            while button:\n",
    "                button.click()\n",
    "                # time.sleep(2)\n",
    "                img = driver.find_element('xpath', '//*[@id=\"main-content\"]/div/div[1]/div[2]/div/div/ul/li/div[1]/div/span/picture/img')\n",
    "                print(img.get_attribute('src'))\n",
    "                break\n",
    "\n",
    "\n",
    "                    \n"
   ]
  },
  {
   "cell_type": "markdown",
   "metadata": {},
   "source": [
    "    Encontrar pagina de los diseñadores (parte dict y imagenes WIP)"
   ]
  },
  {
   "cell_type": "code",
   "execution_count": 29,
   "metadata": {},
   "outputs": [],
   "source": [
    "def get_enlaces(enlaces, year:int):\n",
    "    year = str(year)\n",
    "    for enlace in enlaces:\n",
    "        # print(f\"Descargando enlace: {enlace.get('href')}\")\n",
    "        enlace = enlace.get('href')\n",
    "        if year in enlace:\n",
    "            designer_page = \"https://www.vogue.com\"+ enlace\n",
    "            designer_name = enlace.split('/')[-1]\n",
    "            print(f\"Descargando enlace de {designer_name}: {designer_page}\")\n",
    "            return designer_page, designer_name\n",
    "\n"
   ]
  },
  {
   "cell_type": "code",
   "execution_count": 30,
   "metadata": {},
   "outputs": [],
   "source": [
    "get_enlaces(soup.find_all('a'), 2021)"
   ]
  },
  {
   "cell_type": "code",
   "execution_count": 4,
   "metadata": {},
   "outputs": [
    {
     "name": "stdout",
     "output_type": "stream",
     "text": [
      "Descargando enlace de vince: https://www.vogue.com/fashion-shows/fall-2024-ready-to-wear/vince\n",
      "Descargando enlace de sara-battaglia: https://www.vogue.com/fashion-shows/fall-2024-ready-to-wear/sara-battaglia\n",
      "Descargando enlace de moncler-grenoble: https://www.vogue.com/fashion-shows/fall-2024-ready-to-wear/moncler-grenoble\n",
      "Descargando enlace de sunflower: https://www.vogue.com/fashion-shows/copenhagen-fall-2024/sunflower\n",
      "Descargando enlace de soulland: https://www.vogue.com/fashion-shows/copenhagen-fall-2024/soulland\n",
      "Descargando enlace de helmstedt: https://www.vogue.com/fashion-shows/copenhagen-fall-2024/helmstedt\n",
      "Descargando enlace de caro-editions: https://www.vogue.com/fashion-shows/copenhagen-fall-2024/caro-editions\n",
      "Descargando enlace de mark-kenly-domino-tan: https://www.vogue.com/fashion-shows/copenhagen-fall-2024/mark-kenly-domino-tan\n",
      "Descargando enlace de paolina-russo: https://www.vogue.com/fashion-shows/copenhagen-fall-2024/paolina-russo\n",
      "Descargando enlace de baum-und-pferdgarten: https://www.vogue.com/fashion-shows/copenhagen-fall-2024/baum-und-pferdgarten\n",
      "Descargando enlace de henrik-vibskov: https://www.vogue.com/fashion-shows/copenhagen-fall-2024/henrik-vibskov\n",
      "Descargando enlace de stine-goya: https://www.vogue.com/fashion-shows/copenhagen-fall-2024/stine-goya\n",
      "Descargando enlace de mfpen: https://www.vogue.com/fashion-shows/copenhagen-fall-2024/mfpen\n",
      "Descargando enlace de the-garment: https://www.vogue.com/fashion-shows/copenhagen-fall-2024/the-garment\n",
      "Descargando enlace de skall-studio: https://www.vogue.com/fashion-shows/copenhagen-fall-2024/skall-studio\n",
      "Descargando enlace de stamm: https://www.vogue.com/fashion-shows/copenhagen-fall-2024/stamm\n",
      "Descargando enlace de rolf-ekroth: https://www.vogue.com/fashion-shows/copenhagen-fall-2024/rolf-ekroth\n",
      "Descargando enlace de ganni: https://www.vogue.com/fashion-shows/copenhagen-fall-2024/ganni\n",
      "Descargando enlace de kith: https://www.vogue.com/fashion-shows/spring-2024-menswear/kith\n",
      "Descargando enlace de oamc: https://www.vogue.com/fashion-shows/spring-2024-menswear/oamc\n",
      "Descargando enlace de mugler: https://www.vogue.com/fashion-shows/pre-fall-2024/mugler\n",
      "Descargando enlace de philipp-plein: https://www.vogue.com/fashion-shows/pre-fall-2024/philipp-plein\n",
      "Descargando enlace de undercover: https://www.vogue.com/fashion-shows/pre-fall-2024/undercover\n",
      "Descargando enlace de marc-jacobs: https://www.vogue.com/fashion-shows/spring-2024-ready-to-wear/marc-jacobs\n",
      "Descargando enlace de hm: https://www.vogue.com/fashion-shows/spring-2024-ready-to-wear/hm\n",
      "Descargando enlace de stein: https://www.vogue.com/fashion-shows/tokyo-fall-2024/stein\n",
      "Descargando enlace de rainmaker: https://www.vogue.com/fashion-shows/tokyo-fall-2024/rainmaker\n",
      "Descargando enlace de b-umit-benan: https://www.vogue.com/fashion-shows/fall-2024-menswear/b-umit-benan\n",
      "Descargando enlace de engineered-garments: https://www.vogue.com/fashion-shows/fall-2024-menswear/engineered-garments\n",
      "Descargando enlace de undercover: https://www.vogue.com/fashion-shows/pre-fall-2024-menswear/undercover\n"
     ]
    }
   ],
   "source": [
    "# Encontrar todos los elementos <a> en la página\n",
    "enlaces = soup.find_all('a')\n",
    "year = \"2024\"\n",
    "designer_dict = {}\n",
    "# df = pd.DataFrame(columns=['designer', 'img'])\n",
    "\n",
    "# Imprimir los enlaces encontrados\n",
    "for enlace in enlaces:\n",
    "    # print(f\"Descargando enlace: {enlace.get('href')}\")\n",
    "    enlace = enlace.get('href')\n",
    "    if year in enlace:\n",
    "        designer_page = \"https://www.vogue.com\"+ enlace\n",
    "        designer_name = enlace.split('/')[-1]\n",
    "        print(f\"Descargando enlace de {designer_name}: {designer_page}\")\n",
    "        response = requests.get(designer_page)\n",
    "        if response.status_code == 200:\n",
    "            html_content = response.text\n",
    "        #     soup = BeautifulSoup(html_content, 'html.parser')\n",
    "            # print(soup.find_all('img'))\n",
    "            for img in soup.find_all('img'):\n",
    "                if \"SummaryItemSimpleHed\" not in img.get('alt'):\n",
    "                    continue\n",
    "                # print(img.get('src'))\n",
    "                if img.get('src') is not None and img.get('src').endswith('.jpg'):\n",
    "                    if designer_name not in designer_dict:\n",
    "                        designer_dict[designer_name] = [img.get('src')]\n",
    "                    else:\n",
    "                        designer_dict[designer_name].append(img.get('src'))\n",
    "        else:\n",
    "            print(\"Error al obtener la página:\", response.status_code)"
   ]
  },
  {
   "cell_type": "markdown",
   "metadata": {},
   "source": [
    "    DF con diferente tamaño vertical (teniendo en cuenta el key con mas len()del  dict y los demás a None)"
   ]
  },
  {
   "cell_type": "code",
   "execution_count": 5,
   "metadata": {},
   "outputs": [
    {
     "ename": "ValueError",
     "evalue": "max() arg is an empty sequence",
     "output_type": "error",
     "traceback": [
      "\u001b[1;31m---------------------------------------------------------------------------\u001b[0m",
      "\u001b[1;31mValueError\u001b[0m                                Traceback (most recent call last)",
      "Cell \u001b[1;32mIn[5], line 1\u001b[0m\n\u001b[1;32m----> 1\u001b[0m max_len \u001b[38;5;241m=\u001b[39m \u001b[38;5;28;43mmax\u001b[39;49m\u001b[43m(\u001b[49m\u001b[38;5;28;43mlen\u001b[39;49m\u001b[43m(\u001b[49m\u001b[43mlst\u001b[49m\u001b[43m)\u001b[49m\u001b[43m \u001b[49m\u001b[38;5;28;43;01mfor\u001b[39;49;00m\u001b[43m \u001b[49m\u001b[43mlst\u001b[49m\u001b[43m \u001b[49m\u001b[38;5;129;43;01min\u001b[39;49;00m\u001b[43m \u001b[49m\u001b[43mdesigner_dict\u001b[49m\u001b[38;5;241;43m.\u001b[39;49m\u001b[43mvalues\u001b[49m\u001b[43m(\u001b[49m\u001b[43m)\u001b[49m\u001b[43m)\u001b[49m\n\u001b[0;32m      2\u001b[0m \u001b[38;5;28;01mfor\u001b[39;00m key \u001b[38;5;129;01min\u001b[39;00m designer_dict:\n\u001b[0;32m      3\u001b[0m     len_diff \u001b[38;5;241m=\u001b[39m max_len \u001b[38;5;241m-\u001b[39m \u001b[38;5;28mlen\u001b[39m(designer_dict[key])\n",
      "\u001b[1;31mValueError\u001b[0m: max() arg is an empty sequence"
     ]
    }
   ],
   "source": [
    "max_len = max(len(lst) for lst in designer_dict.values())\n",
    "for key in designer_dict:\n",
    "    len_diff = max_len - len(designer_dict[key])\n",
    "    if len_diff > 0:\n",
    "        designer_dict[key] += [None] * len_diff\n",
    "\n",
    "df = pd.DataFrame(designer_dict)"
   ]
  },
  {
   "cell_type": "markdown",
   "metadata": {},
   "source": [
    "    Encontrar página de all pictures en cada diseñador"
   ]
  },
  {
   "cell_type": "code",
   "execution_count": 32,
   "metadata": {},
   "outputs": [],
   "source": [
    "designer_page = \"https://www.vogue.com/fashion-shows/fall-2024-ready-to-wear/sara-battaglia\"\n",
    "\n",
    "response = requests.get(designer_page)\n",
    "if response.status_code == 200:\n",
    "    html_content = response.text\n",
    "    soup = BeautifulSoup(html_content, 'html.parser')\n",
    "    # sacar la pagina de ver las imagenes\n",
    "    boton = soup.find_all(class_=\"RunwayShowPageGalleryCta-fmTQJF FtdcL\")\n",
    "    # sacar el link de la pagina de imagenes\n",
    "    link = boton[0].find('a').get('href')\n"
   ]
  },
  {
   "cell_type": "code",
   "execution_count": 33,
   "metadata": {},
   "outputs": [
    {
     "data": {
      "text/plain": [
       "'/fashion-shows/fall-2024-ready-to-wear/sara-battaglia/slideshow/collection'"
      ]
     },
     "execution_count": 33,
     "metadata": {},
     "output_type": "execute_result"
    }
   ],
   "source": [
    "link"
   ]
  },
  {
   "cell_type": "markdown",
   "metadata": {},
   "source": [
    "    Encontrar imagenes en allpics (ESTOY ATASCADO) // en esta parte siempre recoge la misma imagen aunque se itere sobre varias páginas"
   ]
  },
  {
   "cell_type": "code",
   "execution_count": 39,
   "metadata": {},
   "outputs": [],
   "source": []
  },
  {
   "cell_type": "code",
   "execution_count": 46,
   "metadata": {},
   "outputs": [
    {
     "name": "stdout",
     "output_type": "stream",
     "text": [
      "button: <selenium.webdriver.remote.webelement.WebElement (session=\"488b808613b2fe665e805f22037c780d\", element=\"395FC05C960592C053AB0E5DAD6513FD_element_33\")>\n",
      "https://assets.vogue.com/photos/65ba546a5f8958b63b8d488d/master/w_2560%2Cc_limit/00002-sara-battaglia-fall-2024-ready-to-wear-credit-brand.jpg\n",
      "https://assets.vogue.com/photos/65ba546a4f005afdef36c860/master/w_2560%2Cc_limit/00003-sara-battaglia-fall-2024-ready-to-wear-credit-brand.jpg\n",
      "https://assets.vogue.com/photos/65ba546dfa392b10eb9f1394/master/w_2560%2Cc_limit/00004-sara-battaglia-fall-2024-ready-to-wear-credit-brand.jpg\n",
      "https://assets.vogue.com/photos/65ba546d6e24549428bffc40/master/w_2560%2Cc_limit/00005-sara-battaglia-fall-2024-ready-to-wear-credit-brand.jpg\n",
      "https://assets.vogue.com/photos/65ba546d6e24549428bffc41/master/w_2560%2Cc_limit/00006-sara-battaglia-fall-2024-ready-to-wear-credit-brand.jpg\n",
      "https://assets.vogue.com/photos/65ba546f14494a9f83aa8cbf/master/w_2560%2Cc_limit/00007-sara-battaglia-fall-2024-ready-to-wear-credit-brand.jpg\n",
      "https://assets.vogue.com/photos/65ba546ffa392b10eb9f1396/master/w_2560%2Cc_limit/00008-sara-battaglia-fall-2024-ready-to-wear-credit-brand.jpg\n",
      "https://assets.vogue.com/photos/65ba5470f5c8d6def0b75ef5/master/w_2560%2Cc_limit/00009-sara-battaglia-fall-2024-ready-to-wear-credit-brand.jpg\n",
      "https://assets.vogue.com/photos/65ba5472f5c8d6def0b75ef8/master/w_2560%2Cc_limit/00010-sara-battaglia-fall-2024-ready-to-wear-credit-brand.jpg\n",
      "https://assets.vogue.com/photos/65ba5472e1a67d0272686430/master/w_2560%2Cc_limit/00011-sara-battaglia-fall-2024-ready-to-wear-credit-brand.jpg\n",
      "https://assets.vogue.com/photos/65ba54738880c7c3a2127d22/master/w_2560%2Cc_limit/00012-sara-battaglia-fall-2024-ready-to-wear-credit-brand.jpg\n",
      "https://assets.vogue.com/photos/65ba54752f3ff5af01cbb24c/master/w_2560%2Cc_limit/00013-sara-battaglia-fall-2024-ready-to-wear-credit-brand.jpg\n",
      "https://assets.vogue.com/photos/65ba5475f4b889162b758464/master/w_2560%2Cc_limit/00014-sara-battaglia-fall-2024-ready-to-wear-credit-brand.jpg\n",
      "https://assets.vogue.com/photos/65ba54767998c7e6fb64e5f6/master/w_2560%2Cc_limit/00015-sara-battaglia-fall-2024-ready-to-wear-credit-brand.jpg\n",
      "https://assets.vogue.com/photos/65ba54789621d7e0baadb2c0/master/w_2560%2Cc_limit/00016-sara-battaglia-fall-2024-ready-to-wear-credit-brand.jpg\n",
      "https://assets.vogue.com/photos/65ba547814494a9f83aa8cc3/master/w_2560%2Cc_limit/00017-sara-battaglia-fall-2024-ready-to-wear-credit-brand.jpg\n",
      "https://assets.vogue.com/photos/65ba5478d058bc2c681daa46/master/w_2560%2Cc_limit/00018-sara-battaglia-fall-2024-ready-to-wear-credit-brand.jpg\n",
      "https://assets.vogue.com/photos/65ba547a14494a9f83aa8cc5/master/w_2560%2Cc_limit/00019-sara-battaglia-fall-2024-ready-to-wear-credit-brand.jpg\n",
      "https://assets.vogue.com/photos/65ba547afa392b10eb9f1398/master/w_2560%2Cc_limit/00020-sara-battaglia-fall-2024-ready-to-wear-credit-brand.jpg\n",
      "https://assets.vogue.com/photos/65ba547bdc5807ab50fa21e8/master/w_2560%2Cc_limit/00021-sara-battaglia-fall-2024-ready-to-wear-credit-brand.jpg\n",
      "https://assets.vogue.com/photos/65ba547de91b57deaaa1b5e7/master/w_2560%2Cc_limit/00022-sara-battaglia-fall-2024-ready-to-wear-credit-brand.jpg\n",
      "https://assets.vogue.com/photos/65ba547e8cfea916565ed66f/master/w_2560%2Cc_limit/00023-sara-battaglia-fall-2024-ready-to-wear-credit-brand.jpg\n",
      "https://assets.vogue.com/photos/65ba547ef5c8d6def0b75efb/master/w_2560%2Cc_limit/00024-sara-battaglia-fall-2024-ready-to-wear-credit-brand.jpg\n",
      "https://assets.vogue.com/photos/65ba5480f4b889162b758467/master/w_2560%2Cc_limit/00025-sara-battaglia-fall-2024-ready-to-wear-credit-brand.jpg\n",
      "https://assets.vogue.com/photos/65ba5481b55cb162751ff005/master/w_2560%2Cc_limit/00026-sara-battaglia-fall-2024-ready-to-wear-credit-brand.jpg\n",
      "https://assets.vogue.com/photos/65ba5480f5c8d6def0b75efd/master/w_2560%2Cc_limit/00027-sara-battaglia-fall-2024-ready-to-wear-credit-brand.jpg\n",
      "https://assets.vogue.com/photos/65ba54837c58534d6f303880/master/w_2560%2Cc_limit/00028-sara-battaglia-fall-2024-ready-to-wear-credit-brand.jpg\n",
      "https://assets.vogue.com/photos/65ba54837c58534d6f303882/master/w_2560%2Cc_limit/00029-sara-battaglia-fall-2024-ready-to-wear-credit-brand.jpg\n",
      "https://assets.vogue.com/photos/65ba5484e1fe3c1de6ebc727/master/w_2560%2Cc_limit/00030-sara-battaglia-fall-2024-ready-to-wear-credit-brand.jpg\n",
      "https://assets.vogue.com/photos/65ba5485a534ea3784bfdd4c/master/w_2560%2Cc_limit/00031-sara-battaglia-fall-2024-ready-to-wear-credit-brand.jpg\n",
      "https://assets.vogue.com/photos/65ba5486d058bc2c681daa49/master/w_2560%2Cc_limit/00032-sara-battaglia-fall-2024-ready-to-wear-credit-brand.jpg\n",
      "https://assets.vogue.com/photos/65ba54864f005afdef36c865/master/w_2560%2Cc_limit/00033-sara-battaglia-fall-2024-ready-to-wear-credit-brand.jpg\n",
      "https://assets.vogue.com/photos/65ba54864f005afdef36c865/master/w_2560%2Cc_limit/00033-sara-battaglia-fall-2024-ready-to-wear-credit-brand.jpg\n",
      "https://assets.vogue.com/photos/65ba54864f005afdef36c865/master/w_2560%2Cc_limit/00033-sara-battaglia-fall-2024-ready-to-wear-credit-brand.jpg\n",
      "https://assets.vogue.com/photos/65ba54864f005afdef36c865/master/w_2560%2Cc_limit/00033-sara-battaglia-fall-2024-ready-to-wear-credit-brand.jpg\n",
      "https://assets.vogue.com/photos/65ba54864f005afdef36c865/master/w_2560%2Cc_limit/00033-sara-battaglia-fall-2024-ready-to-wear-credit-brand.jpg\n",
      "https://assets.vogue.com/photos/65ba54864f005afdef36c865/master/w_2560%2Cc_limit/00033-sara-battaglia-fall-2024-ready-to-wear-credit-brand.jpg\n",
      "https://assets.vogue.com/photos/65ba54864f005afdef36c865/master/w_2560%2Cc_limit/00033-sara-battaglia-fall-2024-ready-to-wear-credit-brand.jpg\n",
      "https://assets.vogue.com/photos/65ba54864f005afdef36c865/master/w_2560%2Cc_limit/00033-sara-battaglia-fall-2024-ready-to-wear-credit-brand.jpg\n"
     ]
    },
    {
     "ename": "KeyboardInterrupt",
     "evalue": "",
     "output_type": "error",
     "traceback": [
      "\u001b[1;31m---------------------------------------------------------------------------\u001b[0m",
      "\u001b[1;31mKeyboardInterrupt\u001b[0m                         Traceback (most recent call last)",
      "Cell \u001b[1;32mIn[46], line 10\u001b[0m\n\u001b[0;32m      8\u001b[0m \u001b[38;5;28;01mwhile\u001b[39;00m button:\n\u001b[0;32m      9\u001b[0m     button\u001b[38;5;241m.\u001b[39mclick()\n\u001b[1;32m---> 10\u001b[0m     \u001b[43mtime\u001b[49m\u001b[38;5;241;43m.\u001b[39;49m\u001b[43msleep\u001b[49m\u001b[43m(\u001b[49m\u001b[38;5;241;43m2\u001b[39;49m\u001b[43m)\u001b[49m\n\u001b[0;32m     11\u001b[0m     img \u001b[38;5;241m=\u001b[39m driver\u001b[38;5;241m.\u001b[39mfind_element(\u001b[38;5;124m'\u001b[39m\u001b[38;5;124mxpath\u001b[39m\u001b[38;5;124m'\u001b[39m, \u001b[38;5;124m'\u001b[39m\u001b[38;5;124m//*[@id=\u001b[39m\u001b[38;5;124m\"\u001b[39m\u001b[38;5;124mmain-content\u001b[39m\u001b[38;5;124m\"\u001b[39m\u001b[38;5;124m]/div/div[1]/div[2]/div/div/ul/li/div[1]/div/span/picture/img\u001b[39m\u001b[38;5;124m'\u001b[39m)\n\u001b[0;32m     12\u001b[0m     \u001b[38;5;28mprint\u001b[39m(img\u001b[38;5;241m.\u001b[39mget_attribute(\u001b[38;5;124m'\u001b[39m\u001b[38;5;124msrc\u001b[39m\u001b[38;5;124m'\u001b[39m))\n",
      "\u001b[1;31mKeyboardInterrupt\u001b[0m: "
     ]
    }
   ],
   "source": [
    "driver = webdriver.Chrome()\n",
    "collection_page = \"https://www.vogue.com/fashion-shows/fall-2024-ready-to-wear/sara-battaglia/slideshow/collection\"\n",
    "driver.get(collection_page)\n",
    "terms_button = driver.find_element('xpath', '//*[@id=\"onetrust-accept-btn-handler\"]')\n",
    "terms_button.click()\n",
    "button = driver.find_element('xpath', '//*[@id=\"main-content\"]/div[2]/div[1]/div[1]/div/div/div[1]/div[2]/div[3]')\n",
    "while button:\n",
    "    button.click()\n",
    "    # time.sleep(2)\n",
    "    img = driver.find_element('xpath', '//*[@id=\"main-content\"]/div/div[1]/div[2]/div/div/ul/li/div[1]/div/span/picture/img')\n",
    "    print(img.get_attribute('src'))\n",
    "       "
   ]
  },
  {
   "cell_type": "code",
   "execution_count": null,
   "metadata": {},
   "outputs": [],
   "source": [
    "collection_page = \"https://www.vogue.com/fashion-shows/fall-2024-ready-to-wear/sara-battaglia/slideshow/collection\"\n",
    "# range de 10 como ejemplo\n",
    "for i in range(10):\n",
    "    collection_page_iter = f\"{collection_page}#{str(i+1)}\"\n",
    "    # print(collection_page_iter, \"\\n\")\n",
    "    response = requests.get(f\"{collection_page}#{str(i+1)}\")\n",
    "    if response.status_code == 200:\n",
    "        html_content = response.text\n",
    "        soup = BeautifulSoup(html_content, 'html.parser')\n",
    "        for img in soup.find_all(class_=\"ResponsiveAssetWrapper-gdcDmm eeYyjw\"):\n",
    "            img = img.find('img')\n",
    "            src = img.get('src')\n",
    "            if src is not None and src.endswith('.jpg'):\n",
    "                # print(src)\n",
    "                None\n",
    "        time.sleep(2)  # Esperar un segundo antes de la siguiente solicitud\n",
    "\n",
    "    else:\n",
    "        print(\"Error al obtener la página:\", response.status_code)\n",
    "\n"
   ]
  },
  {
   "cell_type": "code",
   "execution_count": 29,
   "metadata": {},
   "outputs": [
    {
     "name": "stdout",
     "output_type": "stream",
     "text": [
      "https://assets.vogue.com/photos/65ba546a4f005afdef36c860/master/w_2560%2Cc_limit/00003-sara-battaglia-fall-2024-ready-to-wear-credit-brand.jpg\n"
     ]
    }
   ],
   "source": [
    "\n",
    "# Crear una nueva instancia del navegador Chrome\n",
    "page = \"https://www.vogue.com/fashion-shows/fall-2024-ready-to-wear/sara-battaglia/slideshow/collection#3\"\n",
    "\n",
    "# hacer que sea headless\n",
    "\n",
    "\n",
    "driver = webdriver.Chrome()\n",
    "driver.get(page)\n",
    "time.sleep(2)\n",
    "# # Encontrar el elemento con el xpath\n",
    "# img = driver.find_element_by_xpath('//*[@id=\"root\"]/div/div[1]/div[1]/div[2]/div[2]/div/div/div[1]/div/div[1]/div/div/div/div[1]/div/div/div/div/div[1]/div/img')\n",
    "img = driver.find_element('xpath', '//*[@id=\"main-content\"]/div/div[1]/div[2]/div/div/ul/li/div[1]/div/span/picture/img')\n",
    "# # Imprimir el src del elemento\n",
    "print(img.get_attribute('src'))"
   ]
  },
  {
   "cell_type": "code",
   "execution_count": 26,
   "metadata": {},
   "outputs": [
    {
     "ename": "AttributeError",
     "evalue": "'str' object has no attribute 'content'",
     "output_type": "error",
     "traceback": [
      "\u001b[1;31m---------------------------------------------------------------------------\u001b[0m",
      "\u001b[1;31mAttributeError\u001b[0m                            Traceback (most recent call last)",
      "Cell \u001b[1;32mIn[26], line 7\u001b[0m\n\u001b[0;32m      3\u001b[0m \u001b[38;5;28;01mfrom\u001b[39;00m \u001b[38;5;21;01mlxml\u001b[39;00m \u001b[38;5;28;01mimport\u001b[39;00m etree\n\u001b[0;32m      5\u001b[0m page \u001b[38;5;241m=\u001b[39m \u001b[38;5;124m\"\u001b[39m\u001b[38;5;124mhttps://www.vogue.com/fashion-shows/fall-2024-ready-to-wear/sara-battaglia/slideshow/collection#3\u001b[39m\u001b[38;5;124m\"\u001b[39m\n\u001b[1;32m----> 7\u001b[0m soup \u001b[38;5;241m=\u001b[39m BeautifulSoup(\u001b[43mpage\u001b[49m\u001b[38;5;241;43m.\u001b[39;49m\u001b[43mcontent\u001b[49m, \u001b[38;5;124m'\u001b[39m\u001b[38;5;124mhtml.parser\u001b[39m\u001b[38;5;124m'\u001b[39m)\n\u001b[0;32m      8\u001b[0m body \u001b[38;5;241m=\u001b[39m soup\u001b[38;5;241m.\u001b[39mfind(\u001b[38;5;124m\"\u001b[39m\u001b[38;5;124mbody\u001b[39m\u001b[38;5;124m\"\u001b[39m)\n\u001b[0;32m     10\u001b[0m dom \u001b[38;5;241m=\u001b[39m etree\u001b[38;5;241m.\u001b[39mHTML(\u001b[38;5;28mstr\u001b[39m(body)) \u001b[38;5;66;03m# Parse the HTML content of the page\u001b[39;00m\n",
      "\u001b[1;31mAttributeError\u001b[0m: 'str' object has no attribute 'content'"
     ]
    }
   ],
   "source": [
    "import requests\n",
    "from bs4 import BeautifulSoup\n",
    "from lxml import etree\n",
    "\n",
    "page = \"https://www.vogue.com/fashion-shows/fall-2024-ready-to-wear/sara-battaglia/slideshow/collection#3\"\n",
    "\n",
    "soup = BeautifulSoup(page.content, 'html.parser')\n",
    "body = soup.find(\"body\")\n",
    "\n",
    "dom = etree.HTML(str(body)) # Parse the HTML content of the page\n",
    "xpath_str = '//*[@id=\"main-content\"]/div/div[1]/div[2]/div/div/ul/li/div[1]/div/span/picture/img' # The XPath expression for the blog's title\n",
    "print(dom.xpath(xpath_str)[0].text)"
   ]
  },
  {
   "cell_type": "code",
   "execution_count": null,
   "metadata": {},
   "outputs": [],
   "source": []
  }
 ],
 "metadata": {
  "kernelspec": {
   "display_name": "TrendAi_repo-WZqMEwY8",
   "language": "python",
   "name": "python3"
  },
  "language_info": {
   "codemirror_mode": {
    "name": "ipython",
    "version": 3
   },
   "file_extension": ".py",
   "mimetype": "text/x-python",
   "name": "python",
   "nbconvert_exporter": "python",
   "pygments_lexer": "ipython3",
   "version": "3.10.11"
  }
 },
 "nbformat": 4,
 "nbformat_minor": 2
}
