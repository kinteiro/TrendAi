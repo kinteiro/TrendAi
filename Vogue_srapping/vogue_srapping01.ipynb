{
 "cells": [
  {
   "cell_type": "markdown",
   "metadata": {},
   "source": [
    "    Imports"
   ]
  },
  {
   "cell_type": "code",
   "execution_count": 204,
   "metadata": {},
   "outputs": [],
   "source": [
    "import requests\n",
    "from bs4 import BeautifulSoup\n",
    "import pandas as pd"
   ]
  },
  {
   "cell_type": "markdown",
   "metadata": {},
   "source": [
    "    Main page"
   ]
  },
  {
   "cell_type": "code",
   "execution_count": 205,
   "metadata": {},
   "outputs": [
    {
     "name": "stdout",
     "output_type": "stream",
     "text": [
      "Pagina obtenida. \n",
      "head de la página: \n",
      "<!DOCTYPE html><html lang=\"en-\n"
     ]
    }
   ],
   "source": [
    "url = 'https://www.vogue.com/fashion-shows/latest-shows'\n",
    "response = requests.get(url)\n",
    "\n",
    "# Verificar si la solicitud fue exitosa (código de estado 200)\n",
    "if response.status_code == 200:\n",
    "    # Contenido HTML de la página web\n",
    "    html_content = response.text\n",
    "    print(f\"Pagina obtenida. \\nhead de la página: \\n{html_content[:30]}\")\n",
    "else:\n",
    "    print(\"Error al obtener la página:\", response.status_code)\n",
    "    \n",
    "# Crear un objeto BeautifulSoup\n",
    "soup = BeautifulSoup(html_content, 'html.parser')"
   ]
  },
  {
   "cell_type": "markdown",
   "metadata": {},
   "source": [
    "    Encontrar pagina de los diseñadores (parte dict y imagenes WIP)"
   ]
  },
  {
   "cell_type": "code",
   "execution_count": 210,
   "metadata": {},
   "outputs": [
    {
     "name": "stdout",
     "output_type": "stream",
     "text": [
      "Descargando enlace: https://www.vogue.com/fashion-shows/copenhagen-fall-2024/sunflower\n",
      "Descargando enlace: https://www.vogue.com/fashion-shows/copenhagen-fall-2024/soulland\n",
      "Descargando enlace: https://www.vogue.com/fashion-shows/copenhagen-fall-2024/helmstedt\n",
      "Descargando enlace: https://www.vogue.com/fashion-shows/copenhagen-fall-2024/caro-editions\n",
      "Descargando enlace: https://www.vogue.com/fashion-shows/copenhagen-fall-2024/mark-kenly-domino-tan\n",
      "Descargando enlace: https://www.vogue.com/fashion-shows/copenhagen-fall-2024/paolina-russo\n",
      "Descargando enlace: https://www.vogue.com/fashion-shows/copenhagen-fall-2024/baum-und-pferdgarten\n",
      "Descargando enlace: https://www.vogue.com/fashion-shows/copenhagen-fall-2024/henrik-vibskov\n",
      "Descargando enlace: https://www.vogue.com/fashion-shows/copenhagen-fall-2024/stine-goya\n",
      "Descargando enlace: https://www.vogue.com/fashion-shows/copenhagen-fall-2024/mfpen\n",
      "Descargando enlace: https://www.vogue.com/fashion-shows/copenhagen-fall-2024/the-garment\n",
      "Descargando enlace: https://www.vogue.com/fashion-shows/copenhagen-fall-2024/skall-studio\n",
      "Descargando enlace: https://www.vogue.com/fashion-shows/copenhagen-fall-2024/stamm\n",
      "Descargando enlace: https://www.vogue.com/fashion-shows/copenhagen-fall-2024/rolf-ekroth\n",
      "Descargando enlace: https://www.vogue.com/fashion-shows/copenhagen-fall-2024/ganni\n",
      "Descargando enlace: https://www.vogue.com/fashion-shows/copenhagen-fall-2024/saks-potts\n",
      "Descargando enlace: https://www.vogue.com/fashion-shows/fall-2024-ready-to-wear/sara-battaglia\n",
      "Descargando enlace: https://www.vogue.com/fashion-shows/fall-2024-ready-to-wear/moncler-grenoble\n",
      "Descargando enlace: https://www.vogue.com/fashion-shows/spring-2024-menswear/kith\n",
      "Descargando enlace: https://www.vogue.com/fashion-shows/spring-2024-menswear/oamc\n",
      "Descargando enlace: https://www.vogue.com/fashion-shows/pre-fall-2024/mugler\n",
      "Descargando enlace: https://www.vogue.com/fashion-shows/pre-fall-2024/philipp-plein\n",
      "Descargando enlace: https://www.vogue.com/fashion-shows/pre-fall-2024/undercover\n",
      "Descargando enlace: https://www.vogue.com/fashion-shows/spring-2024-ready-to-wear/marc-jacobs\n",
      "Descargando enlace: https://www.vogue.com/fashion-shows/spring-2024-ready-to-wear/hm\n",
      "Descargando enlace: https://www.vogue.com/fashion-shows/tokyo-fall-2024/stein\n",
      "Descargando enlace: https://www.vogue.com/fashion-shows/tokyo-fall-2024/rainmaker\n",
      "Descargando enlace: https://www.vogue.com/fashion-shows/fall-2024-menswear/b-umit-benan\n",
      "Descargando enlace: https://www.vogue.com/fashion-shows/fall-2024-menswear/engineered-garments\n",
      "Descargando enlace: https://www.vogue.com/fashion-shows/pre-fall-2024-menswear/undercover\n"
     ]
    }
   ],
   "source": [
    "# Encontrar todos los elementos <a> en la página\n",
    "enlaces = soup.find_all('a')\n",
    "year = \"2024\"\n",
    "designer_dict = {}\n",
    "# df = pd.DataFrame(columns=['designer', 'img'])\n",
    "\n",
    "# Imprimir los enlaces encontrados\n",
    "for enlace in enlaces:\n",
    "    # print(f\"Descargando enlace: {enlace.get('href')}\")\n",
    "    enlace = enlace.get('href')\n",
    "    if year in enlace:\n",
    "        designer_page = \"https://www.vogue.com\"+ enlace\n",
    "        print(f\"Descargando enlace: {designer_page}\")\n",
    "        designer_name = enlace.split('/')[-1]\n",
    "        response = requests.get(designer_page)\n",
    "        if response.status_code == 200:\n",
    "            html_content = response.text\n",
    "        #     soup = BeautifulSoup(html_content, 'html.parser')\n",
    "            # print(soup.find_all('img'))\n",
    "            for img in soup.find_all('img'):\n",
    "                if \"SummaryItemSimpleHed\" not in img.get('alt'):\n",
    "                    continue\n",
    "                # print(img.get('src'))\n",
    "                if img.get('src') is not None and img.get('src').endswith('.jpg'):\n",
    "                    if designer_name not in designer_dict:\n",
    "                        designer_dict[designer_name] = [img.get('src')]\n",
    "                    else:\n",
    "                        designer_dict[designer_name].append(img.get('src'))\n",
    "        else:\n",
    "            print(\"Error al obtener la página:\", response.status_code)"
   ]
  },
  {
   "cell_type": "code",
   "execution_count": 84,
   "metadata": {},
   "outputs": [],
   "source": [
    "max_len = max(len(lst) for lst in designer_dict.values())\n",
    "for key in designer_dict:\n",
    "    len_diff = max_len - len(designer_dict[key])\n",
    "    if len_diff > 0:\n",
    "        designer_dict[key] += [None] * len_diff\n",
    "\n",
    "df = pd.DataFrame(designer_dict)"
   ]
  },
  {
   "cell_type": "markdown",
   "metadata": {},
   "source": [
    "    Encontrar página de all pictures en cada diseñador"
   ]
  },
  {
   "cell_type": "code",
   "execution_count": 216,
   "metadata": {},
   "outputs": [],
   "source": [
    "designer_page = \"https://www.vogue.com/fashion-shows/fall-2024-ready-to-wear/sara-battaglia\"\n",
    "\n",
    "response = requests.get(designer_page)\n",
    "if response.status_code == 200:\n",
    "    html_content = response.text\n",
    "    soup = BeautifulSoup(html_content, 'html.parser')\n",
    "    # sacar la pagina de ver las imagenes\n",
    "    boton = soup.find_all(class_=\"RunwayShowPageGalleryCta-fmTQJF FtdcL\")\n",
    "    # sacar el link de la pagina de imagenes\n",
    "    link = boton[0].find('a').get('href')\n",
    "    \n",
    "\n",
    "\n",
    "# print(soup.prettify())\n",
    "# print(soup.find_all('a'))"
   ]
  },
  {
   "cell_type": "code",
   "execution_count": 217,
   "metadata": {},
   "outputs": [
    {
     "data": {
      "text/plain": [
       "'/fashion-shows/fall-2024-ready-to-wear/sara-battaglia/slideshow/collection'"
      ]
     },
     "execution_count": 217,
     "metadata": {},
     "output_type": "execute_result"
    }
   ],
   "source": [
    "link"
   ]
  },
  {
   "cell_type": "markdown",
   "metadata": {},
   "source": [
    "    Encontrar imagenes en allpics (ESTOY ATASCADO)"
   ]
  },
  {
   "cell_type": "code",
   "execution_count": 261,
   "metadata": {},
   "outputs": [
    {
     "name": "stdout",
     "output_type": "stream",
     "text": [
      "https://assets.vogue.com/photos/65ba546ae1fe3c1de6ebc725/master/w_2560%2Cc_limit/00001-sara-battaglia-fall-2024-ready-to-wear-credit-brand.jpg\n",
      "https://assets.vogue.com/photos/65ba546ae1fe3c1de6ebc725/master/w_2560%2Cc_limit/00001-sara-battaglia-fall-2024-ready-to-wear-credit-brand.jpg\n",
      "https://assets.vogue.com/photos/65ba546ae1fe3c1de6ebc725/master/w_2560%2Cc_limit/00001-sara-battaglia-fall-2024-ready-to-wear-credit-brand.jpg\n",
      "https://assets.vogue.com/photos/65ba546ae1fe3c1de6ebc725/master/w_2560%2Cc_limit/00001-sara-battaglia-fall-2024-ready-to-wear-credit-brand.jpg\n",
      "https://assets.vogue.com/photos/65ba546ae1fe3c1de6ebc725/master/w_2560%2Cc_limit/00001-sara-battaglia-fall-2024-ready-to-wear-credit-brand.jpg\n",
      "https://assets.vogue.com/photos/65ba546ae1fe3c1de6ebc725/master/w_2560%2Cc_limit/00001-sara-battaglia-fall-2024-ready-to-wear-credit-brand.jpg\n",
      "https://assets.vogue.com/photos/65ba546ae1fe3c1de6ebc725/master/w_2560%2Cc_limit/00001-sara-battaglia-fall-2024-ready-to-wear-credit-brand.jpg\n",
      "https://assets.vogue.com/photos/65ba546ae1fe3c1de6ebc725/master/w_2560%2Cc_limit/00001-sara-battaglia-fall-2024-ready-to-wear-credit-brand.jpg\n",
      "https://assets.vogue.com/photos/65ba546ae1fe3c1de6ebc725/master/w_2560%2Cc_limit/00001-sara-battaglia-fall-2024-ready-to-wear-credit-brand.jpg\n",
      "https://assets.vogue.com/photos/65ba546ae1fe3c1de6ebc725/master/w_2560%2Cc_limit/00001-sara-battaglia-fall-2024-ready-to-wear-credit-brand.jpg\n"
     ]
    }
   ],
   "source": [
    "collection_page = \"https://www.vogue.com/fashion-shows/fall-2024-ready-to-wear/sara-battaglia/slideshow/collection\"\n",
    "\n",
    "for i in range(10):\n",
    "    collection_page_iter = f\"{collection_page}#{str(i+1)}\"\n",
    "    # print(collection_page_iter)\n",
    "    response = requests.get(f\"{collection_page}#{str(i+1)}\")\n",
    "    if response.status_code == 200:\n",
    "        html_content = response.text\n",
    "        soup = BeautifulSoup(html_content, 'html.parser')\n",
    "        for img in soup.find_all('img'):\n",
    "            if img.get('src') is not None and img.get('src').endswith('.jpg'):\n",
    "                print(img.get('src'))\n",
    "    else:\n",
    "        print(\"Error al obtener la página:\", response.status_code)\n",
    "    \n",
    "\n",
    "    \n",
    "                # print(img.get('src'))\n",
    "        # img_tags = soup.find_all(class_=\"ResponsiveImageContainer-eybHBd fptoWY responsive-image__image\")\n",
    "\n"
   ]
  },
  {
   "cell_type": "code",
   "execution_count": null,
   "metadata": {},
   "outputs": [],
   "source": []
  }
 ],
 "metadata": {
  "kernelspec": {
   "display_name": "TrendAi_repo-WZqMEwY8",
   "language": "python",
   "name": "python3"
  },
  "language_info": {
   "codemirror_mode": {
    "name": "ipython",
    "version": 3
   },
   "file_extension": ".py",
   "mimetype": "text/x-python",
   "name": "python",
   "nbconvert_exporter": "python",
   "pygments_lexer": "ipython3",
   "version": "3.10.13"
  }
 },
 "nbformat": 4,
 "nbformat_minor": 2
}
