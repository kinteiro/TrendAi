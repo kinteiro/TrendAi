{
 "cells": [
  {
   "cell_type": "code",
   "execution_count": 1,
   "metadata": {},
   "outputs": [],
   "source": [
    "import pandas as pd"
   ]
  },
  {
   "cell_type": "code",
   "execution_count": 3,
   "metadata": {},
   "outputs": [],
   "source": [
    "df= pd.read_csv(\"vogue_season_2.csv\")"
   ]
  },
  {
   "cell_type": "code",
   "execution_count": 3,
   "metadata": {},
   "outputs": [],
   "source": [
    "def get_temporada(str):\n",
    "    if \"fall\" in str:\n",
    "        return \"otoño - invierno\"\n",
    "    elif \"spring\" in str:\n",
    "        return \"primavera - verano\"\n",
    "    elif \"summer\" in str:\n",
    "        return \"primavera - verano\"\n",
    "    elif \"winter\" in str:\n",
    "        return \"otoño - invierno\"\n",
    "    else:\n",
    "        return \"otro\"\n"
   ]
  },
  {
   "cell_type": "code",
   "execution_count": 4,
   "metadata": {},
   "outputs": [],
   "source": [
    "# lambda con la busqueda por regex\n",
    "df[\"temporada\"]=df[\"url\"].apply(lambda x: get_temporada(x))"
   ]
  },
  {
   "cell_type": "code",
   "execution_count": 5,
   "metadata": {},
   "outputs": [],
   "source": [
    "df[\"year\"] = 2024"
   ]
  },
  {
   "cell_type": "code",
   "execution_count": 17,
   "metadata": {},
   "outputs": [],
   "source": [
    "from datetime import datetime, timedelta"
   ]
  },
  {
   "cell_type": "code",
   "execution_count": 20,
   "metadata": {},
   "outputs": [],
   "source": [
    "fecha_scrapped = datetime.now()- timedelta(days=1)\n",
    "fecha_scrapped = fecha_scrapped.strftime(\"%Y_%m_%d_%H_%M_%S\") \n"
   ]
  },
  {
   "cell_type": "code",
   "execution_count": 41,
   "metadata": {},
   "outputs": [],
   "source": [
    "df[\"fecha_scrapped\"] = fecha_scrapped"
   ]
  },
  {
   "cell_type": "code",
   "execution_count": 47,
   "metadata": {},
   "outputs": [],
   "source": [
    "df2 = pd.read_csv(\"2024_02_09_14_02_19_vogue_scrapped.csv\")"
   ]
  },
  {
   "cell_type": "code",
   "execution_count": 48,
   "metadata": {},
   "outputs": [
    {
     "data": {
      "text/html": [
       "<div>\n",
       "<style scoped>\n",
       "    .dataframe tbody tr th:only-of-type {\n",
       "        vertical-align: middle;\n",
       "    }\n",
       "\n",
       "    .dataframe tbody tr th {\n",
       "        vertical-align: top;\n",
       "    }\n",
       "\n",
       "    .dataframe thead th {\n",
       "        text-align: right;\n",
       "    }\n",
       "</style>\n",
       "<table border=\"1\" class=\"dataframe\">\n",
       "  <thead>\n",
       "    <tr style=\"text-align: right;\">\n",
       "      <th></th>\n",
       "      <th>designer</th>\n",
       "      <th>url</th>\n",
       "      <th>temporada</th>\n",
       "      <th>year</th>\n",
       "      <th>fecha_scrapped</th>\n",
       "    </tr>\n",
       "  </thead>\n",
       "  <tbody>\n",
       "    <tr>\n",
       "      <th>0</th>\n",
       "      <td>rag-bone</td>\n",
       "      <td>https://assets.vogue.com/photos/65c249a236b4e0...</td>\n",
       "      <td>otoño - invierno</td>\n",
       "      <td>2024</td>\n",
       "      <td>2024_02_08_16_26_16</td>\n",
       "    </tr>\n",
       "    <tr>\n",
       "      <th>1</th>\n",
       "      <td>rag-bone</td>\n",
       "      <td>https://assets.vogue.com/photos/65c249a00140a4...</td>\n",
       "      <td>otoño - invierno</td>\n",
       "      <td>2024</td>\n",
       "      <td>2024_02_08_16_26_16</td>\n",
       "    </tr>\n",
       "    <tr>\n",
       "      <th>2</th>\n",
       "      <td>rag-bone</td>\n",
       "      <td>https://assets.vogue.com/photos/65c249a4ecd623...</td>\n",
       "      <td>otoño - invierno</td>\n",
       "      <td>2024</td>\n",
       "      <td>2024_02_08_16_26_16</td>\n",
       "    </tr>\n",
       "    <tr>\n",
       "      <th>3</th>\n",
       "      <td>rag-bone</td>\n",
       "      <td>https://assets.vogue.com/photos/65c249a9d9c257...</td>\n",
       "      <td>otoño - invierno</td>\n",
       "      <td>2024</td>\n",
       "      <td>2024_02_08_16_26_16</td>\n",
       "    </tr>\n",
       "    <tr>\n",
       "      <th>4</th>\n",
       "      <td>rag-bone</td>\n",
       "      <td>https://assets.vogue.com/photos/65c249a70140a4...</td>\n",
       "      <td>otoño - invierno</td>\n",
       "      <td>2024</td>\n",
       "      <td>2024_02_08_16_26_16</td>\n",
       "    </tr>\n",
       "    <tr>\n",
       "      <th>...</th>\n",
       "      <td>...</td>\n",
       "      <td>...</td>\n",
       "      <td>...</td>\n",
       "      <td>...</td>\n",
       "      <td>...</td>\n",
       "    </tr>\n",
       "    <tr>\n",
       "      <th>1007</th>\n",
       "      <td>marc-jacobs</td>\n",
       "      <td>https://assets.vogue.com/photos/65bdc15e116bcb...</td>\n",
       "      <td>primavera - verano</td>\n",
       "      <td>2024</td>\n",
       "      <td>2024_02_08_16_26_16</td>\n",
       "    </tr>\n",
       "    <tr>\n",
       "      <th>1008</th>\n",
       "      <td>marc-jacobs</td>\n",
       "      <td>https://assets.vogue.com/photos/65bdc15fea0c86...</td>\n",
       "      <td>primavera - verano</td>\n",
       "      <td>2024</td>\n",
       "      <td>2024_02_08_16_26_16</td>\n",
       "    </tr>\n",
       "    <tr>\n",
       "      <th>1009</th>\n",
       "      <td>marc-jacobs</td>\n",
       "      <td>https://assets.vogue.com/photos/65bdc15f65f324...</td>\n",
       "      <td>primavera - verano</td>\n",
       "      <td>2024</td>\n",
       "      <td>2024_02_08_16_26_16</td>\n",
       "    </tr>\n",
       "    <tr>\n",
       "      <th>1010</th>\n",
       "      <td>marc-jacobs</td>\n",
       "      <td>https://assets.vogue.com/photos/65bdc160fe1dd5...</td>\n",
       "      <td>primavera - verano</td>\n",
       "      <td>2024</td>\n",
       "      <td>2024_02_08_16_26_16</td>\n",
       "    </tr>\n",
       "    <tr>\n",
       "      <th>1011</th>\n",
       "      <td>marc-jacobs</td>\n",
       "      <td>https://assets.vogue.com/photos/65bdc160fe1dd5...</td>\n",
       "      <td>primavera - verano</td>\n",
       "      <td>2024</td>\n",
       "      <td>2024_02_08_16_26_16</td>\n",
       "    </tr>\n",
       "  </tbody>\n",
       "</table>\n",
       "<p>1012 rows × 5 columns</p>\n",
       "</div>"
      ],
      "text/plain": [
       "         designer                                                url  \\\n",
       "0        rag-bone  https://assets.vogue.com/photos/65c249a236b4e0...   \n",
       "1        rag-bone  https://assets.vogue.com/photos/65c249a00140a4...   \n",
       "2        rag-bone  https://assets.vogue.com/photos/65c249a4ecd623...   \n",
       "3        rag-bone  https://assets.vogue.com/photos/65c249a9d9c257...   \n",
       "4        rag-bone  https://assets.vogue.com/photos/65c249a70140a4...   \n",
       "...           ...                                                ...   \n",
       "1007  marc-jacobs  https://assets.vogue.com/photos/65bdc15e116bcb...   \n",
       "1008  marc-jacobs  https://assets.vogue.com/photos/65bdc15fea0c86...   \n",
       "1009  marc-jacobs  https://assets.vogue.com/photos/65bdc15f65f324...   \n",
       "1010  marc-jacobs  https://assets.vogue.com/photos/65bdc160fe1dd5...   \n",
       "1011  marc-jacobs  https://assets.vogue.com/photos/65bdc160fe1dd5...   \n",
       "\n",
       "               temporada  year       fecha_scrapped  \n",
       "0       otoño - invierno  2024  2024_02_08_16_26_16  \n",
       "1       otoño - invierno  2024  2024_02_08_16_26_16  \n",
       "2       otoño - invierno  2024  2024_02_08_16_26_16  \n",
       "3       otoño - invierno  2024  2024_02_08_16_26_16  \n",
       "4       otoño - invierno  2024  2024_02_08_16_26_16  \n",
       "...                  ...   ...                  ...  \n",
       "1007  primavera - verano  2024  2024_02_08_16_26_16  \n",
       "1008  primavera - verano  2024  2024_02_08_16_26_16  \n",
       "1009  primavera - verano  2024  2024_02_08_16_26_16  \n",
       "1010  primavera - verano  2024  2024_02_08_16_26_16  \n",
       "1011  primavera - verano  2024  2024_02_08_16_26_16  \n",
       "\n",
       "[1012 rows x 5 columns]"
      ]
     },
     "execution_count": 48,
     "metadata": {},
     "output_type": "execute_result"
    }
   ],
   "source": [
    "df"
   ]
  },
  {
   "cell_type": "code",
   "execution_count": 49,
   "metadata": {},
   "outputs": [],
   "source": [
    "#  rename year column to lowercase\n",
    "df2.rename(columns={\"Year\": \"year\"}, inplace=True)"
   ]
  },
  {
   "cell_type": "code",
   "execution_count": 53,
   "metadata": {},
   "outputs": [],
   "source": [
    "df3[\"fuente\"] = \"vogue\""
   ]
  },
  {
   "cell_type": "code",
   "execution_count": 51,
   "metadata": {},
   "outputs": [],
   "source": [
    "df3 = pd.concat([df, df2], ignore_index=True)"
   ]
  },
  {
   "cell_type": "code",
   "execution_count": null,
   "metadata": {},
   "outputs": [],
   "source": []
  }
 ],
 "metadata": {
  "kernelspec": {
   "display_name": "TrendAi_repo-WZqMEwY8",
   "language": "python",
   "name": "python3"
  },
  "language_info": {
   "codemirror_mode": {
    "name": "ipython",
    "version": 3
   },
   "file_extension": ".py",
   "mimetype": "text/x-python",
   "name": "python",
   "nbconvert_exporter": "python",
   "pygments_lexer": "ipython3",
   "version": "3.10.13"
  }
 },
 "nbformat": 4,
 "nbformat_minor": 2
}
