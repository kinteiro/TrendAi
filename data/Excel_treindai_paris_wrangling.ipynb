{
 "cells": [
  {
   "cell_type": "code",
   "execution_count": 102,
   "metadata": {},
   "outputs": [],
   "source": [
    "import pandas as pd\n",
    "from datetime import datetime"
   ]
  },
  {
   "cell_type": "code",
   "execution_count": 87,
   "metadata": {},
   "outputs": [],
   "source": [
    "df = pd.read_excel(\"TRENDAI_PARIS_2024.xlsx\")"
   ]
  },
  {
   "cell_type": "code",
   "execution_count": 88,
   "metadata": {},
   "outputs": [
    {
     "data": {
      "text/plain": [
       "Index(['PASARELA', 'DISEÑADOR', 'TEMPORADA', 'IMAGEN', 'Tipo', 'dia'], dtype='object')"
      ]
     },
     "execution_count": 88,
     "metadata": {},
     "output_type": "execute_result"
    }
   ],
   "source": [
    "df.columns"
   ]
  },
  {
   "cell_type": "code",
   "execution_count": 89,
   "metadata": {},
   "outputs": [],
   "source": [
    "df = df.rename(columns={\"DISEÑADOR\": \"designer\", \"TEMPORADA\": \"temporada\", \"IMAGEN\": \"url\", \"PASARELA\": \"city\"})"
   ]
  },
  {
   "cell_type": "code",
   "execution_count": 90,
   "metadata": {},
   "outputs": [],
   "source": [
    "for i in df.columns:\n",
    "    df.columns = df.columns.str.lower()"
   ]
  },
  {
   "cell_type": "code",
   "execution_count": 91,
   "metadata": {},
   "outputs": [],
   "source": [
    "df[\"year\"]  = 2024"
   ]
  },
  {
   "cell_type": "code",
   "execution_count": 92,
   "metadata": {},
   "outputs": [],
   "source": [
    "df.drop(axis=1, columns=[\"dia\"], inplace=True)"
   ]
  },
  {
   "cell_type": "code",
   "execution_count": 93,
   "metadata": {},
   "outputs": [],
   "source": [
    "def temporada_to_year(temporada):\n",
    "    for i in range(2020,2030):\n",
    "        if str(i) in temporada:\n",
    "            return i\n",
    "        else:\n",
    "            continue"
   ]
  },
  {
   "cell_type": "code",
   "execution_count": 94,
   "metadata": {},
   "outputs": [],
   "source": [
    "df[\"year\"] = df[\"temporada\"].apply(temporada_to_year)"
   ]
  },
  {
   "cell_type": "code",
   "execution_count": 95,
   "metadata": {},
   "outputs": [],
   "source": [
    "df[\"temporada\"] = df[\"temporada\"].str.replace(\"2024\", \"\").str.replace(\"2023\", \"\").str.replace(\"2025\", \"\").str.replace(\"2026\", \"\").str.strip()"
   ]
  },
  {
   "cell_type": "code",
   "execution_count": 96,
   "metadata": {},
   "outputs": [
    {
     "data": {
      "text/plain": [
       "year\n",
       "2024    1499\n",
       "2025       1\n",
       "2026       1\n",
       "Name: count, dtype: int64"
      ]
     },
     "execution_count": 96,
     "metadata": {},
     "output_type": "execute_result"
    }
   ],
   "source": [
    "df.year.value_counts()"
   ]
  },
  {
   "cell_type": "code",
   "execution_count": 97,
   "metadata": {},
   "outputs": [
    {
     "data": {
      "text/html": [
       "<div>\n",
       "<style scoped>\n",
       "    .dataframe tbody tr th:only-of-type {\n",
       "        vertical-align: middle;\n",
       "    }\n",
       "\n",
       "    .dataframe tbody tr th {\n",
       "        vertical-align: top;\n",
       "    }\n",
       "\n",
       "    .dataframe thead th {\n",
       "        text-align: right;\n",
       "    }\n",
       "</style>\n",
       "<table border=\"1\" class=\"dataframe\">\n",
       "  <thead>\n",
       "    <tr style=\"text-align: right;\">\n",
       "      <th></th>\n",
       "      <th>city</th>\n",
       "      <th>designer</th>\n",
       "      <th>temporada</th>\n",
       "      <th>url</th>\n",
       "      <th>tipo</th>\n",
       "      <th>year</th>\n",
       "    </tr>\n",
       "  </thead>\n",
       "  <tbody>\n",
       "    <tr>\n",
       "      <th>849</th>\n",
       "      <td>París</td>\n",
       "      <td>Aelis</td>\n",
       "      <td>Primavera-verano</td>\n",
       "      <td>https://media.fashionnetwork.com/cdn-cgi/image...</td>\n",
       "      <td>Alta costura</td>\n",
       "      <td>2025</td>\n",
       "    </tr>\n",
       "    <tr>\n",
       "      <th>850</th>\n",
       "      <td>París</td>\n",
       "      <td>Aelis</td>\n",
       "      <td>Primavera-verano</td>\n",
       "      <td>https://media.fashionnetwork.com/cdn-cgi/image...</td>\n",
       "      <td>Alta costura</td>\n",
       "      <td>2026</td>\n",
       "    </tr>\n",
       "  </tbody>\n",
       "</table>\n",
       "</div>"
      ],
      "text/plain": [
       "      city designer         temporada  \\\n",
       "849  París    Aelis  Primavera-verano   \n",
       "850  París    Aelis  Primavera-verano   \n",
       "\n",
       "                                                   url          tipo  year  \n",
       "849  https://media.fashionnetwork.com/cdn-cgi/image...  Alta costura  2025  \n",
       "850  https://media.fashionnetwork.com/cdn-cgi/image...  Alta costura  2026  "
      ]
     },
     "execution_count": 97,
     "metadata": {},
     "output_type": "execute_result"
    }
   ],
   "source": [
    "# outlier en años\n",
    "df[df[\"year\"] != 2024]"
   ]
  },
  {
   "cell_type": "code",
   "execution_count": 98,
   "metadata": {},
   "outputs": [
    {
     "name": "stdout",
     "output_type": "stream",
     "text": [
      "https://nowfashion.com/imane-ayissi-couture-spring-summer-2024-paris/imane-ayissi-fashion-show-runway-couture-spring-summer-2024-paris-fashion-week-runway-look-01/\n",
      "https://nowfashion.com/imane-ayissi-couture-spring-summer-2024-paris/imane-ayissi-fashion-show-runway-couture-spring-summer-2024-paris-fashion-week-runway-look-02/\n",
      "https://nowfashion.com/imane-ayissi-couture-spring-summer-2024-paris/imane-ayissi-fashion-show-runway-couture-spring-summer-2024-paris-fashion-week-runway-look-03/\n",
      "https://nowfashion.com/imane-ayissi-couture-spring-summer-2024-paris/imane-ayissi-fashion-show-runway-couture-spring-summer-2024-paris-fashion-week-runway-look-04/\n",
      "https://nowfashion.com/imane-ayissi-couture-spring-summer-2024-paris/imane-ayissi-fashion-show-runway-couture-spring-summer-2024-paris-fashion-week-runway-look-05/\n",
      "https://nowfashion.com/imane-ayissi-couture-spring-summer-2024-paris/imane-ayissi-fashion-show-runway-couture-spring-summer-2024-paris-fashion-week-runway-look-06/\n",
      "https://nowfashion.com/imane-ayissi-couture-spring-summer-2024-paris/imane-ayissi-fashion-show-runway-couture-spring-summer-2024-paris-fashion-week-runway-look-07/\n",
      "https://nowfashion.com/imane-ayissi-couture-spring-summer-2024-paris/imane-ayissi-fashion-show-runway-couture-spring-summer-2024-paris-fashion-week-runway-look-08/\n",
      "https://nowfashion.com/imane-ayissi-couture-spring-summer-2024-paris/imane-ayissi-fashion-show-runway-couture-spring-summer-2024-paris-fashion-week-runway-look-09/\n",
      "https://nowfashion.com/imane-ayissi-couture-spring-summer-2024-paris/imane-ayissi-fashion-show-runway-couture-spring-summer-2024-paris-fashion-week-runway-look-10/\n",
      "https://nowfashion.com/imane-ayissi-couture-spring-summer-2024-paris/imane-ayissi-fashion-show-runway-couture-spring-summer-2024-paris-fashion-week-runway-look-11/\n",
      "https://nowfashion.com/imane-ayissi-couture-spring-summer-2024-paris/imane-ayissi-fashion-show-runway-couture-spring-summer-2024-paris-fashion-week-runway-look-12/\n",
      "https://nowfashion.com/imane-ayissi-couture-spring-summer-2024-paris/imane-ayissi-fashion-show-runway-couture-spring-summer-2024-paris-fashion-week-runway-look-13/\n",
      "https://nowfashion.com/imane-ayissi-couture-spring-summer-2024-paris/imane-ayissi-fashion-show-runway-couture-spring-summer-2024-paris-fashion-week-runway-look-14/\n",
      "https://nowfashion.com/imane-ayissi-couture-spring-summer-2024-paris/imane-ayissi-fashion-show-runway-couture-spring-summer-2024-paris-fashion-week-runway-look-15/\n",
      "https://nowfashion.com/imane-ayissi-couture-spring-summer-2024-paris/imane-ayissi-fashion-show-runway-couture-spring-summer-2024-paris-fashion-week-runway-look-16/\n",
      "https://nowfashion.com/imane-ayissi-couture-spring-summer-2024-paris/imane-ayissi-fashion-show-runway-couture-spring-summer-2024-paris-fashion-week-runway-look-17/\n",
      "https://nowfashion.com/imane-ayissi-couture-spring-summer-2024-paris/imane-ayissi-fashion-show-runway-couture-spring-summer-2024-paris-fashion-week-runway-look-18/\n",
      "https://nowfashion.com/imane-ayissi-couture-spring-summer-2024-paris/imane-ayissi-fashion-show-runway-couture-spring-summer-2024-paris-fashion-week-runway-look-19/\n",
      "https://nowfashion.com/imane-ayissi-couture-spring-summer-2024-paris/imane-ayissi-fashion-show-runway-couture-spring-summer-2024-paris-fashion-week-runway-look-20/\n",
      "https://nowfashion.com/imane-ayissi-couture-spring-summer-2024-paris/imane-ayissi-fashion-show-runway-couture-spring-summer-2024-paris-fashion-week-runway-look-21/\n",
      "https://nowfashion.com/imane-ayissi-couture-spring-summer-2024-paris/imane-ayissi-fashion-show-runway-couture-spring-summer-2024-paris-fashion-week-runway-look-22/\n",
      "https://nowfashion.com/imane-ayissi-couture-spring-summer-2024-paris/imane-ayissi-fashion-show-runway-couture-spring-summer-2024-paris-fashion-week-runway-look-23/\n",
      "https://nowfashion.com/imane-ayissi-couture-spring-summer-2024-paris/imane-ayissi-fashion-show-runway-couture-spring-summer-2024-paris-fashion-week-runway-look-24/\n",
      "https://nowfashion.com/imane-ayissi-couture-spring-summer-2024-paris/imane-ayissi-fashion-show-runway-couture-spring-summer-2024-paris-fashion-week-runway-look-25/\n",
      "https://media.fashionnetwork.com/cdn-cgi/image/fit=cover,width=320,height=480/m/b7ae/545e/667e/db39/0d2f/6820/9983/0756/968b/699f/699f.jpgç\n",
      "https://media.fashionnetwork.com/cdn-cgi/image/fit=cover\n"
     ]
    }
   ],
   "source": [
    "# urls defectuosas\n",
    "for i in df[~df[\"url\"].str.endswith(\"jpg\")][\"url\"]:\n",
    "    print(i)"
   ]
  },
  {
   "cell_type": "code",
   "execution_count": 99,
   "metadata": {},
   "outputs": [],
   "source": [
    "df = df[df[\"url\"].str.endswith(\"jpg\")]"
   ]
  },
  {
   "cell_type": "code",
   "execution_count": 100,
   "metadata": {},
   "outputs": [],
   "source": [
    "df = df.groupby([\"designer\"]).head(7)"
   ]
  },
  {
   "cell_type": "code",
   "execution_count": 101,
   "metadata": {},
   "outputs": [
    {
     "data": {
      "text/html": [
       "<div>\n",
       "<style scoped>\n",
       "    .dataframe tbody tr th:only-of-type {\n",
       "        vertical-align: middle;\n",
       "    }\n",
       "\n",
       "    .dataframe tbody tr th {\n",
       "        vertical-align: top;\n",
       "    }\n",
       "\n",
       "    .dataframe thead th {\n",
       "        text-align: right;\n",
       "    }\n",
       "</style>\n",
       "<table border=\"1\" class=\"dataframe\">\n",
       "  <thead>\n",
       "    <tr style=\"text-align: right;\">\n",
       "      <th></th>\n",
       "      <th>city</th>\n",
       "      <th>designer</th>\n",
       "      <th>temporada</th>\n",
       "      <th>url</th>\n",
       "      <th>tipo</th>\n",
       "      <th>year</th>\n",
       "    </tr>\n",
       "  </thead>\n",
       "  <tbody>\n",
       "    <tr>\n",
       "      <th>0</th>\n",
       "      <td>París</td>\n",
       "      <td>Schiaparelli</td>\n",
       "      <td>Primavera-verano</td>\n",
       "      <td>https://assets.vogue.com/photos/65ae6a2187f518...</td>\n",
       "      <td>Alta costura</td>\n",
       "      <td>2024</td>\n",
       "    </tr>\n",
       "    <tr>\n",
       "      <th>1</th>\n",
       "      <td>París</td>\n",
       "      <td>Schiaparelli</td>\n",
       "      <td>Primavera-verano</td>\n",
       "      <td>https://assets.vogue.com/photos/65ae6a2244a40d...</td>\n",
       "      <td>Alta costura</td>\n",
       "      <td>2024</td>\n",
       "    </tr>\n",
       "    <tr>\n",
       "      <th>2</th>\n",
       "      <td>París</td>\n",
       "      <td>Schiaparelli</td>\n",
       "      <td>Primavera-verano</td>\n",
       "      <td>https://assets.vogue.com/photos/65ae6a21c16556...</td>\n",
       "      <td>Alta costura</td>\n",
       "      <td>2024</td>\n",
       "    </tr>\n",
       "    <tr>\n",
       "      <th>3</th>\n",
       "      <td>París</td>\n",
       "      <td>Schiaparelli</td>\n",
       "      <td>Primavera-verano</td>\n",
       "      <td>https://assets.vogue.com/photos/65ae6a25ec8030...</td>\n",
       "      <td>Alta costura</td>\n",
       "      <td>2024</td>\n",
       "    </tr>\n",
       "    <tr>\n",
       "      <th>4</th>\n",
       "      <td>París</td>\n",
       "      <td>Schiaparelli</td>\n",
       "      <td>Primavera-verano</td>\n",
       "      <td>https://assets.vogue.com/photos/65ae6a25c23c4e...</td>\n",
       "      <td>Alta costura</td>\n",
       "      <td>2024</td>\n",
       "    </tr>\n",
       "    <tr>\n",
       "      <th>...</th>\n",
       "      <td>...</td>\n",
       "      <td>...</td>\n",
       "      <td>...</td>\n",
       "      <td>...</td>\n",
       "      <td>...</td>\n",
       "      <td>...</td>\n",
       "    </tr>\n",
       "    <tr>\n",
       "      <th>1374</th>\n",
       "      <td>París</td>\n",
       "      <td>Valentino</td>\n",
       "      <td>Primavera-verano</td>\n",
       "      <td>https://media.fashionnetwork.com/cdn-cgi/image...</td>\n",
       "      <td>Alta costura</td>\n",
       "      <td>2024</td>\n",
       "    </tr>\n",
       "    <tr>\n",
       "      <th>1375</th>\n",
       "      <td>París</td>\n",
       "      <td>Valentino</td>\n",
       "      <td>Primavera-verano</td>\n",
       "      <td>https://media.fashionnetwork.com/cdn-cgi/image...</td>\n",
       "      <td>Alta costura</td>\n",
       "      <td>2024</td>\n",
       "    </tr>\n",
       "    <tr>\n",
       "      <th>1376</th>\n",
       "      <td>París</td>\n",
       "      <td>Valentino</td>\n",
       "      <td>Primavera-verano</td>\n",
       "      <td>https://media.fashionnetwork.com/cdn-cgi/image...</td>\n",
       "      <td>Alta costura</td>\n",
       "      <td>2024</td>\n",
       "    </tr>\n",
       "    <tr>\n",
       "      <th>1377</th>\n",
       "      <td>París</td>\n",
       "      <td>Valentino</td>\n",
       "      <td>Primavera-verano</td>\n",
       "      <td>https://media.fashionnetwork.com/cdn-cgi/image...</td>\n",
       "      <td>Alta costura</td>\n",
       "      <td>2024</td>\n",
       "    </tr>\n",
       "    <tr>\n",
       "      <th>1378</th>\n",
       "      <td>París</td>\n",
       "      <td>Valentino</td>\n",
       "      <td>Primavera-verano</td>\n",
       "      <td>https://media.fashionnetwork.com/cdn-cgi/image...</td>\n",
       "      <td>Alta costura</td>\n",
       "      <td>2024</td>\n",
       "    </tr>\n",
       "  </tbody>\n",
       "</table>\n",
       "<p>203 rows × 6 columns</p>\n",
       "</div>"
      ],
      "text/plain": [
       "       city      designer         temporada  \\\n",
       "0     París  Schiaparelli  Primavera-verano   \n",
       "1     París  Schiaparelli  Primavera-verano   \n",
       "2     París  Schiaparelli  Primavera-verano   \n",
       "3     París  Schiaparelli  Primavera-verano   \n",
       "4     París  Schiaparelli  Primavera-verano   \n",
       "...     ...           ...               ...   \n",
       "1374  París     Valentino  Primavera-verano   \n",
       "1375  París     Valentino  Primavera-verano   \n",
       "1376  París     Valentino  Primavera-verano   \n",
       "1377  París     Valentino  Primavera-verano   \n",
       "1378  París     Valentino  Primavera-verano   \n",
       "\n",
       "                                                    url          tipo  year  \n",
       "0     https://assets.vogue.com/photos/65ae6a2187f518...  Alta costura  2024  \n",
       "1     https://assets.vogue.com/photos/65ae6a2244a40d...  Alta costura  2024  \n",
       "2     https://assets.vogue.com/photos/65ae6a21c16556...  Alta costura  2024  \n",
       "3     https://assets.vogue.com/photos/65ae6a25ec8030...  Alta costura  2024  \n",
       "4     https://assets.vogue.com/photos/65ae6a25c23c4e...  Alta costura  2024  \n",
       "...                                                 ...           ...   ...  \n",
       "1374  https://media.fashionnetwork.com/cdn-cgi/image...  Alta costura  2024  \n",
       "1375  https://media.fashionnetwork.com/cdn-cgi/image...  Alta costura  2024  \n",
       "1376  https://media.fashionnetwork.com/cdn-cgi/image...  Alta costura  2024  \n",
       "1377  https://media.fashionnetwork.com/cdn-cgi/image...  Alta costura  2024  \n",
       "1378  https://media.fashionnetwork.com/cdn-cgi/image...  Alta costura  2024  \n",
       "\n",
       "[203 rows x 6 columns]"
      ]
     },
     "execution_count": 101,
     "metadata": {},
     "output_type": "execute_result"
    }
   ],
   "source": [
    "df"
   ]
  },
  {
   "cell_type": "code",
   "execution_count": 106,
   "metadata": {},
   "outputs": [],
   "source": [
    "date = datetime.now().strftime(\"%Y_%m_%d\")  "
   ]
  },
  {
   "cell_type": "code",
   "execution_count": 108,
   "metadata": {},
   "outputs": [],
   "source": [
    "# exportar el df a un archivo csv en chunks de 50\n",
    "for i in range(0, len(df), 50):\n",
    "    df.iloc[i:i+50].to_csv(f\"trendai_paris_{date}_reduced_{i}.csv\", index=False)"
   ]
  }
 ],
 "metadata": {
  "kernelspec": {
   "display_name": "TrendAi_repo-WZqMEwY8",
   "language": "python",
   "name": "python3"
  },
  "language_info": {
   "codemirror_mode": {
    "name": "ipython",
    "version": 3
   },
   "file_extension": ".py",
   "mimetype": "text/x-python",
   "name": "python",
   "nbconvert_exporter": "python",
   "pygments_lexer": "ipython3",
   "version": "3.10.13"
  }
 },
 "nbformat": 4,
 "nbformat_minor": 2
}
