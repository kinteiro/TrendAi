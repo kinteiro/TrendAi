{
 "cells": [
  {
   "cell_type": "code",
   "execution_count": 1,
   "metadata": {},
   "outputs": [],
   "source": [
    "import pandas as pd"
   ]
  },
  {
   "cell_type": "code",
   "execution_count": 2,
   "metadata": {},
   "outputs": [],
   "source": [
    "df = pd.read_excel(\"TRENDAI_PARIS_2024.xlsx\")"
   ]
  },
  {
   "cell_type": "code",
   "execution_count": 3,
   "metadata": {},
   "outputs": [
    {
     "data": {
      "text/plain": [
       "Index(['PASARELA', 'DISEÑADOR', 'TEMPORADA', 'IMAGEN', 'Tipo', 'dia'], dtype='object')"
      ]
     },
     "execution_count": 3,
     "metadata": {},
     "output_type": "execute_result"
    }
   ],
   "source": [
    "df.columns"
   ]
  },
  {
   "cell_type": "code",
   "execution_count": 4,
   "metadata": {},
   "outputs": [],
   "source": [
    "df = df.rename(columns={\"DISEÑADOR\": \"designer\", \"TEMPORADA\": \"temporada\", \"IMAGEN\": \"url\"})"
   ]
  },
  {
   "cell_type": "code",
   "execution_count": 5,
   "metadata": {},
   "outputs": [],
   "source": [
    "for i in df.columns:\n",
    "    df.columns = df.columns.str.lower()"
   ]
  },
  {
   "cell_type": "code",
   "execution_count": 6,
   "metadata": {},
   "outputs": [],
   "source": [
    "# df[\"year\"]  = 2024"
   ]
  },
  {
   "cell_type": "code",
   "execution_count": 7,
   "metadata": {},
   "outputs": [],
   "source": [
    "df.drop(axis=1, columns=[\"dia\"], inplace=True)"
   ]
  },
  {
   "cell_type": "code",
   "execution_count": 8,
   "metadata": {},
   "outputs": [],
   "source": [
    "def temporada_to_year(temporada):\n",
    "    for i in range(2020,2030):\n",
    "        if str(i) in temporada:\n",
    "            return i\n",
    "        else:\n",
    "            continue"
   ]
  },
  {
   "cell_type": "code",
   "execution_count": 9,
   "metadata": {},
   "outputs": [],
   "source": [
    "df[\"year\"] = df[\"temporada\"].apply(temporada_to_year)"
   ]
  },
  {
   "cell_type": "code",
   "execution_count": 10,
   "metadata": {},
   "outputs": [],
   "source": [
    "df[\"temporada\"] = df[\"temporada\"].str.replace(\"2024\", \"\").str.replace(\"2023\", \"\").str.replace(\"2025\", \"\").str.replace(\"2026\", \"\").str.strip()"
   ]
  },
  {
   "cell_type": "code",
   "execution_count": 11,
   "metadata": {},
   "outputs": [
    {
     "data": {
      "text/plain": [
       "year\n",
       "2024    1499\n",
       "2025       1\n",
       "2026       1\n",
       "Name: count, dtype: int64"
      ]
     },
     "execution_count": 11,
     "metadata": {},
     "output_type": "execute_result"
    }
   ],
   "source": [
    "df.year.value_counts()"
   ]
  },
  {
   "cell_type": "code",
   "execution_count": 12,
   "metadata": {},
   "outputs": [
    {
     "data": {
      "text/html": [
       "<div>\n",
       "<style scoped>\n",
       "    .dataframe tbody tr th:only-of-type {\n",
       "        vertical-align: middle;\n",
       "    }\n",
       "\n",
       "    .dataframe tbody tr th {\n",
       "        vertical-align: top;\n",
       "    }\n",
       "\n",
       "    .dataframe thead th {\n",
       "        text-align: right;\n",
       "    }\n",
       "</style>\n",
       "<table border=\"1\" class=\"dataframe\">\n",
       "  <thead>\n",
       "    <tr style=\"text-align: right;\">\n",
       "      <th></th>\n",
       "      <th>pasarela</th>\n",
       "      <th>designer</th>\n",
       "      <th>temporada</th>\n",
       "      <th>url</th>\n",
       "      <th>tipo</th>\n",
       "      <th>year</th>\n",
       "    </tr>\n",
       "  </thead>\n",
       "  <tbody>\n",
       "    <tr>\n",
       "      <th>849</th>\n",
       "      <td>París</td>\n",
       "      <td>Aelis</td>\n",
       "      <td>Primavera-verano</td>\n",
       "      <td>https://media.fashionnetwork.com/cdn-cgi/image...</td>\n",
       "      <td>Alta costura</td>\n",
       "      <td>2025</td>\n",
       "    </tr>\n",
       "    <tr>\n",
       "      <th>850</th>\n",
       "      <td>París</td>\n",
       "      <td>Aelis</td>\n",
       "      <td>Primavera-verano</td>\n",
       "      <td>https://media.fashionnetwork.com/cdn-cgi/image...</td>\n",
       "      <td>Alta costura</td>\n",
       "      <td>2026</td>\n",
       "    </tr>\n",
       "  </tbody>\n",
       "</table>\n",
       "</div>"
      ],
      "text/plain": [
       "    pasarela designer         temporada  \\\n",
       "849    París    Aelis  Primavera-verano   \n",
       "850    París    Aelis  Primavera-verano   \n",
       "\n",
       "                                                   url          tipo  year  \n",
       "849  https://media.fashionnetwork.com/cdn-cgi/image...  Alta costura  2025  \n",
       "850  https://media.fashionnetwork.com/cdn-cgi/image...  Alta costura  2026  "
      ]
     },
     "execution_count": 12,
     "metadata": {},
     "output_type": "execute_result"
    }
   ],
   "source": [
    "df[df[\"year\"] != 2024]"
   ]
  },
  {
   "cell_type": "code",
   "execution_count": 16,
   "metadata": {},
   "outputs": [
    {
     "name": "stdout",
     "output_type": "stream",
     "text": [
      "https://nowfashion.com/imane-ayissi-couture-spring-summer-2024-paris/imane-ayissi-fashion-show-runway-couture-spring-summer-2024-paris-fashion-week-runway-look-01/\n",
      "https://nowfashion.com/imane-ayissi-couture-spring-summer-2024-paris/imane-ayissi-fashion-show-runway-couture-spring-summer-2024-paris-fashion-week-runway-look-02/\n",
      "https://nowfashion.com/imane-ayissi-couture-spring-summer-2024-paris/imane-ayissi-fashion-show-runway-couture-spring-summer-2024-paris-fashion-week-runway-look-03/\n",
      "https://nowfashion.com/imane-ayissi-couture-spring-summer-2024-paris/imane-ayissi-fashion-show-runway-couture-spring-summer-2024-paris-fashion-week-runway-look-04/\n",
      "https://nowfashion.com/imane-ayissi-couture-spring-summer-2024-paris/imane-ayissi-fashion-show-runway-couture-spring-summer-2024-paris-fashion-week-runway-look-05/\n",
      "https://nowfashion.com/imane-ayissi-couture-spring-summer-2024-paris/imane-ayissi-fashion-show-runway-couture-spring-summer-2024-paris-fashion-week-runway-look-06/\n",
      "https://nowfashion.com/imane-ayissi-couture-spring-summer-2024-paris/imane-ayissi-fashion-show-runway-couture-spring-summer-2024-paris-fashion-week-runway-look-07/\n",
      "https://nowfashion.com/imane-ayissi-couture-spring-summer-2024-paris/imane-ayissi-fashion-show-runway-couture-spring-summer-2024-paris-fashion-week-runway-look-08/\n",
      "https://nowfashion.com/imane-ayissi-couture-spring-summer-2024-paris/imane-ayissi-fashion-show-runway-couture-spring-summer-2024-paris-fashion-week-runway-look-09/\n",
      "https://nowfashion.com/imane-ayissi-couture-spring-summer-2024-paris/imane-ayissi-fashion-show-runway-couture-spring-summer-2024-paris-fashion-week-runway-look-10/\n",
      "https://nowfashion.com/imane-ayissi-couture-spring-summer-2024-paris/imane-ayissi-fashion-show-runway-couture-spring-summer-2024-paris-fashion-week-runway-look-11/\n",
      "https://nowfashion.com/imane-ayissi-couture-spring-summer-2024-paris/imane-ayissi-fashion-show-runway-couture-spring-summer-2024-paris-fashion-week-runway-look-12/\n",
      "https://nowfashion.com/imane-ayissi-couture-spring-summer-2024-paris/imane-ayissi-fashion-show-runway-couture-spring-summer-2024-paris-fashion-week-runway-look-13/\n",
      "https://nowfashion.com/imane-ayissi-couture-spring-summer-2024-paris/imane-ayissi-fashion-show-runway-couture-spring-summer-2024-paris-fashion-week-runway-look-14/\n",
      "https://nowfashion.com/imane-ayissi-couture-spring-summer-2024-paris/imane-ayissi-fashion-show-runway-couture-spring-summer-2024-paris-fashion-week-runway-look-15/\n",
      "https://nowfashion.com/imane-ayissi-couture-spring-summer-2024-paris/imane-ayissi-fashion-show-runway-couture-spring-summer-2024-paris-fashion-week-runway-look-16/\n",
      "https://nowfashion.com/imane-ayissi-couture-spring-summer-2024-paris/imane-ayissi-fashion-show-runway-couture-spring-summer-2024-paris-fashion-week-runway-look-17/\n",
      "https://nowfashion.com/imane-ayissi-couture-spring-summer-2024-paris/imane-ayissi-fashion-show-runway-couture-spring-summer-2024-paris-fashion-week-runway-look-18/\n",
      "https://nowfashion.com/imane-ayissi-couture-spring-summer-2024-paris/imane-ayissi-fashion-show-runway-couture-spring-summer-2024-paris-fashion-week-runway-look-19/\n",
      "https://nowfashion.com/imane-ayissi-couture-spring-summer-2024-paris/imane-ayissi-fashion-show-runway-couture-spring-summer-2024-paris-fashion-week-runway-look-20/\n",
      "https://nowfashion.com/imane-ayissi-couture-spring-summer-2024-paris/imane-ayissi-fashion-show-runway-couture-spring-summer-2024-paris-fashion-week-runway-look-21/\n",
      "https://nowfashion.com/imane-ayissi-couture-spring-summer-2024-paris/imane-ayissi-fashion-show-runway-couture-spring-summer-2024-paris-fashion-week-runway-look-22/\n",
      "https://nowfashion.com/imane-ayissi-couture-spring-summer-2024-paris/imane-ayissi-fashion-show-runway-couture-spring-summer-2024-paris-fashion-week-runway-look-23/\n",
      "https://nowfashion.com/imane-ayissi-couture-spring-summer-2024-paris/imane-ayissi-fashion-show-runway-couture-spring-summer-2024-paris-fashion-week-runway-look-24/\n",
      "https://nowfashion.com/imane-ayissi-couture-spring-summer-2024-paris/imane-ayissi-fashion-show-runway-couture-spring-summer-2024-paris-fashion-week-runway-look-25/\n",
      "https://media.fashionnetwork.com/cdn-cgi/image/fit=cover,width=320,height=480/m/b7ae/545e/667e/db39/0d2f/6820/9983/0756/968b/699f/699f.jpgç\n",
      "https://media.fashionnetwork.com/cdn-cgi/image/fit=cover\n"
     ]
    }
   ],
   "source": [
    "for i in df[~df[\"url\"].str.endswith(\"jpg\")][\"url\"]:\n",
    "    print(i)"
   ]
  },
  {
   "cell_type": "code",
   "execution_count": 13,
   "metadata": {},
   "outputs": [
    {
     "name": "stdout",
     "output_type": "stream",
     "text": [
      "https://media.fashionnetwork.com/cdn-cgi/image/fit=cover,width=320,height=480/m/8ad7/1a95/33e7/d5bc/eb0f/7bdc/f8f3/6bb8/2ab7/5d3c/5d3c.jpg\n",
      "https://media.fashionnetwork.com/cdn-cgi/image/fit=cover,width=320,height=480/m/2599/60f9/ce52/eb21/8043/7531/a31a/deb5/1069/5fb5/5fb5.jpg\n"
     ]
    }
   ],
   "source": [
    "for i in df[df[\"year\"] != 2024][\"url\"]:\n",
    "    print(i)"
   ]
  },
  {
   "cell_type": "code",
   "execution_count": 14,
   "metadata": {},
   "outputs": [],
   "source": [
    "df = df.groupby([\"designer\"]).head(1)"
   ]
  },
  {
   "cell_type": "code",
   "execution_count": 16,
   "metadata": {},
   "outputs": [],
   "source": [
    "df.to_csv(\"trendai_paris_2024_reduced.csv\", index=False)"
   ]
  },
  {
   "cell_type": "code",
   "execution_count": null,
   "metadata": {},
   "outputs": [],
   "source": []
  }
 ],
 "metadata": {
  "kernelspec": {
   "display_name": "TrendAi_repo-WZqMEwY8",
   "language": "python",
   "name": "python3"
  },
  "language_info": {
   "codemirror_mode": {
    "name": "ipython",
    "version": 3
   },
   "file_extension": ".py",
   "mimetype": "text/x-python",
   "name": "python",
   "nbconvert_exporter": "python",
   "pygments_lexer": "ipython3",
   "version": "3.10.13"
  }
 },
 "nbformat": 4,
 "nbformat_minor": 2
}
